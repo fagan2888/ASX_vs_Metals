{
 "nbformat": 4,
 "nbformat_minor": 2,
 "metadata": {
  "language_info": {
   "name": "python",
   "codemirror_mode": {
    "name": "ipython",
    "version": 3
   },
   "version": "3.6.6-final"
  },
  "orig_nbformat": 2,
  "file_extension": ".py",
  "mimetype": "text/x-python",
  "name": "python",
  "npconvert_exporter": "python",
  "pygments_lexer": "ipython3",
  "version": 3,
  "kernelspec": {
   "name": "python38264bitanalysisconda560f4d48401e46e0aeb16a6b36b69737",
   "display_name": "Python 3.8.2 64-bit ('analysis': conda)"
  }
 },
 "cells": [
  {
   "cell_type": "code",
   "execution_count": null,
   "metadata": {},
   "outputs": [],
   "source": [
    "import numpy as numpy\n",
    "import pandas as pd\n",
    "import indicators as idc\n",
    "import matplotlib.pyplot as plt\n",
    "import plotly\n",
    "import plotly.graph_objects as go\n",
    "import plotly.express as px \n",
    "from plotly.subplots import make_subplots"
   ]
  },
  {
   "cell_type": "code",
   "execution_count": null,
   "metadata": {},
   "outputs": [],
   "source": [
    "df = pd.read_csv('data/ASX_vs_Gold_vs_Silver.csv')\n",
    "date_col = pd.to_datetime(df['Date'], dayfirst=True)\n",
    "df['date'] = date_col.dt.date\n",
    "df.set_index('date',inplace=True)\n",
    "plt.plot([1,2,3])\n",
    "plt.show()"
   ]
  },
  {
   "cell_type": "code",
   "execution_count": null,
   "metadata": {},
   "outputs": [],
   "source": [
    "df['Stock to Gold ratio'] = df['Close']/df['Gold AUD']\n",
    "df['Stock to Silver ratio'] = df['Close']/df['Silver AUD']"
   ]
  },
  {
   "cell_type": "markdown",
   "metadata": {},
   "source": [
    "# "
   ],
   "execution_count": null,
   "outputs": []
  },
  {
   "cell_type": "code",
   "execution_count": null,
   "metadata": {},
   "outputs": [],
   "source": [
    "ratios_fig = make_subplots(specs=[[{\"secondary_y\": True}]])\n",
    "ratios_fig.add_trace(go.Scatter(x=df.index, y=df['Stock to Silver ratio'],\n",
    "                    mode='lines',\n",
    "                    name='Silver'), secondary_y=True,)\n",
    "ratios_fig.add_trace(\n",
    "    go.Scatter(x=df.index, y=df['Stock to Gold ratio'],\n",
    "                    mode='lines',\n",
    "                    name='Gold'), secondary_y=False)\n",
    "ratios_fig.update_yaxes(title_text=\"ASX to Gold ratio\", secondary_y=False)\n",
    "ratios_fig.update_yaxes(title_text=\"ASX to Silver ratio\", secondary_y=True)\n",
    "layout = go.Layout()\n",
    "layout['title'] = 'ASX to Gold and Silver price (per ounce) ratio'\n",
    "ratios_fig['layout'].update(layout)\n",
    "ratios_fig.show()"
   ]
  },
  {
   "cell_type": "code",
   "execution_count": null,
   "metadata": {},
   "outputs": [],
   "source": [
    "# Accummulative returns\n",
    "silver_trace = go.Scatter(x=df.index, y=df['Silver Accum. Return %'], \\\n",
    "                    mode='lines',\n",
    "                    name='Silver')\n",
    "gold_trace = go.Scatter(x=df.index, y=df['Gold Accum. Return %'], \\\n",
    "                    mode='lines',\n",
    "                    name='Gold')\n",
    "asx_trace = go.Scatter(x=df.index, y=df['ASX accum. Return %'], \\\n",
    "                    mode='lines',\n",
    "                    name='ASX')\n",
    "traces = [silver_trace, gold_trace, asx_trace]\n",
    "fig_accum_r = go.Figure(data=traces,\n",
    "    layout={\n",
    "        'title':'Cummulative return since 1992 for each asset class', \"yaxis_title\": \"Return %\"\n",
    "    }\n",
    ")\n",
    "fig_accum_r.show()"
   ]
  },
  {
   "cell_type": "code",
   "execution_count": null,
   "metadata": {},
   "outputs": [],
   "source": [
    "dfs = df[90:]\n",
    "dfs['2000 acc return ASX'] = (dfs['Close'] - dfs['Close'][0])/dfs['Close'][0]*100\n",
    "dfs['2000 acc return Silver'] = (dfs['Gold AUD'] - dfs['Gold AUD'][0]) /dfs['Gold AUD'][0]*100\n",
    "dfs['2000 acc return Gold'] = (dfs['Silver AUD']-dfs['Silver AUD'][0])/dfs['Silver AUD'][0]*100\n",
    "silver_trace = go.Scatter(x=dfs.index, y=dfs['2000 acc return Silver'], \\\n",
    "                    mode='lines',\n",
    "                    name='Silver')\n",
    "gold_trace = go.Scatter(x=dfs.index, y=dfs['2000 acc return Gold'], \\\n",
    "                    mode='lines',\n",
    "                    name='Gold')\n",
    "asx_trace = go.Scatter(x=dfs.index, y=dfs['2000 acc return ASX'], \\\n",
    "                    mode='lines',\n",
    "                    name='ASX')\n",
    "traces = [silver_trace, gold_trace, asx_trace]\n",
    "fig_accum_r = go.Figure(data=traces,\n",
    "    layout={\n",
    "        'title':'Cummulative return since 2000 for each assset class', \"yaxis_title\": \"Return %\"\n",
    "    }\n",
    ")\n",
    "fig_accum_r.show()\n"
   ]
  },
  {
   "cell_type": "code",
   "execution_count": null,
   "metadata": {},
   "outputs": [],
   "source": [
    "# ASX Bollinger\n",
    "dfs = df[120:]\n",
    "import indicators as idc\n",
    "bbp = idc.get_sma(dfs['Close'],lookback=10)\n",
    "bb_upper = idc.get_bb_upper(dfs['Close'],lookback=10)\n",
    "bb_lower = idc.get_bb_lower(dfs['Close'],lookback=10)\n",
    "price_trace = go.Scatter(x=dfs[10:].index, y=dfs['Close'][10:], \\\n",
    "                    mode='lines',\n",
    "                    name='Price', line = {'color':'forestgreen'})\n",
    "bbp_trace = go.Scatter(x=bbp.index, y=bbp, \\\n",
    "                    mode='lines',\n",
    "                    name='10 month moving average', line = {'color':'mediumblue','width':1.5})\n",
    "bb_upper_trace = go.Scatter(x=bbp.index, y=bb_upper, \\\n",
    "                    mode='lines',\n",
    "                    name='2-standard deviation bounds',fill='tonexty', fillcolor= 'rgba(153,50, 204, 0.4)',line = {'color':'darkorchid'})\n",
    "bb_lower_trace = go.Scatter(x=bbp.index, y=bb_lower, \\\n",
    "                    mode='lines',\n",
    "                    name='', line = {'color':'darkorchid'},showlegend=False)\n",
    "traces = [  bbp_trace,bb_lower_trace, bb_upper_trace,price_trace]\n",
    "fig_accum_r = go.Figure(data=traces,\n",
    "    layout={\n",
    "        'title':'Bollinger bands for ASX', \"yaxis_title\": \"$AUD\",\n",
    "        'xaxis': {'range':['2005-01-01','2020-04-01'], 'nticks':20, 'tickangle':40},\n",
    "        'legend': {'x':0.6,'y':0}\n",
    "    }\n",
    ")\n",
    "fig_accum_r.show()"
   ]
  },
  {
   "cell_type": "code",
   "execution_count": null,
   "metadata": {},
   "outputs": [],
   "source": [
    "# Gold Bollinger\n",
    "dfs = df[120:]\n",
    "import indicators as idc\n",
    "bbp = idc.get_sma(dfs['Gold AUD'],lookback=10)\n",
    "bb_upper = idc.get_bb_upper(dfs['Gold AUD'],lookback=10)\n",
    "bb_lower = idc.get_bb_lower(dfs['Gold AUD'],lookback=10)\n",
    "price_trace = go.Scatter(x=dfs[10:].index, y=dfs['Gold AUD'][10:], \\\n",
    "                    mode='lines',\n",
    "                    name='Price', line = {'color':'forestgreen'})\n",
    "bbp_trace = go.Scatter(x=bbp.index, y=bbp, \\\n",
    "                    mode='lines',\n",
    "                    name='10 month moving average', line = {'color':'mediumblue','width':1.5})\n",
    "bb_upper_trace = go.Scatter(x=bbp.index, y=bb_upper, \\\n",
    "                    mode='lines',\n",
    "                    name='2-standard deviation bounds',fill='tonexty', fillcolor= 'rgba(153,50, 204, 0.4)',line = {'color':'darkorchid'})\n",
    "bb_lower_trace = go.Scatter(x=bbp.index, y=bb_lower, \\\n",
    "                    mode='lines',\n",
    "                    name='', line = {'color':'darkorchid'},showlegend=False)\n",
    "traces = [  bbp_trace,bb_lower_trace, bb_upper_trace,price_trace]\n",
    "fig_accum_r = go.Figure(data=traces,\n",
    "    layout={\n",
    "        'title':'Bollinger bands for Gold price in $AUD', \"yaxis_title\": \"$AUD per ounce\",\n",
    "        'xaxis': {'range':['2005-01-01','2020-04-01'],  'nticks':20, 'tickangle':40},\n",
    "        'legend': {'x':0.6,'y':0}\n",
    "    }\n",
    ")\n",
    "fig_accum_r.show()"
   ]
  },
  {
   "cell_type": "code",
   "execution_count": null,
   "metadata": {},
   "outputs": [],
   "source": [
    "# Silver Bollinger\n",
    "dfs = df[120:]\n",
    "import indicators as idc\n",
    "bbp = idc.get_sma(dfs['Silver AUD'],lookback=10)\n",
    "bb_upper = idc.get_bb_upper(dfs['Silver AUD'],lookback=10)\n",
    "bb_lower = idc.get_bb_lower(dfs['Silver AUD'],lookback=10)\n",
    "price_trace = go.Scatter(x=dfs[10:].index, y=dfs['Silver AUD'][10:], \\\n",
    "                    mode='lines',\n",
    "                    name='Price', line = {'color':'forestgreen'})\n",
    "bbp_trace = go.Scatter(x=bbp.index, y=bbp, \\\n",
    "                    mode='lines',\n",
    "                    name='10 month moving average', line = {'color':'mediumblue','width':1.5})\n",
    "bb_upper_trace = go.Scatter(x=bbp.index, y=bb_upper, \\\n",
    "                    mode='lines',\n",
    "                    name='2-standard deviation bounds',fill='tonexty', fillcolor= 'rgba(153,50, 204, 0.4)',line = {'color':'darkorchid'})\n",
    "bb_lower_trace = go.Scatter(x=bbp.index, y=bb_lower, \\\n",
    "                    mode='lines',\n",
    "                    name='', line = {'color':'darkorchid'},showlegend=False)\n",
    "traces = [  bbp_trace,bb_lower_trace, bb_upper_trace,price_trace]\n",
    "fig_accum_r = go.Figure(data=traces,\n",
    "    layout={\n",
    "        'title':'Bollinger bands for Silver price in $AUD', \"yaxis_title\": \"$AUD per ounce\",\n",
    "        'xaxis': {'range':['2005-01-01','2020-04-01'],  'nticks':20, 'tickangle':40},\n",
    "        'legend': {'x':0.6,'y':1}\n",
    "    }\n",
    ")\n",
    "fig_accum_r.show()"
   ]
  },
  {
   "cell_type": "code",
   "execution_count": null,
   "metadata": {},
   "outputs": [],
   "source": [
    "'''\n",
    "labels = ['ASX to Silver ratio','ASX to Gold ratio']\n",
    "annotations = []\n",
    "a = dict(\n",
    "    x='1983', y=5, xanchor='left', yanchor='middle',\n",
    "    text = 'Stock to Silver', showarrow = False)\n",
    "annotations.append(a)\n",
    "layout = go.Layout()\n",
    "layout['annotations'] = annotations\n",
    "fig1 = make_subplots(specs=[[{\"secondary_y\": True}]])\n",
    "fig1['layout'].update(layout)\n",
    "'''"
   ]
  }
 ]
}