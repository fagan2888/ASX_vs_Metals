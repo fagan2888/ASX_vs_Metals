{
 "nbformat": 4,
 "nbformat_minor": 2,
 "metadata": {
  "language_info": {
   "name": "python",
   "codemirror_mode": {
    "name": "ipython",
    "version": 3
   },
   "version": "3.6.6-final"
  },
  "orig_nbformat": 2,
  "file_extension": ".py",
  "mimetype": "text/x-python",
  "name": "python",
  "npconvert_exporter": "python",
  "pygments_lexer": "ipython3",
  "version": 3,
  "kernelspec": {
   "name": "python38264bitanalysisconda560f4d48401e46e0aeb16a6b36b69737",
   "display_name": "Python 3.8.2 64-bit ('analysis': conda)"
  }
 },
 "cells": [
  {
   "cell_type": "markdown",
   "metadata": {},
   "source": [
    "# ASX vs Gold and Silver price during a downturn\n",
    "This notebook explores the relative movement of ASX stocks (using ASX 200 index) vs Gold and silver over the last 30 years.\n",
    "\n",
    "**Data collated from:**  \n",
    "* Exchange rate data: rba.gov.au\n",
    "* ASX data, Gold and Silver price data: marketindex.com.au  \n",
    "* Recent Gold and Silver data: LBMA.org.uk  \n"
   ]
  },
  {
   "cell_type": "code",
   "execution_count": 1,
   "metadata": {},
   "outputs": [],
   "source": [
    "import numpy as numpy\n",
    "import pandas as pd\n",
    "import indicators as idc\n",
    "import matplotlib.pyplot as plt\n",
    "import plotly\n",
    "import plotly.graph_objects as go\n",
    "import plotly.express as px \n",
    "from plotly.subplots import make_subplots"
   ]
  },
  {
   "cell_type": "code",
   "execution_count": 2,
   "metadata": {},
   "outputs": [],
   "source": [
    "df = pd.read_csv('data/ASX_vs_Gold_vs_Silver.csv')\n",
    "date_col = pd.to_datetime(df['Date'], dayfirst=True)\n",
    "df['date'] = date_col.dt.date\n",
    "df.set_index('date',inplace=True)"
   ]
  },
  {
   "cell_type": "code",
   "execution_count": 3,
   "metadata": {},
   "outputs": [],
   "source": [
    "df['Stock to Gold ratio'] = df['Close']/df['Gold AUD']\n",
    "df['Stock to Silver ratio'] = df['Close']/df['Silver AUD']"
   ]
  },
  {
   "cell_type": "code",
   "execution_count": 4,
   "metadata": {},
   "outputs": [
    {
     "output_type": "display_data",
     "data": {
      "image/svg+xml": "<svg class=\"main-svg\" xmlns=\"http://www.w3.org/2000/svg\" xmlns:xlink=\"http://www.w3.org/1999/xlink\" width=\"700\" height=\"450\" style=\"\" viewBox=\"0 0 700 450\"><rect x=\"0\" y=\"0\" width=\"700\" height=\"450\" style=\"fill: rgb(255, 255, 255); fill-opacity: 1;\"/><defs id=\"defs-5110b2\"><g class=\"clips\"><clipPath id=\"clip5110b2xyplot\" class=\"plotclip\"><rect width=\"486.91999999999996\" height=\"270\"/></clipPath><clipPath id=\"clip5110b2xy2plot\" class=\"plotclip\"><rect width=\"486.91999999999996\" height=\"270\"/></clipPath><clipPath class=\"axesclip\" id=\"clip5110b2x\"><rect x=\"80\" y=\"0\" width=\"486.91999999999996\" height=\"450\"/></clipPath><clipPath class=\"axesclip\" id=\"clip5110b2y\"><rect x=\"0\" y=\"100\" width=\"700\" height=\"270\"/></clipPath><clipPath class=\"axesclip\" id=\"clip5110b2xy\"><rect x=\"80\" y=\"100\" width=\"486.91999999999996\" height=\"270\"/></clipPath><clipPath class=\"axesclip\" id=\"clip5110b2y2\"><rect x=\"0\" y=\"100\" width=\"700\" height=\"270\"/></clipPath><clipPath class=\"axesclip\" id=\"clip5110b2xy2\"><rect x=\"80\" y=\"100\" width=\"486.91999999999996\" height=\"270\"/></clipPath></g><g class=\"gradients\"/></defs><g class=\"bglayer\"><rect class=\"bg\" x=\"80\" y=\"100\" width=\"486.91999999999996\" height=\"270\" style=\"fill: rgb(229, 236, 246); fill-opacity: 1; stroke-width: 0;\"/></g><g class=\"layer-below\"><g class=\"imagelayer\"/><g class=\"shapelayer\"/></g><g class=\"cartesianlayer\"><g class=\"subplot xy\"><g class=\"layer-subplot\"><g class=\"shapelayer\"/><g class=\"imagelayer\"/></g><g class=\"gridlayer\"><g class=\"x\"><path class=\"xgrid crisp\" transform=\"translate(107.73,0)\" d=\"M0,100v270\" style=\"stroke: rgb(255, 255, 255); stroke-opacity: 1; stroke-width: 1px;\"/><path class=\"xgrid crisp\" transform=\"translate(142.7,0)\" d=\"M0,100v270\" style=\"stroke: rgb(255, 255, 255); stroke-opacity: 1; stroke-width: 1px;\"/><path class=\"xgrid crisp\" transform=\"translate(177.70999999999998,0)\" d=\"M0,100v270\" style=\"stroke: rgb(255, 255, 255); stroke-opacity: 1; stroke-width: 1px;\"/><path class=\"xgrid crisp\" transform=\"translate(212.67,0)\" d=\"M0,100v270\" style=\"stroke: rgb(255, 255, 255); stroke-opacity: 1; stroke-width: 1px;\"/><path class=\"xgrid crisp\" transform=\"translate(247.69,0)\" d=\"M0,100v270\" style=\"stroke: rgb(255, 255, 255); stroke-opacity: 1; stroke-width: 1px;\"/><path class=\"xgrid crisp\" transform=\"translate(282.65,0)\" d=\"M0,100v270\" style=\"stroke: rgb(255, 255, 255); stroke-opacity: 1; stroke-width: 1px;\"/><path class=\"xgrid crisp\" transform=\"translate(317.65999999999997,0)\" d=\"M0,100v270\" style=\"stroke: rgb(255, 255, 255); stroke-opacity: 1; stroke-width: 1px;\"/><path class=\"xgrid crisp\" transform=\"translate(352.63,0)\" d=\"M0,100v270\" style=\"stroke: rgb(255, 255, 255); stroke-opacity: 1; stroke-width: 1px;\"/><path class=\"xgrid crisp\" transform=\"translate(387.64,0)\" d=\"M0,100v270\" style=\"stroke: rgb(255, 255, 255); stroke-opacity: 1; stroke-width: 1px;\"/><path class=\"xgrid crisp\" transform=\"translate(422.61,0)\" d=\"M0,100v270\" style=\"stroke: rgb(255, 255, 255); stroke-opacity: 1; stroke-width: 1px;\"/><path class=\"xgrid crisp\" transform=\"translate(457.62,0)\" d=\"M0,100v270\" style=\"stroke: rgb(255, 255, 255); stroke-opacity: 1; stroke-width: 1px;\"/><path class=\"xgrid crisp\" transform=\"translate(492.58,0)\" d=\"M0,100v270\" style=\"stroke: rgb(255, 255, 255); stroke-opacity: 1; stroke-width: 1px;\"/><path class=\"xgrid crisp\" transform=\"translate(527.6,0)\" d=\"M0,100v270\" style=\"stroke: rgb(255, 255, 255); stroke-opacity: 1; stroke-width: 1px;\"/><path class=\"xgrid crisp\" transform=\"translate(562.56,0)\" d=\"M0,100v270\" style=\"stroke: rgb(255, 255, 255); stroke-opacity: 1; stroke-width: 1px;\"/></g><g class=\"y\"><path class=\"ygrid crisp\" transform=\"translate(0,353)\" d=\"M80,0h486.91999999999996\" style=\"stroke: rgb(255, 255, 255); stroke-opacity: 1; stroke-width: 1px;\"/><path class=\"ygrid crisp\" transform=\"translate(0,314.25)\" d=\"M80,0h486.91999999999996\" style=\"stroke: rgb(255, 255, 255); stroke-opacity: 1; stroke-width: 1px;\"/><path class=\"ygrid crisp\" transform=\"translate(0,275.49)\" d=\"M80,0h486.91999999999996\" style=\"stroke: rgb(255, 255, 255); stroke-opacity: 1; stroke-width: 1px;\"/><path class=\"ygrid crisp\" transform=\"translate(0,236.74)\" d=\"M80,0h486.91999999999996\" style=\"stroke: rgb(255, 255, 255); stroke-opacity: 1; stroke-width: 1px;\"/><path class=\"ygrid crisp\" transform=\"translate(0,197.98000000000002)\" d=\"M80,0h486.91999999999996\" style=\"stroke: rgb(255, 255, 255); stroke-opacity: 1; stroke-width: 1px;\"/><path class=\"ygrid crisp\" transform=\"translate(0,159.23)\" d=\"M80,0h486.91999999999996\" style=\"stroke: rgb(255, 255, 255); stroke-opacity: 1; stroke-width: 1px;\"/><path class=\"ygrid crisp\" transform=\"translate(0,120.47)\" d=\"M80,0h486.91999999999996\" style=\"stroke: rgb(255, 255, 255); stroke-opacity: 1; stroke-width: 1px;\"/></g><g class=\"y2\"><path class=\"y2grid crisp\" transform=\"translate(0,366.73)\" d=\"M80,0h486.91999999999996\" style=\"stroke: rgb(255, 255, 255); stroke-opacity: 1; stroke-width: 1px;\"/><path class=\"y2grid crisp\" transform=\"translate(0,299.4)\" d=\"M80,0h486.91999999999996\" style=\"stroke: rgb(255, 255, 255); stroke-opacity: 1; stroke-width: 1px;\"/><path class=\"y2grid crisp\" transform=\"translate(0,232.07)\" d=\"M80,0h486.91999999999996\" style=\"stroke: rgb(255, 255, 255); stroke-opacity: 1; stroke-width: 1px;\"/><path class=\"y2grid crisp\" transform=\"translate(0,164.74)\" d=\"M80,0h486.91999999999996\" style=\"stroke: rgb(255, 255, 255); stroke-opacity: 1; stroke-width: 1px;\"/></g></g><g class=\"zerolinelayer\"/><path class=\"xlines-below\"/><path class=\"ylines-below\"/><g class=\"overlines-below\"><path class=\"xy2-x\"/><path class=\"xy2-y\"/></g><g class=\"xaxislayer-below\"/><g class=\"yaxislayer-below\"/><g class=\"overaxes-below\"><g class=\"xy2-x\"/><g class=\"xy2-y\"/></g><g class=\"plot\" transform=\"translate(80, 100)\" clip-path=\"url('#clip5110b2xyplot')\"><g class=\"scatterlayer mlayer\"><g class=\"trace scatter tracec4aa7e\" style=\"stroke-miterlimit: 2; opacity: 1;\"><g class=\"fills\"/><g class=\"errorbars\"/><g class=\"lines\"><path class=\"js-line\" d=\"M0,191L2.92,196.5L4.41,204.35L7.33,216.52L8.77,214.11L10.25,206.13L11.73,207.11L13.08,195.78L14.56,195.6L16,206.47L17.48,208.52L18.92,214.44L20.4,202.95L21.89,191.05L23.33,195.25L24.81,187.72L26.25,197.67L29.22,167.41L30.56,178.96L32.04,184.69L33.48,182.84L34.96,181.5L36.4,187.93L37.89,179.42L39.37,179.04L40.81,186.08L42.29,179.75L43.73,185.53L45.21,185.12L46.7,193.85L48.04,190.34L49.53,194.42L50.96,183.77L52.45,187.88L53.88,185.92L55.37,174.48L56.85,170.78L58.29,170.29L59.78,178.4L61.21,173.91L62.7,175.39L65.57,162.32L67.06,162.64L68.49,153.23L69.98,155.51L71.41,157.26L72.9,164.94L74.38,154.35L75.82,151.82L80.23,129.54L81.71,126.89L83.05,123.36L84.54,123.64L87.46,112.27L88.9,93.94L90.38,93.82L91.87,110.9L93.3,98.01L94.79,118.03L96.22,114.66L97.71,104.45L100.54,100.1L102.02,110.18L103.46,109.15L104.94,117.61L106.38,116.15L107.86,116.31L109.35,138.55L110.79,127.26L115.19,98.48L116.68,90.29L118.02,93.82L119.5,77.64L120.94,49.01L122.42,54.82L123.86,41.91L125.35,43.04L126.83,56.99L128.27,101.58L129.75,92.23L131.19,70.31L132.67,51.17L134.16,80.53L135.55,72.81L137.03,71.58L139.95,81.81L141.39,62.69L142.88,63.49L144.36,71.84L145.8,80.13L147.28,82.88L150.2,70.79L151.69,66.53L154.52,95.99L155.95,83.97L158.87,73.05L160.36,82.56L163.28,119.88L164.77,94.89L166.2,89.25L167.69,87.08L169.17,97.53L170.51,94.25L172,96.39L173.43,103.15L174.92,99.41L176.36,110.38L177.84,121.84L179.33,123.38L180.76,130.36L182.25,123.03L183.68,129.38L185.17,140.05L186.65,140.55L188,138.64L189.48,122.89L190.92,118.36L193.84,109.31L195.32,111.31L196.81,113.84L198.25,105.29L199.73,97.45L201.17,106.53L202.65,92.34L204.14,87.05L205.53,90.42L207.01,86.83L208.45,88.9L209.93,93.22L211.37,84.3L212.85,86.9L214.34,91.96L215.78,82.66L218.7,66.69L220.18,47.23L221.67,36.82L223.01,37.73L225.93,50.37L227.41,47.09L228.85,36.67L230.34,34.64L231.82,41.25L233.26,42.04L234.74,63.94L236.18,68.32L237.66,78.67L239.15,75.29L243.41,99.9L244.9,89.99L246.33,97.01L247.82,97.35L249.3,80.15L250.74,73.5L252.23,73.78L253.66,65.41L255.15,58.02L256.63,67.06L260.89,34.76L262.38,16.08L263.82,13.5L265.3,34.22L266.79,42.94L268.22,27.26L271.14,55.55L272.63,87.03L274.11,113.72L275.5,124.37L276.99,118.24L278.42,98.9L279.91,96.19L281.35,123.55L282.83,127.5L284.32,134.26L285.75,179.05L287.24,196.05L288.67,211.5L290.16,217.38L291.64,236.02L292.99,237.16L295.91,209.71L297.39,204.99L298.83,198.49L300.31,185.86L301.8,180.4L303.24,170.74L304.72,183.65L306.16,185.32L307.64,176.24L309.13,187.26L311.95,178.03L313.39,196.53L314.87,211.79L316.31,208.15L317.8,201.66L319.28,204.44L320.72,200.59L322.2,200.15L323.64,203.94L325.12,195.64L326.61,195.17L327.95,197.59L329.43,196.22L330.87,198.61L333.79,208.18L335.28,228.03L336.76,234.3L338.2,235.85L341.12,232.75L342.61,231.7L345.48,225.76L346.97,225.09L348.4,223.39L349.89,231.48L352.81,223.92L354.29,230.83L355.73,230.31L357.22,224.71L358.65,222.09L360.14,217.3L365.88,189.6L367.37,196.27L370.29,199.19L371.78,193.54L374.7,176.95L376.13,179.25L377.62,182.94L379.1,191.76L380.45,188.08L381.93,180.61L384.85,174.68L386.29,180.77L387.77,173.68L389.26,171.15L390.7,183.24L392.18,173.14L393.62,188.96L395.1,195.29L396.59,193.02L397.93,179.91L399.41,182.9L400.85,182.81L402.33,184.38L403.77,191.74L405.26,186.21L406.74,203.98L408.18,209.49L409.66,196.9L411.1,194.75L412.58,199.65L414.07,215.24L415.46,216.72L416.94,209.04L418.38,212.48L419.86,209.61L421.3,216.33L422.79,207.81L424.27,209.99L425.71,203.88L427.19,205.03L428.63,195.56L430.11,192.97L431.6,195.27L432.94,193.47L434.42,195.36L435.86,193.44L437.35,197.42L438.78,190.67L441.75,196.26L443.19,196.52L444.67,194.39L446.11,190.59L447.6,190.02L449.08,192.23L450.42,193.97L451.91,201.98L453.34,196.66L454.83,194.24L457.75,182.04L459.24,183.27L465.08,209.35L466.56,207.58L467.9,200.36L469.39,198.14L470.83,197.95L472.31,203.8L473.75,203.8L475.23,211.19L476.72,215.18L478.15,212.69L479.64,210.59L481.08,206.97L482.56,216.8L484.05,216.99L486.92,256.5\" style=\"vector-effect: non-scaling-stroke; fill: none; stroke: rgb(239, 85, 59); stroke-opacity: 1; stroke-width: 2px; opacity: 1;\"/></g><g class=\"points\"/><g class=\"text\"/></g></g></g><g class=\"overplot\"><g class=\"xy2\" transform=\"translate(80, 100)\" clip-path=\"url('#clip5110b2xy2plot')\"><g class=\"scatterlayer mlayer\"><g class=\"trace scatter traceada322\" style=\"stroke-miterlimit: 2; opacity: 1;\"><g class=\"fills\"/><g class=\"errorbars\"/><g class=\"lines\"><path class=\"js-line\" d=\"M0,123.47L1.44,123.62L2.92,124.99L5.84,143.24L7.33,158.19L8.77,152.47L10.25,140.75L11.73,141.05L13.08,122.24L14.56,131.65L16,156.77L17.48,153.81L18.92,176.45L20.4,160.58L21.89,129.93L23.33,137.02L24.81,129.34L26.25,156.06L27.73,141.23L29.22,127.9L30.56,147.69L32.04,154.14L33.48,153.41L34.96,148.91L36.4,153.22L37.89,141.63L39.37,147.28L40.81,155.03L42.29,140.2L43.73,134.27L45.21,133.65L46.7,144.53L48.04,133.97L49.53,166L50.96,156.77L52.45,154.99L53.88,145.93L56.85,138.21L58.29,135.46L59.78,142.66L61.21,130.51L62.7,137.73L64.18,133.53L65.57,124.82L67.06,122.28L68.49,109.42L69.98,107.08L71.41,105.94L72.9,116.74L75.82,94.29L77.31,80.05L78.74,75.21L80.23,73.99L81.71,92.21L83.05,90.65L84.54,74.37L85.97,68.24L87.46,62.51L88.9,29.45L90.38,37.97L91.87,73.52L93.3,73.31L94.79,111.62L96.22,147.1L97.71,140.92L99.19,161.2L100.54,144.29L102.02,147.62L103.46,127.26L104.94,128.8L106.38,134.27L107.86,129.98L109.35,141.34L112.27,113.67L113.71,104.3L115.19,109.27L116.68,117.29L118.02,107.58L119.5,89.09L120.94,77.63L122.42,85.14L123.86,86.27L125.35,90.86L126.83,95.02L128.27,105.54L129.75,98.95L131.19,85.93L132.67,68.34L134.16,85.99L135.55,80.59L137.03,85.58L138.47,90.97L139.95,87.1L141.39,70.53L142.88,73.16L145.8,90.79L147.28,89.49L148.72,74.98L150.2,77.07L151.69,69.98L153.03,77.8L154.52,91.33L155.95,70.64L157.44,63.85L158.87,52.62L160.36,54.61L161.84,77.9L163.28,98.6L164.77,59.52L166.2,68.13L167.69,70.11L169.17,63.48L170.51,67.68L172,64.52L173.43,70.25L174.92,70.24L176.36,89.94L177.84,86.98L179.33,81.56L180.76,84.02L182.25,78.92L185.17,88.64L186.65,79.14L188,83.61L189.48,70.48L190.92,57.43L192.4,36.36L193.84,52.96L195.32,59.62L196.81,58.21L198.25,37.66L199.73,29.35L201.17,52.14L202.65,63.12L204.14,67.99L205.53,99.34L207.01,92.01L208.45,58.85L209.93,58.02L211.37,64.06L212.85,79.42L214.34,71.78L215.78,79.13L217.26,72.31L218.7,48.83L220.18,18.4L221.67,26.79L224.49,33.61L225.93,41.6L227.41,43.94L228.85,25.04L230.34,14.25L231.82,13.5L233.26,27.09L234.74,53.43L237.66,71.18L239.15,75.77L241.98,132.2L243.41,132.88L244.9,103.4L246.33,105.09L247.82,123.72L249.3,111.28L250.74,107.84L252.23,117.49L253.66,116.94L255.15,100.43L256.63,115.31L257.97,97.78L259.46,90.75L260.89,73.45L263.82,50.32L265.3,56.97L266.79,56.6L268.22,43.32L271.14,65.68L272.63,98.74L275.5,156.25L276.99,142.35L278.42,124.29L279.91,120.65L281.35,146.68L282.83,132.66L284.32,105.37L285.75,130.14L288.67,170.11L290.16,184.61L291.64,218.61L292.99,219.81L294.47,196.4L295.91,195.12L297.39,193.28L298.83,173.65L300.31,167.83L301.8,175.5L303.24,166.14L304.72,172.66L306.16,172.06L307.64,165.63L309.13,162.27L310.47,167.52L311.95,165.98L313.39,181.74L314.87,196.24L316.31,192.85L317.8,185.83L319.28,198.59L320.72,204.57L322.2,217.16L323.64,229.89L325.12,222.15L326.61,229.18L327.95,242.22L329.43,252.14L330.87,239.88L332.36,240.1L333.79,245.92L335.28,256.5L336.76,256.44L338.2,248.41L339.68,245.7L341.12,241.78L342.61,241.66L344.09,243.81L345.48,241.62L346.97,238.26L348.4,231.13L349.89,236.11L351.32,230.57L352.81,229.15L354.29,244.17L355.73,242.36L357.22,237.51L358.65,234.88L360.14,228.42L361.62,222.41L362.96,210.66L365.88,183.66L367.37,185.78L368.81,183.8L370.29,193.33L371.78,191.78L373.21,181.55L374.7,170.1L376.13,169.82L377.62,173.76L379.1,183.5L383.37,156.38L384.85,158.96L386.29,171.07L387.77,155.75L389.26,148.56L390.7,152.15L392.18,132.7L393.62,152.2L395.1,162.05L396.59,159.95L397.93,143.97L399.41,145.79L400.85,150.95L402.33,147.77L403.77,153.27L405.26,146.51L408.18,178.89L409.66,160.37L411.1,154.75L412.58,155.95L414.07,174.49L415.46,174.3L416.94,172.71L418.38,181.04L419.86,178.03L421.3,200.89L422.79,188.51L424.27,190.04L425.71,176.91L427.19,179.26L428.63,169.13L430.11,164.44L431.6,171.77L432.94,167.35L434.42,169.46L435.86,157.18L437.35,162.07L438.78,147.96L441.75,158.29L443.19,158.1L444.67,155.65L446.11,144.28L447.6,144.65L449.08,141.94L450.42,143.27L451.91,154.62L453.34,150.13L454.83,150.4L457.75,127.59L459.24,119.06L465.08,159.67L466.56,155.71L467.9,142.03L469.39,137.39L470.83,131.83L472.31,134.48L473.75,136.44L475.23,152.76L476.72,167.4L478.15,160.39L479.64,155.81L481.08,148.87L482.56,162.35L484.05,158.09L485.44,153.51L486.92,190.68\" style=\"vector-effect: non-scaling-stroke; fill: none; stroke: rgb(99, 110, 250); stroke-opacity: 1; stroke-width: 2px; opacity: 1;\"/></g><g class=\"points\"/><g class=\"text\"/></g></g></g></g><path class=\"xlines-above crisp\" style=\"fill: none;\" d=\"M0,0\"/><path class=\"ylines-above crisp\" style=\"fill: none;\" d=\"M0,0\"/><g class=\"overlines-above\"><path class=\"xy2-x crisp\" style=\"fill: none;\" d=\"M0,0\"/><path class=\"xy2-y crisp\" style=\"fill: none;\" d=\"M0,0\"/></g><g class=\"xaxislayer-above\"><g class=\"xtick\"><text text-anchor=\"start\" x=\"0\" y=\"383\" transform=\"translate(107.73,0) rotate(40,0,377)\" style=\"font-family: 'Open Sans', verdana, arial, sans-serif; font-size: 12px; fill: rgb(42, 63, 95); fill-opacity: 1; white-space: pre;\">1994</text></g><g class=\"xtick\"><text text-anchor=\"start\" x=\"0\" y=\"383\" transform=\"translate(142.7,0) rotate(40,0,377)\" style=\"font-family: 'Open Sans', verdana, arial, sans-serif; font-size: 12px; fill: rgb(42, 63, 95); fill-opacity: 1; white-space: pre;\">1996</text></g><g class=\"xtick\"><text text-anchor=\"start\" x=\"0\" y=\"383\" transform=\"translate(177.70999999999998,0) rotate(40,0,377)\" style=\"font-family: 'Open Sans', verdana, arial, sans-serif; font-size: 12px; fill: rgb(42, 63, 95); fill-opacity: 1; white-space: pre;\">1998</text></g><g class=\"xtick\"><text text-anchor=\"start\" x=\"0\" y=\"383\" transform=\"translate(212.67,0) rotate(40,0,377)\" style=\"font-family: 'Open Sans', verdana, arial, sans-serif; font-size: 12px; fill: rgb(42, 63, 95); fill-opacity: 1; white-space: pre;\">2000</text></g><g class=\"xtick\"><text text-anchor=\"start\" x=\"0\" y=\"383\" transform=\"translate(247.69,0) rotate(40,0,377)\" style=\"font-family: 'Open Sans', verdana, arial, sans-serif; font-size: 12px; fill: rgb(42, 63, 95); fill-opacity: 1; white-space: pre;\">2002</text></g><g class=\"xtick\"><text text-anchor=\"start\" x=\"0\" y=\"383\" transform=\"translate(282.65,0) rotate(40,0,377)\" style=\"font-family: 'Open Sans', verdana, arial, sans-serif; font-size: 12px; fill: rgb(42, 63, 95); fill-opacity: 1; white-space: pre;\">2004</text></g><g class=\"xtick\"><text text-anchor=\"start\" x=\"0\" y=\"383\" transform=\"translate(317.65999999999997,0) rotate(40,0,377)\" style=\"font-family: 'Open Sans', verdana, arial, sans-serif; font-size: 12px; fill: rgb(42, 63, 95); fill-opacity: 1; white-space: pre;\">2006</text></g><g class=\"xtick\"><text text-anchor=\"start\" x=\"0\" y=\"383\" transform=\"translate(352.63,0) rotate(40,0,377)\" style=\"font-family: 'Open Sans', verdana, arial, sans-serif; font-size: 12px; fill: rgb(42, 63, 95); fill-opacity: 1; white-space: pre;\">2008</text></g><g class=\"xtick\"><text text-anchor=\"start\" x=\"0\" y=\"383\" transform=\"translate(387.64,0) rotate(40,0,377)\" style=\"font-family: 'Open Sans', verdana, arial, sans-serif; font-size: 12px; fill: rgb(42, 63, 95); fill-opacity: 1; white-space: pre;\">2010</text></g><g class=\"xtick\"><text text-anchor=\"start\" x=\"0\" y=\"383\" transform=\"translate(422.61,0) rotate(40,0,377)\" style=\"font-family: 'Open Sans', verdana, arial, sans-serif; font-size: 12px; fill: rgb(42, 63, 95); fill-opacity: 1; white-space: pre;\">2012</text></g><g class=\"xtick\"><text text-anchor=\"start\" x=\"0\" y=\"383\" transform=\"translate(457.62,0) rotate(40,0,377)\" style=\"font-family: 'Open Sans', verdana, arial, sans-serif; font-size: 12px; fill: rgb(42, 63, 95); fill-opacity: 1; white-space: pre;\">2014</text></g><g class=\"xtick\"><text text-anchor=\"start\" x=\"0\" y=\"383\" transform=\"translate(492.58,0) rotate(40,0,377)\" style=\"font-family: 'Open Sans', verdana, arial, sans-serif; font-size: 12px; fill: rgb(42, 63, 95); fill-opacity: 1; white-space: pre;\">2016</text></g><g class=\"xtick\"><text text-anchor=\"start\" x=\"0\" y=\"383\" transform=\"translate(527.6,0) rotate(40,0,377)\" style=\"font-family: 'Open Sans', verdana, arial, sans-serif; font-size: 12px; fill: rgb(42, 63, 95); fill-opacity: 1; white-space: pre;\">2018</text></g><g class=\"xtick\"><text text-anchor=\"start\" x=\"0\" y=\"383\" transform=\"translate(562.56,0) rotate(40,0,377)\" style=\"font-family: 'Open Sans', verdana, arial, sans-serif; font-size: 12px; fill: rgb(42, 63, 95); fill-opacity: 1; white-space: pre;\">2020</text></g></g><g class=\"yaxislayer-above\"><g class=\"ytick\"><text text-anchor=\"end\" x=\"79\" y=\"4.199999999999999\" transform=\"translate(0,353)\" style=\"font-family: 'Open Sans', verdana, arial, sans-serif; font-size: 12px; fill: rgb(42, 63, 95); fill-opacity: 1; white-space: pre;\">2</text></g><g class=\"ytick\"><text text-anchor=\"end\" x=\"79\" y=\"4.199999999999999\" transform=\"translate(0,314.25)\" style=\"font-family: 'Open Sans', verdana, arial, sans-serif; font-size: 12px; fill: rgb(42, 63, 95); fill-opacity: 1; white-space: pre;\">3</text></g><g class=\"ytick\"><text text-anchor=\"end\" x=\"79\" y=\"4.199999999999999\" transform=\"translate(0,275.49)\" style=\"font-family: 'Open Sans', verdana, arial, sans-serif; font-size: 12px; fill: rgb(42, 63, 95); fill-opacity: 1; white-space: pre;\">4</text></g><g class=\"ytick\"><text text-anchor=\"end\" x=\"79\" y=\"4.199999999999999\" transform=\"translate(0,236.74)\" style=\"font-family: 'Open Sans', verdana, arial, sans-serif; font-size: 12px; fill: rgb(42, 63, 95); fill-opacity: 1; white-space: pre;\">5</text></g><g class=\"ytick\"><text text-anchor=\"end\" x=\"79\" y=\"4.199999999999999\" transform=\"translate(0,197.98000000000002)\" style=\"font-family: 'Open Sans', verdana, arial, sans-serif; font-size: 12px; fill: rgb(42, 63, 95); fill-opacity: 1; white-space: pre;\">6</text></g><g class=\"ytick\"><text text-anchor=\"end\" x=\"79\" y=\"4.199999999999999\" transform=\"translate(0,159.23)\" style=\"font-family: 'Open Sans', verdana, arial, sans-serif; font-size: 12px; fill: rgb(42, 63, 95); fill-opacity: 1; white-space: pre;\">7</text></g><g class=\"ytick\"><text text-anchor=\"end\" x=\"79\" y=\"4.199999999999999\" transform=\"translate(0,120.47)\" style=\"font-family: 'Open Sans', verdana, arial, sans-serif; font-size: 12px; fill: rgb(42, 63, 95); fill-opacity: 1; white-space: pre;\">8</text></g></g><g class=\"overaxes-above\"><g class=\"xy2-x\"/><g class=\"xy2-y\"><g class=\"y2tick\"><text text-anchor=\"start\" x=\"567.92\" y=\"4.199999999999999\" transform=\"translate(0,366.73)\" style=\"font-family: 'Open Sans', verdana, arial, sans-serif; font-size: 12px; fill: rgb(42, 63, 95); fill-opacity: 1; white-space: pre;\">100</text></g><g class=\"y2tick\"><text text-anchor=\"start\" x=\"567.92\" y=\"4.199999999999999\" transform=\"translate(0,299.4)\" style=\"font-family: 'Open Sans', verdana, arial, sans-serif; font-size: 12px; fill: rgb(42, 63, 95); fill-opacity: 1; white-space: pre;\">200</text></g><g class=\"y2tick\"><text text-anchor=\"start\" x=\"567.92\" y=\"4.199999999999999\" transform=\"translate(0,232.07)\" style=\"font-family: 'Open Sans', verdana, arial, sans-serif; font-size: 12px; fill: rgb(42, 63, 95); fill-opacity: 1; white-space: pre;\">300</text></g><g class=\"y2tick\"><text text-anchor=\"start\" x=\"567.92\" y=\"4.199999999999999\" transform=\"translate(0,164.74)\" style=\"font-family: 'Open Sans', verdana, arial, sans-serif; font-size: 12px; fill: rgb(42, 63, 95); fill-opacity: 1; white-space: pre;\">400</text></g></g></g></g><g class=\"subplot xy2\"/></g><g class=\"polarlayer\"/><g class=\"ternarylayer\"/><g class=\"geolayer\"/><g class=\"funnelarealayer\"/><g class=\"pielayer\"/><g class=\"treemaplayer\"/><g class=\"sunburstlayer\"/><g class=\"glimages\"/><defs id=\"topdefs-5110b2\"><g class=\"clips\"/><clipPath id=\"legend5110b2\"><rect width=\"80\" height=\"48\" x=\"0\" y=\"0\"/></clipPath></defs><g class=\"layer-above\"><g class=\"imagelayer\"/><g class=\"shapelayer\"/></g><g class=\"infolayer\"><g class=\"legend\" pointer-events=\"all\" transform=\"translate(608.36, 100)\"><rect class=\"bg\" shape-rendering=\"crispEdges\" style=\"stroke: rgb(68, 68, 68); stroke-opacity: 1; fill: rgb(255, 255, 255); fill-opacity: 1; stroke-width: 0px;\" width=\"80\" height=\"48\" x=\"0\" y=\"0\"/><g class=\"scrollbox\" transform=\"translate(0, 0)\" clip-path=\"url('#legend5110b2')\"><g class=\"groups\"><g class=\"traces\" style=\"opacity: 1;\" transform=\"translate(0, 14.5)\"><text class=\"legendtext user-select-none\" text-anchor=\"start\" x=\"40\" y=\"4.680000000000001\" style=\"font-family: 'Open Sans', verdana, arial, sans-serif; font-size: 12px; fill: rgb(42, 63, 95); fill-opacity: 1; white-space: pre;\">Silver</text><g class=\"layers\" style=\"opacity: 1;\"><g class=\"legendfill\"/><g class=\"legendlines\"><path class=\"js-line\" d=\"M5,0h30\" style=\"fill: none; stroke: rgb(99, 110, 250); stroke-opacity: 1; stroke-width: 2px;\"/></g><g class=\"legendsymbols\"><g class=\"legendpoints\"/></g></g><rect class=\"legendtoggle\" pointer-events=\"all\" x=\"0\" y=\"-9.5\" width=\"74.21875\" height=\"19\" style=\"cursor: pointer; fill: rgb(0, 0, 0); fill-opacity: 0;\"/></g><g class=\"traces\" style=\"opacity: 1;\" transform=\"translate(0, 33.5)\"><text class=\"legendtext user-select-none\" text-anchor=\"start\" x=\"40\" y=\"4.680000000000001\" style=\"font-family: 'Open Sans', verdana, arial, sans-serif; font-size: 12px; fill: rgb(42, 63, 95); fill-opacity: 1; white-space: pre;\">Gold</text><g class=\"layers\" style=\"opacity: 1;\"><g class=\"legendfill\"/><g class=\"legendlines\"><path class=\"js-line\" d=\"M5,0h30\" style=\"fill: none; stroke: rgb(239, 85, 59); stroke-opacity: 1; stroke-width: 2px;\"/></g><g class=\"legendsymbols\"><g class=\"legendpoints\"/></g></g><rect class=\"legendtoggle\" pointer-events=\"all\" x=\"0\" y=\"-9.5\" width=\"74.21875\" height=\"19\" style=\"cursor: pointer; fill: rgb(0, 0, 0); fill-opacity: 0;\"/></g></g></g><rect class=\"scrollbar\" rx=\"20\" ry=\"3\" width=\"0\" height=\"0\" style=\"fill: rgb(128, 139, 164); fill-opacity: 1;\" x=\"0\" y=\"0\"/></g><g class=\"g-gtitle\"><text class=\"gtitle\" x=\"35\" y=\"50\" text-anchor=\"start\" dy=\"0em\" style=\"font-family: 'Open Sans', verdana, arial, sans-serif; font-size: 17px; fill: rgb(42, 63, 95); opacity: 1; font-weight: normal; white-space: pre;\">ASX to Gold and Silver price (per ounce) ratio</text></g><g class=\"g-xtitle\"/><g class=\"g-ytitle\"><text class=\"ytitle\" transform=\"rotate(-90,46.559375,235)\" x=\"46.559375\" y=\"235\" text-anchor=\"middle\" style=\"font-family: 'Open Sans', verdana, arial, sans-serif; font-size: 14px; fill: rgb(42, 63, 95); opacity: 1; font-weight: normal; white-space: pre;\">ASX to Gold ratio</text></g><g class=\"g-y2title\"><text class=\"y2title\" transform=\"rotate(-90,615.6125,235)\" x=\"615.6125\" y=\"235\" text-anchor=\"middle\" style=\"font-family: 'Open Sans', verdana, arial, sans-serif; font-size: 14px; fill: rgb(42, 63, 95); opacity: 1; font-weight: normal; white-space: pre;\">ASX to Silver ratio</text></g></g></svg>"
     },
     "metadata": {}
    }
   ],
   "source": [
    "ratios_fig = make_subplots(specs=[[{\"secondary_y\": True}]])\n",
    "ratios_fig.add_trace(go.Scatter(x=df.index, y=df['Stock to Silver ratio'],\n",
    "                    mode='lines',\n",
    "                    name='Silver'), secondary_y=True,)\n",
    "ratios_fig.add_trace(\n",
    "    go.Scatter(x=df.index, y=df['Stock to Gold ratio'],\n",
    "                    mode='lines',\n",
    "                    name='Gold'), secondary_y=False)\n",
    "ratios_fig.update_yaxes(title_text=\"ASX to Gold ratio\", secondary_y=False)\n",
    "ratios_fig.update_yaxes(title_text=\"ASX to Silver ratio\", secondary_y=True)\n",
    "layout = go.Layout()\n",
    "layout['title'] = 'ASX to Gold and Silver price (per ounce) ratio'\n",
    "layout['xaxis'] = {\"nticks\":20, \"tickangle\":40}\n",
    "ratios_fig['layout'].update(layout)\n",
    "ratios_fig.show(\"svg\")"
   ]
  },
  {
   "cell_type": "markdown",
   "metadata": {},
   "source": [
    "## ASX 200 index stock price to Gold and Silver ratio\n",
    "Precious metals are seen as safe havens when there's high inflation or downturn in the economy.  \n",
    "In the graph above, we can see the relative price between ASX stocks and gold/silver.  \n",
    "Gold's relative value to stocks peaked in 2009 during the GFC.  \n",
    "At the point of writing (April 2020), Gold's relative value to stocks aleady exceeded that during the GFC. This suggests that there may not be a lot of room for Gold to gain values relative to stocks.  \n",
    "Silver on the other hand, still has not reached its peak in 2011. This might suggest a buying opportunity."
   ]
  },
  {
   "cell_type": "code",
   "execution_count": 5,
   "metadata": {},
   "outputs": [
    {
     "output_type": "display_data",
     "data": {
      "image/svg+xml": "<svg class=\"main-svg\" xmlns=\"http://www.w3.org/2000/svg\" xmlns:xlink=\"http://www.w3.org/1999/xlink\" width=\"700\" height=\"450\" style=\"\" viewBox=\"0 0 700 450\"><rect x=\"0\" y=\"0\" width=\"700\" height=\"450\" style=\"fill: rgb(255, 255, 255); fill-opacity: 1;\"/><defs id=\"defs-7dccdb\"><g class=\"clips\"><clipPath id=\"clip7dccdbxyplot\" class=\"plotclip\"><rect width=\"518\" height=\"270\"/></clipPath><clipPath class=\"axesclip\" id=\"clip7dccdbx\"><rect x=\"80\" y=\"0\" width=\"518\" height=\"450\"/></clipPath><clipPath class=\"axesclip\" id=\"clip7dccdby\"><rect x=\"0\" y=\"100\" width=\"700\" height=\"270\"/></clipPath><clipPath class=\"axesclip\" id=\"clip7dccdbxy\"><rect x=\"80\" y=\"100\" width=\"518\" height=\"270\"/></clipPath></g><g class=\"gradients\"/></defs><g class=\"bglayer\"><rect class=\"bg\" x=\"80\" y=\"100\" width=\"518\" height=\"270\" style=\"fill: rgb(229, 236, 246); fill-opacity: 1; stroke-width: 0;\"/></g><g class=\"layer-below\"><g class=\"imagelayer\"/><g class=\"shapelayer\"/></g><g class=\"cartesianlayer\"><g class=\"subplot xy\"><g class=\"layer-subplot\"><g class=\"shapelayer\"/><g class=\"imagelayer\"/></g><g class=\"gridlayer\"><g class=\"x\"><path class=\"xgrid crisp\" transform=\"translate(109.5,0)\" d=\"M0,100v270\" style=\"stroke: rgb(255, 255, 255); stroke-opacity: 1; stroke-width: 1px;\"/><path class=\"xgrid crisp\" transform=\"translate(146.7,0)\" d=\"M0,100v270\" style=\"stroke: rgb(255, 255, 255); stroke-opacity: 1; stroke-width: 1px;\"/><path class=\"xgrid crisp\" transform=\"translate(183.95,0)\" d=\"M0,100v270\" style=\"stroke: rgb(255, 255, 255); stroke-opacity: 1; stroke-width: 1px;\"/><path class=\"xgrid crisp\" transform=\"translate(221.14,0)\" d=\"M0,100v270\" style=\"stroke: rgb(255, 255, 255); stroke-opacity: 1; stroke-width: 1px;\"/><path class=\"xgrid crisp\" transform=\"translate(258.39,0)\" d=\"M0,100v270\" style=\"stroke: rgb(255, 255, 255); stroke-opacity: 1; stroke-width: 1px;\"/><path class=\"xgrid crisp\" transform=\"translate(295.59000000000003,0)\" d=\"M0,100v270\" style=\"stroke: rgb(255, 255, 255); stroke-opacity: 1; stroke-width: 1px;\"/><path class=\"xgrid crisp\" transform=\"translate(332.83000000000004,0)\" d=\"M0,100v270\" style=\"stroke: rgb(255, 255, 255); stroke-opacity: 1; stroke-width: 1px;\"/><path class=\"xgrid crisp\" transform=\"translate(370.03,0)\" d=\"M0,100v270\" style=\"stroke: rgb(255, 255, 255); stroke-opacity: 1; stroke-width: 1px;\"/><path class=\"xgrid crisp\" transform=\"translate(407.28,0)\" d=\"M0,100v270\" style=\"stroke: rgb(255, 255, 255); stroke-opacity: 1; stroke-width: 1px;\"/><path class=\"xgrid crisp\" transform=\"translate(444.48,0)\" d=\"M0,100v270\" style=\"stroke: rgb(255, 255, 255); stroke-opacity: 1; stroke-width: 1px;\"/><path class=\"xgrid crisp\" transform=\"translate(481.72,0)\" d=\"M0,100v270\" style=\"stroke: rgb(255, 255, 255); stroke-opacity: 1; stroke-width: 1px;\"/><path class=\"xgrid crisp\" transform=\"translate(518.9200000000001,0)\" d=\"M0,100v270\" style=\"stroke: rgb(255, 255, 255); stroke-opacity: 1; stroke-width: 1px;\"/><path class=\"xgrid crisp\" transform=\"translate(556.1700000000001,0)\" d=\"M0,100v270\" style=\"stroke: rgb(255, 255, 255); stroke-opacity: 1; stroke-width: 1px;\"/><path class=\"xgrid crisp\" transform=\"translate(593.36,0)\" d=\"M0,100v270\" style=\"stroke: rgb(255, 255, 255); stroke-opacity: 1; stroke-width: 1px;\"/></g><g class=\"y\"><path class=\"ygrid crisp\" transform=\"translate(0,312.32)\" d=\"M80,0h518\" style=\"stroke: rgb(255, 255, 255); stroke-opacity: 1; stroke-width: 1px;\"/><path class=\"ygrid crisp\" transform=\"translate(0,274.77)\" d=\"M80,0h518\" style=\"stroke: rgb(255, 255, 255); stroke-opacity: 1; stroke-width: 1px;\"/><path class=\"ygrid crisp\" transform=\"translate(0,237.22)\" d=\"M80,0h518\" style=\"stroke: rgb(255, 255, 255); stroke-opacity: 1; stroke-width: 1px;\"/><path class=\"ygrid crisp\" transform=\"translate(0,199.67000000000002)\" d=\"M80,0h518\" style=\"stroke: rgb(255, 255, 255); stroke-opacity: 1; stroke-width: 1px;\"/><path class=\"ygrid crisp\" transform=\"translate(0,162.12)\" d=\"M80,0h518\" style=\"stroke: rgb(255, 255, 255); stroke-opacity: 1; stroke-width: 1px;\"/><path class=\"ygrid crisp\" transform=\"translate(0,124.57)\" d=\"M80,0h518\" style=\"stroke: rgb(255, 255, 255); stroke-opacity: 1; stroke-width: 1px;\"/></g></g><g class=\"zerolinelayer\"><path class=\"yzl zl crisp\" transform=\"translate(0,349.87)\" d=\"M80,0h518\" style=\"stroke: rgb(255, 255, 255); stroke-opacity: 1; stroke-width: 2px;\"/></g><path class=\"xlines-below\"/><path class=\"ylines-below\"/><g class=\"overlines-below\"/><g class=\"xaxislayer-below\"/><g class=\"yaxislayer-below\"/><g class=\"overaxes-below\"/><g class=\"plot\" transform=\"translate(80, 100)\" clip-path=\"url('#clip7dccdbxyplot')\"><g class=\"scatterlayer mlayer\"><g class=\"trace scatter trace5f7c9c\" style=\"stroke-miterlimit: 2; opacity: 1;\"><g class=\"fills\"/><g class=\"errorbars\"/><g class=\"lines\"><path class=\"js-line\" d=\"M0,249.87L3.11,251.19L4.69,251.44L6.22,251.26L7.8,249.76L9.32,250.2L10.9,249.85L12.48,250.47L13.91,251.92L15.49,249.07L17.02,243.36L18.6,242.74L20.13,236.35L21.71,238.3L23.29,242.82L24.81,242.26L26.39,240.5L27.92,236.51L29.5,236.6L31.08,236.91L32.51,234.83L34.09,236.4L35.62,235.93L40.3,239.11L41.88,236.14L43.41,236.47L44.99,240.06L46.52,244.86L48.1,244.44L51.11,243.82L52.69,235.9L54.22,234.92L55.79,236.12L57.32,238.55L58.9,237.34L62.01,238.58L63.59,238.23L65.12,239.25L66.7,236.54L68.28,235.92L69.76,238.05L72.86,241.02L74.44,242.51L75.97,243.26L77.55,242.27L82.24,245.67L83.77,245.77L85.35,245.17L86.93,241.95L88.35,241.97L89.93,245.23L91.46,245.09L93.04,243.93L94.57,246.87L96.15,245.54L100.84,237.05L102.37,227.29L103.95,225.75L105.53,217.6L106.95,223.24L108.53,220.59L110.06,226.68L111.64,227.39L113.17,226.58L114.75,226.94L119.44,233.5L120.97,233.17L122.54,231.33L124.12,227.92L127.13,233.12L128.66,232.67L130.24,234.63L131.77,233.08L133.35,231.15L134.93,231.62L136.46,230.22L138.03,231.78L139.56,231.86L141.14,233.03L142.72,229.82L144.2,230.22L147.31,227.95L148.89,229.54L150.42,229.16L152,229.62L155.1,224.5L156.68,225.68L158.21,228.78L159.79,229.57L162.8,227.2L164.38,227.31L167.49,229.44L169.01,229.92L170.59,232.22L172.17,228.08L173.7,227.32L175.28,232.48L178.39,227.29L179.97,228.04L186.08,228.08L187.61,226.29L189.19,229.51L190.77,230.08L192.3,232.34L193.88,232.1L195.41,230.73L196.99,230.6L200,235.58L201.57,236.66L203.1,236.98L204.68,240.49L207.79,234.68L209.37,233.63L210.9,237.85L212.48,237.62L215.59,230.92L217.17,230.35L218.64,220.98L220.22,221.94L221.75,230.13L223.33,229.27L226.44,222.97L228.02,224.62L229.55,220.75L231.13,220.49L234.24,227.91L235.82,225.42L237.24,223.81L238.82,223.97L240.35,224.25L241.93,221.74L245.04,223.76L246.62,223.07L251.25,207.48L252.83,203.39L254.41,198.87L255.84,188.93L257.42,169.57L258.95,166.17L260.53,186.84L262.06,184.61L263.64,177.49L265.22,180.9L266.75,181.75L268.32,172.1L269.85,170.29L271.43,174.84L273.01,164.98L274.44,172.91L276.02,173.16L277.55,177.65L279.13,179.94L280.66,184.87L282.24,184.58L283.81,183L285.34,182.67L286.92,174.66L288.45,174.47L290.03,162.46L291.61,154.85L293.09,142.02L294.67,157.83L296.2,163.66L297.78,164.49L299.3,158.34L302.46,183.28L303.99,182.76L305.57,183.93L307.1,181.55L308.68,171.92L310.26,145.17L311.69,151.64L313.27,166.75L314.79,161.18L316.37,161.59L317.9,173.04L319.48,169.01L321.06,156.39L322.59,156.4L325.7,152.8L327.28,153.28L328.86,164.02L330.28,158.22L331.86,152.9L333.39,141.02L334.97,138.34L336.5,146.12L338.08,146.82L339.66,136.61L341.19,123.27L342.77,102.45L344.3,83.3L345.88,90.72L347.46,77.14L348.88,43.36L350.46,13.5L351.99,49.87L353.57,55L355.1,44.95L356.68,22.82L358.26,30.68L359.79,70.36L361.37,61.78L362.9,80.33L364.48,83.76L366.05,68.32L367.53,71.73L369.11,77.49L370.64,89.26L372.22,94.36L373.75,103.88L375.33,98.67L376.91,64.67L378.44,65.54L380.02,70.39L383.12,83.28L384.7,84.74L386.13,95.57L387.71,120.2L392.35,139.13L393.93,120.88L395.51,119.99L397.03,128.72L400.14,137.14L401.72,132.53L403.3,127.52L404.73,130.14L406.31,141.62L407.84,144.09L409.42,141.89L410.95,133.89L417.21,160.12L418.74,151.91L420.32,141.48L421.9,138.51L423.33,142.77L424.91,142.24L426.44,140.77L428.01,143.58L429.54,147.35L431.12,146.43L432.7,143.6L434.23,137.29L437.34,153.78L438.92,149.47L440.5,141.9L441.98,145.72L443.56,141.28L445.08,128.18L446.66,127.55L448.19,105.13L449.77,110.17L451.35,112.41L452.88,126.99L454.46,128.04L455.99,134.38L457.57,132.49L459.15,126.77L460.57,128.5L462.15,122.17L463.68,132.07L465.26,133.05L466.79,144.8L469.95,136.61L471.48,137.62L473.06,133.76L474.59,141.47L476.17,138.89L477.75,141.65L479.17,141.16L480.75,138.53L483.86,135.58L485.39,141.19L488.55,151.08L490.08,146.12L491.66,150.81L493.19,146.51L494.76,137.26L496.34,134.87L499.35,141.67L500.88,142.35L502.46,138.74L503.99,132.06L505.57,113.1L507.15,103.6L510.25,114.03L511.78,115.92L513.36,106.82L514.94,102.44L516.42,121.96L518,123.21\" style=\"vector-effect: non-scaling-stroke; fill: none; stroke: rgb(99, 110, 250); stroke-opacity: 1; stroke-width: 2px; opacity: 1;\"/></g><g class=\"points\"/><g class=\"text\"/></g><g class=\"trace scatter tracef86562\" style=\"stroke-miterlimit: 2; opacity: 1;\"><g class=\"fills\"/><g class=\"errorbars\"/><g class=\"lines\"><path class=\"js-line\" d=\"M0,249.87L4.69,249.47L6.22,249.2L10.9,248.76L12.48,249.16L13.91,250.47L15.49,249.28L18.6,243.65L20.13,241.49L23.29,244.19L24.81,243.8L27.92,242.22L29.5,243.39L31.08,245.13L32.51,244.59L34.09,245.69L35.62,245.71L38.73,245.8L40.3,246.67L41.88,245.55L43.41,245.55L46.52,248.55L48.1,248.16L52.69,245.26L54.22,245.4L55.79,244.73L57.32,245.31L60.48,247.13L62.01,247.31L66.7,244.73L68.28,244.95L71.34,247.8L72.86,248.44L75.97,248.9L77.55,248.18L80.66,249.26L82.24,249.82L85.35,251.21L86.93,251.64L91.46,252.22L93.04,251.58L94.57,252.8L96.15,252.71L99.26,251.69L100.84,252.49L102.37,252.91L103.95,252.52L106.95,252.38L108.53,249.95L111.64,249.09L113.17,249.86L116.33,248.52L117.86,249.45L119.44,250.69L120.97,250.1L124.12,251.84L125.55,251.48L128.66,254.37L130.24,255.85L131.77,256.5L133.35,255.87L134.93,255.11L136.46,249.61L141.14,253.12L142.72,249.55L145.78,250.23L147.31,249.67L150.42,249.43L152,250L155.1,246.93L156.68,247.03L159.79,249.49L161.37,248.52L162.8,245.99L164.38,246.18L169.01,245.76L170.59,246.21L172.17,242.93L173.7,242.93L175.28,245.03L176.81,244.91L178.39,244.22L179.97,241.72L181.4,243.01L182.98,242.6L184.51,242.14L186.08,242.56L189.19,241.97L190.77,241.13L193.88,242.35L195.41,240.64L196.99,238.9L198.57,239.58L201.57,244.72L203.1,243.85L206.21,245.37L207.79,243.65L209.37,242.04L210.9,244.17L214.01,243.7L215.59,244.84L217.17,246.12L218.64,244.4L221.75,244.16L223.33,242.61L224.86,243.32L226.44,242.81L228.02,241.65L229.55,241.98L231.13,242.23L232.66,241.63L235.82,244.44L237.24,243.62L243.46,242.68L245.04,241.84L249.73,236.01L251.25,233.09L252.83,229.29L254.41,228.06L255.84,226.58L257.42,221.73L258.95,217.34L260.53,223.51L262.06,220.64L263.64,221.7L265.22,224.63L266.75,225.79L268.32,222.97L269.85,223.87L271.43,223.47L273.01,220.07L274.44,221.93L276.02,222.39L277.55,223.35L279.13,225.71L280.66,226.59L282.24,223.69L283.81,220.66L285.34,220.86L286.92,215.99L288.45,214.4L290.03,207.4L291.61,207.32L293.09,204.35L294.67,209.88L296.2,213.17L297.78,213.26L299.3,209.98L300.88,212.07L302.46,207L303.99,194.07L305.57,195.58L307.1,190.77L308.68,186.3L310.26,172.26L311.69,177.32L313.27,188.58L317.9,195.35L319.48,197.25L321.06,195.72L322.59,196.17L324.17,190.25L325.7,187.91L327.28,190.39L328.86,189.38L330.28,190.65L331.86,189.15L333.39,177.15L334.97,172.75L336.5,179.39L338.08,180.25L339.66,180.06L341.19,179.01L344.3,176.1L345.88,179.29L347.46,179.47L348.88,175.71L350.46,176.7L351.99,175.04L355.1,171.66L356.68,154.73L358.26,150.17L359.79,157.28L361.37,150.89L362.9,157.9L364.48,161.25L366.05,158.69L367.53,161.31L369.11,161.04L372.22,160.92L373.75,164.66L375.33,164.33L376.91,154.35L378.44,152.86L380.02,156.21L381.54,159.69L383.12,161.22L384.7,162.23L386.13,165.28L387.71,173.99L389.24,174.2L390.82,174.64L392.35,175.99L393.93,169.19L395.51,172.2L397.03,177.73L398.61,178.84L400.14,179.33L401.72,175.95L404.73,170.8L406.31,176.82L409.42,179.1L410.95,176.67L412.52,177.04L414.1,178.93L415.63,176.97L417.21,179.49L420.32,164.44L421.9,162.51L423.33,166.43L424.91,164.76L426.44,166.94L428.01,165.92L429.54,166.52L431.12,166.04L432.7,160.95L434.23,159.9L437.34,170.46L438.92,163.05L440.5,153.96L441.98,155.59L443.56,158.83L445.08,150.67L446.66,150.7L448.19,146.56L451.35,148.88L452.88,155.5L454.46,157.18L455.99,163.52L457.57,160.82L459.15,159.69L460.57,159.32L462.15,154.05L465.26,155.22L466.79,161.68L469.95,156.61L471.48,157.11L473.06,154L474.59,156.3L480.75,149.7L482.28,150.05L483.86,151.83L485.39,154.73L486.97,157.42L488.55,155.52L490.08,151.84L491.66,153.81L496.34,140.8L497.77,141.74L499.35,143.93L500.88,140.77L503.99,126.89L505.57,111.96L507.15,111.44L508.68,112.96L510.25,116.65L511.78,117.12L518,76.6\" style=\"vector-effect: non-scaling-stroke; fill: none; stroke: rgb(239, 85, 59); stroke-opacity: 1; stroke-width: 2px; opacity: 1;\"/></g><g class=\"points\"/><g class=\"text\"/></g><g class=\"trace scatter tracecac4eb\" style=\"stroke-miterlimit: 2; opacity: 1;\"><g class=\"fills\"/><g class=\"errorbars\"/><g class=\"lines\"><path class=\"js-line\" d=\"M0,249.87L4.69,253.11L6.22,254.64L7.8,255.95L9.32,255.34L10.9,252.96L12.48,253.57L15.49,250.54L17.02,250.3L18.6,249.15L20.13,249.21L23.29,244.21L24.81,245.13L26.39,241.81L27.92,244.39L31.08,237.98L32.51,240.9L34.09,243.8L35.62,243.27L37.2,242.9L38.73,244.88L41.88,241.96L43.41,244.08L44.99,243.79L46.52,247.03L48.1,246.51L49.68,248.11L51.11,245.99L52.69,246.29L54.22,243.22L55.79,243.77L57.32,243.79L58.9,241.53L62.01,241.35L63.59,242.71L66.7,239.95L68.28,238.35L69.76,238.34L71.34,239.75L72.86,237.89L74.44,239L77.55,240.85L79.13,239.05L80.66,238.55L82.24,237.06L86.93,235.2L88.35,234.86L89.93,235.42L91.46,234.02L94.57,228.72L96.15,228.52L97.73,231.76L99.26,227.87L100.84,234.22L102.37,234.02L103.95,230.86L105.53,230.13L110.06,227.75L111.64,228.93L113.17,229.7L114.75,228.8L116.33,233.89L117.86,232.1L119.44,230.96L120.97,228.26L124.12,226.14L125.55,226.44L127.13,224.27L128.66,220.72L130.24,225.04L131.77,223.46L133.35,222.41L134.93,224.07L136.46,225.37L138.03,225.27L141.14,218.74L142.72,219.57L145.78,218.4L147.31,218.78L148.89,219.55L150.42,214.48L152,215.81L153.58,214.77L155.1,214.75L156.68,215.73L158.21,215.29L159.79,216.79L161.37,213.81L162.8,214.14L164.38,218.09L165.91,214.08L167.49,212.99L169.01,210.53L170.59,214.19L172.17,215.26L173.7,220.25L175.28,215.83L179.97,211.11L181.4,212.21L182.98,212.2L184.51,213.62L186.08,213.11L187.61,216.58L189.19,219.44L190.77,218.69L192.3,221.98L193.88,220.39L195.41,219.98L196.99,221.18L198.57,222.28L200,225.72L203.1,221.17L204.68,221.09L206.21,220.74L207.79,218.64L209.37,216.94L210.9,217.6L212.48,215.34L214.01,217.23L215.59,214.73L217.17,215.34L220.22,212.19L221.75,212.51L224.86,209.6L226.44,209.52L228.02,209.16L229.55,206.68L235.82,196.94L237.24,195.5L238.82,196.89L240.35,199.68L245.04,190.74L246.62,189.46L248.15,185.18L249.73,189.18L254.41,178.83L255.84,179.01L258.95,171.57L260.53,177.24L262.06,175.65L263.64,177.59L265.22,174.73L266.75,173.88L268.32,168.81L269.85,166.66L273.01,160.24L274.44,158.94L279.13,148.34L280.66,149.19L282.24,152.07L283.81,149.8L286.92,138.63L288.45,143.5L290.03,147.76L291.61,162.95L293.09,164.67L294.67,169.44L296.2,164.16L297.78,162.86L300.88,177.77L302.46,174.29L307.1,204.98L308.68,205.42L311.69,213.75L313.27,208.51L314.79,204.14L316.37,203.32L317.9,200.3L319.48,193.93L322.59,182.93L324.17,185.14L325.7,183.86L327.28,180.13L328.86,186.76L330.28,185.26L331.86,180.02L333.39,181.52L334.97,189.84L336.5,192.66L338.08,188.44L339.66,190.4L341.19,186.46L342.77,184.73L344.3,186.43L345.88,182.89L347.46,182.7L348.88,180.98L351.99,181.17L353.57,183.7L355.1,185.91L356.68,189.95L358.26,192.77L359.79,199.12L361.37,192.74L362.9,196.67L364.48,198.06L366.05,193.52L370.64,190.57L372.22,197.63L373.75,197.22L375.33,193.38L378.44,190.78L380.02,187.92L381.54,188.16L383.12,185.01L386.13,174.98L387.71,178.01L389.24,173.07L390.82,178.89L392.35,181.63L393.93,176.13L397.03,172.46L398.61,167.9L400.14,170.23L401.72,169.52L403.3,173.09L404.73,168.36L406.31,168.58L407.84,166.5L409.42,166.43L410.95,168.56L412.52,163.34L414.1,163.49L415.63,170.83L417.21,165.68L418.74,170.38L420.32,168.22L421.9,164.32L423.33,156.82L424.91,157.64L426.44,159.87L428.01,160.16L429.54,167.17L431.12,161.88L432.7,172.72L434.23,176.8L435.81,172L437.34,173.61L438.92,170.76L440.5,177.15L441.98,179.9L446.66,168.94L448.19,172.13L449.77,164.89L451.35,167.74L452.88,167.67L454.46,170.28L455.99,167.58L457.57,162.61L459.15,163.6L460.57,161.59L462.15,158.23L463.68,156.92L465.26,161.32L466.79,161.38L469.95,161.54L471.48,162.26L473.06,157.25L474.59,155.91L476.17,153.81L477.75,154.42L479.17,154.89L480.75,160.55L482.28,155.63L483.86,154.98L485.39,150.96L486.97,149.07L488.55,148.21L490.08,150.67L491.66,158.99L493.19,162.58L494.76,163.04L496.34,158.23L497.77,151.53L499.35,151.27L503.99,141.62L505.57,137.35L507.15,141.94L508.68,140.08L510.25,140.63L511.78,136.61L513.36,140.18L514.94,132.84L516.42,145.53L518,175.59\" style=\"vector-effect: non-scaling-stroke; fill: none; stroke: rgb(0, 204, 150); stroke-opacity: 1; stroke-width: 2px; opacity: 1;\"/></g><g class=\"points\"/><g class=\"text\"/></g></g></g><g class=\"overplot\"/><path class=\"xlines-above crisp\" style=\"fill: none;\" d=\"M0,0\"/><path class=\"ylines-above crisp\" style=\"fill: none;\" d=\"M0,0\"/><g class=\"overlines-above\"/><g class=\"xaxislayer-above\"><g class=\"xtick\"><text text-anchor=\"start\" x=\"0\" y=\"383\" transform=\"translate(109.5,0) rotate(60,0,377)\" style=\"font-family: 'Open Sans', verdana, arial, sans-serif; font-size: 12px; fill: rgb(42, 63, 95); fill-opacity: 1; white-space: pre;\">1994</text></g><g class=\"xtick\"><text text-anchor=\"start\" x=\"0\" y=\"383\" transform=\"translate(146.7,0) rotate(60,0,377)\" style=\"font-family: 'Open Sans', verdana, arial, sans-serif; font-size: 12px; fill: rgb(42, 63, 95); fill-opacity: 1; white-space: pre;\">1996</text></g><g class=\"xtick\"><text text-anchor=\"start\" x=\"0\" y=\"383\" transform=\"translate(183.95,0) rotate(60,0,377)\" style=\"font-family: 'Open Sans', verdana, arial, sans-serif; font-size: 12px; fill: rgb(42, 63, 95); fill-opacity: 1; white-space: pre;\">1998</text></g><g class=\"xtick\"><text text-anchor=\"start\" x=\"0\" y=\"383\" transform=\"translate(221.14,0) rotate(60,0,377)\" style=\"font-family: 'Open Sans', verdana, arial, sans-serif; font-size: 12px; fill: rgb(42, 63, 95); fill-opacity: 1; white-space: pre;\">2000</text></g><g class=\"xtick\"><text text-anchor=\"start\" x=\"0\" y=\"383\" transform=\"translate(258.39,0) rotate(60,0,377)\" style=\"font-family: 'Open Sans', verdana, arial, sans-serif; font-size: 12px; fill: rgb(42, 63, 95); fill-opacity: 1; white-space: pre;\">2002</text></g><g class=\"xtick\"><text text-anchor=\"start\" x=\"0\" y=\"383\" transform=\"translate(295.59000000000003,0) rotate(60,0,377)\" style=\"font-family: 'Open Sans', verdana, arial, sans-serif; font-size: 12px; fill: rgb(42, 63, 95); fill-opacity: 1; white-space: pre;\">2004</text></g><g class=\"xtick\"><text text-anchor=\"start\" x=\"0\" y=\"383\" transform=\"translate(332.83000000000004,0) rotate(60,0,377)\" style=\"font-family: 'Open Sans', verdana, arial, sans-serif; font-size: 12px; fill: rgb(42, 63, 95); fill-opacity: 1; white-space: pre;\">2006</text></g><g class=\"xtick\"><text text-anchor=\"start\" x=\"0\" y=\"383\" transform=\"translate(370.03,0) rotate(60,0,377)\" style=\"font-family: 'Open Sans', verdana, arial, sans-serif; font-size: 12px; fill: rgb(42, 63, 95); fill-opacity: 1; white-space: pre;\">2008</text></g><g class=\"xtick\"><text text-anchor=\"start\" x=\"0\" y=\"383\" transform=\"translate(407.28,0) rotate(60,0,377)\" style=\"font-family: 'Open Sans', verdana, arial, sans-serif; font-size: 12px; fill: rgb(42, 63, 95); fill-opacity: 1; white-space: pre;\">2010</text></g><g class=\"xtick\"><text text-anchor=\"start\" x=\"0\" y=\"383\" transform=\"translate(444.48,0) rotate(60,0,377)\" style=\"font-family: 'Open Sans', verdana, arial, sans-serif; font-size: 12px; fill: rgb(42, 63, 95); fill-opacity: 1; white-space: pre;\">2012</text></g><g class=\"xtick\"><text text-anchor=\"start\" x=\"0\" y=\"383\" transform=\"translate(481.72,0) rotate(60,0,377)\" style=\"font-family: 'Open Sans', verdana, arial, sans-serif; font-size: 12px; fill: rgb(42, 63, 95); fill-opacity: 1; white-space: pre;\">2014</text></g><g class=\"xtick\"><text text-anchor=\"start\" x=\"0\" y=\"383\" transform=\"translate(518.9200000000001,0) rotate(60,0,377)\" style=\"font-family: 'Open Sans', verdana, arial, sans-serif; font-size: 12px; fill: rgb(42, 63, 95); fill-opacity: 1; white-space: pre;\">2016</text></g><g class=\"xtick\"><text text-anchor=\"start\" x=\"0\" y=\"383\" transform=\"translate(556.1700000000001,0) rotate(60,0,377)\" style=\"font-family: 'Open Sans', verdana, arial, sans-serif; font-size: 12px; fill: rgb(42, 63, 95); fill-opacity: 1; white-space: pre;\">2018</text></g><g class=\"xtick\"><text text-anchor=\"start\" x=\"0\" y=\"383\" transform=\"translate(593.36,0) rotate(60,0,377)\" style=\"font-family: 'Open Sans', verdana, arial, sans-serif; font-size: 12px; fill: rgb(42, 63, 95); fill-opacity: 1; white-space: pre;\">2020</text></g></g><g class=\"yaxislayer-above\"><g class=\"ytick\"><text text-anchor=\"end\" x=\"79\" y=\"4.199999999999999\" transform=\"translate(0,349.87)\" style=\"font-family: 'Open Sans', verdana, arial, sans-serif; font-size: 12px; fill: rgb(42, 63, 95); fill-opacity: 1; white-space: pre;\">0</text></g><g class=\"ytick\"><text text-anchor=\"end\" x=\"79\" y=\"4.199999999999999\" transform=\"translate(0,312.32)\" style=\"font-family: 'Open Sans', verdana, arial, sans-serif; font-size: 12px; fill: rgb(42, 63, 95); fill-opacity: 1; white-space: pre;\">100</text></g><g class=\"ytick\"><text text-anchor=\"end\" x=\"79\" y=\"4.199999999999999\" transform=\"translate(0,274.77)\" style=\"font-family: 'Open Sans', verdana, arial, sans-serif; font-size: 12px; fill: rgb(42, 63, 95); fill-opacity: 1; white-space: pre;\">200</text></g><g class=\"ytick\"><text text-anchor=\"end\" x=\"79\" y=\"4.199999999999999\" transform=\"translate(0,237.22)\" style=\"font-family: 'Open Sans', verdana, arial, sans-serif; font-size: 12px; fill: rgb(42, 63, 95); fill-opacity: 1; white-space: pre;\">300</text></g><g class=\"ytick\"><text text-anchor=\"end\" x=\"79\" y=\"4.199999999999999\" transform=\"translate(0,199.67000000000002)\" style=\"font-family: 'Open Sans', verdana, arial, sans-serif; font-size: 12px; fill: rgb(42, 63, 95); fill-opacity: 1; white-space: pre;\">400</text></g><g class=\"ytick\"><text text-anchor=\"end\" x=\"79\" y=\"4.199999999999999\" transform=\"translate(0,162.12)\" style=\"font-family: 'Open Sans', verdana, arial, sans-serif; font-size: 12px; fill: rgb(42, 63, 95); fill-opacity: 1; white-space: pre;\">500</text></g><g class=\"ytick\"><text text-anchor=\"end\" x=\"79\" y=\"4.199999999999999\" transform=\"translate(0,124.57)\" style=\"font-family: 'Open Sans', verdana, arial, sans-serif; font-size: 12px; fill: rgb(42, 63, 95); fill-opacity: 1; white-space: pre;\">600</text></g></g><g class=\"overaxes-above\"/></g></g><g class=\"polarlayer\"/><g class=\"ternarylayer\"/><g class=\"geolayer\"/><g class=\"funnelarealayer\"/><g class=\"pielayer\"/><g class=\"treemaplayer\"/><g class=\"sunburstlayer\"/><g class=\"glimages\"/><defs id=\"topdefs-7dccdb\"><g class=\"clips\"/><clipPath id=\"legend7dccdb\"><rect width=\"80\" height=\"67\" x=\"0\" y=\"0\"/></clipPath></defs><g class=\"layer-above\"><g class=\"imagelayer\"/><g class=\"shapelayer\"/></g><g class=\"infolayer\"><g class=\"legend\" pointer-events=\"all\" transform=\"translate(608.36, 100)\"><rect class=\"bg\" shape-rendering=\"crispEdges\" style=\"stroke: rgb(68, 68, 68); stroke-opacity: 1; fill: rgb(255, 255, 255); fill-opacity: 1; stroke-width: 0px;\" width=\"80\" height=\"67\" x=\"0\" y=\"0\"/><g class=\"scrollbox\" transform=\"translate(0, 0)\" clip-path=\"url('#legend7dccdb')\"><g class=\"groups\"><g class=\"traces\" style=\"opacity: 1;\" transform=\"translate(0, 14.5)\"><text class=\"legendtext user-select-none\" text-anchor=\"start\" x=\"40\" y=\"4.680000000000001\" style=\"font-family: 'Open Sans', verdana, arial, sans-serif; font-size: 12px; fill: rgb(42, 63, 95); fill-opacity: 1; white-space: pre;\">Silver</text><g class=\"layers\" style=\"opacity: 1;\"><g class=\"legendfill\"/><g class=\"legendlines\"><path class=\"js-line\" d=\"M5,0h30\" style=\"fill: none; stroke: rgb(99, 110, 250); stroke-opacity: 1; stroke-width: 2px;\"/></g><g class=\"legendsymbols\"><g class=\"legendpoints\"/></g></g><rect class=\"legendtoggle\" pointer-events=\"all\" x=\"0\" y=\"-9.5\" width=\"74.21875\" height=\"19\" style=\"cursor: pointer; fill: rgb(0, 0, 0); fill-opacity: 0;\"/></g><g class=\"traces\" style=\"opacity: 1;\" transform=\"translate(0, 33.5)\"><text class=\"legendtext user-select-none\" text-anchor=\"start\" x=\"40\" y=\"4.680000000000001\" style=\"font-family: 'Open Sans', verdana, arial, sans-serif; font-size: 12px; fill: rgb(42, 63, 95); fill-opacity: 1; white-space: pre;\">Gold</text><g class=\"layers\" style=\"opacity: 1;\"><g class=\"legendfill\"/><g class=\"legendlines\"><path class=\"js-line\" d=\"M5,0h30\" style=\"fill: none; stroke: rgb(239, 85, 59); stroke-opacity: 1; stroke-width: 2px;\"/></g><g class=\"legendsymbols\"><g class=\"legendpoints\"/></g></g><rect class=\"legendtoggle\" pointer-events=\"all\" x=\"0\" y=\"-9.5\" width=\"74.21875\" height=\"19\" style=\"cursor: pointer; fill: rgb(0, 0, 0); fill-opacity: 0;\"/></g><g class=\"traces\" style=\"opacity: 1;\" transform=\"translate(0, 52.5)\"><text class=\"legendtext user-select-none\" text-anchor=\"start\" x=\"40\" y=\"4.680000000000001\" style=\"font-family: 'Open Sans', verdana, arial, sans-serif; font-size: 12px; fill: rgb(42, 63, 95); fill-opacity: 1; white-space: pre;\">ASX</text><g class=\"layers\" style=\"opacity: 1;\"><g class=\"legendfill\"/><g class=\"legendlines\"><path class=\"js-line\" d=\"M5,0h30\" style=\"fill: none; stroke: rgb(0, 204, 150); stroke-opacity: 1; stroke-width: 2px;\"/></g><g class=\"legendsymbols\"><g class=\"legendpoints\"/></g></g><rect class=\"legendtoggle\" pointer-events=\"all\" x=\"0\" y=\"-9.5\" width=\"74.21875\" height=\"19\" style=\"cursor: pointer; fill: rgb(0, 0, 0); fill-opacity: 0;\"/></g></g></g><rect class=\"scrollbar\" rx=\"20\" ry=\"3\" width=\"0\" height=\"0\" style=\"fill: rgb(128, 139, 164); fill-opacity: 1;\" x=\"0\" y=\"0\"/></g><g class=\"g-gtitle\"><text class=\"gtitle\" x=\"35\" y=\"50\" text-anchor=\"start\" dy=\"0em\" style=\"font-family: 'Open Sans', verdana, arial, sans-serif; font-size: 17px; fill: rgb(42, 63, 95); opacity: 1; font-weight: normal; white-space: pre;\">Cummulative return since 1992 for each asset class</text></g><g class=\"g-xtitle\"/><g class=\"g-ytitle\"><text class=\"ytitle\" transform=\"rotate(-90,31.309375000000003,235)\" x=\"31.309375000000003\" y=\"235\" text-anchor=\"middle\" style=\"font-family: 'Open Sans', verdana, arial, sans-serif; font-size: 14px; fill: rgb(42, 63, 95); opacity: 1; font-weight: normal; white-space: pre;\">Return %</text></g></g></svg>"
     },
     "metadata": {}
    }
   ],
   "source": [
    "# Accummulative returns\n",
    "silver_trace = go.Scatter(x=df.index, y=df['Silver Accum. Return %'], \\\n",
    "                    mode='lines',\n",
    "                    name='Silver')\n",
    "gold_trace = go.Scatter(x=df.index, y=df['Gold Accum. Return %'], \\\n",
    "                    mode='lines',\n",
    "                    name='Gold')\n",
    "asx_trace = go.Scatter(x=df.index, y=df['ASX accum. Return %'], \\\n",
    "                    mode='lines',\n",
    "                    name='ASX')\n",
    "traces = [silver_trace, gold_trace, asx_trace]\n",
    "fig_accum_r = go.Figure(data=traces,\n",
    "    layout={\n",
    "        'title':'Cummulative return since 1992 for each asset class', \"yaxis_title\": \"Return %\",\n",
    "        \"xaxis\": {\"nticks\":20, \"tickangle\":60}\n",
    "    }\n",
    ")\n",
    "fig_accum_r.show(\"svg\")"
   ]
  },
  {
   "cell_type": "markdown",
   "metadata": {},
   "source": [
    "## Cummulative return of the three asset classes from 1992\n",
    "Over the last ~30 years, gold saw 450% return, compared to 350% for Silver and 300% for Australian stocks (prior to the Corona's downturn).  \n",
    "This does not take into account devidend from stocks and holding cost for Gold and Silver.  "
   ]
  },
  {
   "cell_type": "code",
   "execution_count": 11,
   "metadata": {},
   "outputs": [
    {
     "output_type": "display_data",
     "data": {
      "application/vnd.plotly.v1+json": {
       "config": {
        "plotlyServerURL": "https://plot.ly"
       },
       "data": [
        {
         "mode": "lines",
         "name": "Silver",
         "type": "scatter",
         "x": [
          "1999-12-01",
          "2000-01-01",
          "2000-02-01",
          "2000-03-01",
          "2000-04-01",
          "2000-05-01",
          "2000-06-01",
          "2000-07-01",
          "2000-08-01",
          "2000-09-01",
          "2000-10-01",
          "2000-11-01",
          "2000-12-01",
          "2001-01-01",
          "2001-02-01",
          "2001-03-01",
          "2001-04-01",
          "2001-05-01",
          "2001-06-01",
          "2001-07-01",
          "2001-08-01",
          "2001-09-01",
          "2001-10-01",
          "2001-11-01",
          "2001-12-01",
          "2002-01-01",
          "2002-02-01",
          "2002-03-01",
          "2002-04-01",
          "2002-05-01",
          "2002-06-01",
          "2002-07-01",
          "2002-08-01",
          "2002-09-01",
          "2002-10-01",
          "2002-11-01",
          "2002-12-01",
          "2003-01-01",
          "2003-02-01",
          "2003-03-01",
          "2003-04-01",
          "2003-05-01",
          "2003-06-01",
          "2003-07-01",
          "2003-08-01",
          "2003-09-01",
          "2003-10-01",
          "2003-11-01",
          "2003-12-01",
          "2004-01-01",
          "2004-02-01",
          "2004-03-01",
          "2004-04-01",
          "2004-05-01",
          "2004-06-01",
          "2004-07-01",
          "2004-08-01",
          "2004-09-01",
          "2004-10-01",
          "2004-11-01",
          "2004-12-01",
          "2005-01-01",
          "2005-02-01",
          "2005-03-01",
          "2005-04-01",
          "2005-05-01",
          "2005-06-01",
          "2005-07-01",
          "2005-08-01",
          "2005-09-01",
          "2005-10-01",
          "2005-11-01",
          "2005-12-01",
          "2006-01-01",
          "2006-02-01",
          "2006-03-01",
          "2006-04-01",
          "2006-05-01",
          "2006-06-01",
          "2006-07-01",
          "2006-08-01",
          "2006-09-01",
          "2006-10-01",
          "2006-11-01",
          "2006-12-01",
          "2007-01-01",
          "2007-02-01",
          "2007-03-01",
          "2007-04-01",
          "2007-05-01",
          "2007-06-01",
          "2007-07-01",
          "2007-08-01",
          "2007-09-01",
          "2007-10-01",
          "2007-11-01",
          "2007-12-01",
          "2008-01-01",
          "2008-02-01",
          "2008-03-01",
          "2008-04-01",
          "2008-05-01",
          "2008-06-01",
          "2008-07-01",
          "2008-08-01",
          "2008-09-01",
          "2008-10-01",
          "2008-11-01",
          "2008-12-01",
          "2009-01-01",
          "2009-02-01",
          "2009-03-01",
          "2009-04-01",
          "2009-05-01",
          "2009-06-01",
          "2009-07-01",
          "2009-08-01",
          "2009-09-01",
          "2009-10-01",
          "2009-11-01",
          "2009-12-01",
          "2010-01-01",
          "2010-02-01",
          "2010-03-01",
          "2010-04-01",
          "2010-05-01",
          "2010-06-01",
          "2010-07-01",
          "2010-08-01",
          "2010-09-01",
          "2010-10-01",
          "2010-11-01",
          "2010-12-01",
          "2011-01-01",
          "2011-02-01",
          "2011-03-01",
          "2011-04-01",
          "2011-05-01",
          "2011-06-01",
          "2011-07-01",
          "2011-08-01",
          "2011-09-01",
          "2011-10-01",
          "2011-11-01",
          "2011-12-01",
          "2012-01-01",
          "2012-02-01",
          "2012-03-01",
          "2012-04-01",
          "2012-05-01",
          "2012-06-01",
          "2012-07-01",
          "2012-08-01",
          "2012-09-01",
          "2012-10-01",
          "2012-11-01",
          "2012-12-01",
          "2013-01-01",
          "2013-02-01",
          "2013-03-01",
          "2013-04-01",
          "2013-05-01",
          "2013-06-01",
          "2013-07-01",
          "2013-08-01",
          "2013-09-01",
          "2013-10-01",
          "2013-11-01",
          "2013-12-01",
          "2014-01-01",
          "2014-02-01",
          "2014-03-01",
          "2014-04-01",
          "2014-05-01",
          "2014-06-01",
          "2014-07-01",
          "2014-08-01",
          "2014-09-01",
          "2014-10-01",
          "2014-11-01",
          "2014-12-01",
          "2015-01-01",
          "2015-02-01",
          "2015-03-01",
          "2015-04-01",
          "2015-05-01",
          "2015-06-01",
          "2015-07-01",
          "2015-08-01",
          "2015-09-01",
          "2015-10-01",
          "2015-11-01",
          "2015-12-01",
          "2016-01-01",
          "2016-02-01",
          "2016-03-01",
          "2016-04-01",
          "2016-05-01",
          "2016-06-01",
          "2016-07-01",
          "2016-08-01",
          "2016-09-01",
          "2016-10-01",
          "2016-11-01",
          "2016-12-01",
          "2017-01-01",
          "2017-02-01",
          "2017-03-01",
          "2017-04-01",
          "2017-05-01",
          "2017-06-01",
          "2017-07-01",
          "2017-08-01",
          "2017-09-01",
          "2017-10-01",
          "2017-11-01",
          "2017-12-01",
          "2018-01-01",
          "2018-02-01",
          "2018-03-01",
          "2018-04-01",
          "2018-05-01",
          "2018-06-01",
          "2018-07-01",
          "2018-08-01",
          "2018-09-01",
          "2018-10-01",
          "2018-11-01",
          "2018-12-01",
          "2019-01-01",
          "2019-02-01",
          "2019-03-01",
          "2019-04-01",
          "2019-05-01",
          "2019-06-01",
          "2019-07-01",
          "2019-08-01",
          "2019-09-01",
          "2019-10-01",
          "2019-11-01",
          "2019-12-01",
          "2020-01-01",
          "2020-02-01",
          "2020-03-01",
          "2020-04-01"
         ],
         "y": [
          0,
          -2.2287522603978207,
          7.940777576853525,
          6.218354430379758,
          6.00361663652803,
          7.6017179023508135,
          8.526220614828215,
          8.30470162748644,
          6.659132007233282,
          11.683996383363473,
          15.415913200723338,
          15.135623869801092,
          12.567811934900549,
          8.13969258589513,
          10.89511754068717,
          18.112567811934902,
          17.558770343580484,
          18.30018083182641,
          17.897830018083198,
          18.75678119349006,
          17.457052441229663,
          26.810578661844488,
          26.828661844484643,
          20.8250452079566,
          21.182188065099467,
          23.157775768535274,
          30.255424954792048,
          26.598101265822805,
          27.76898734177216,
          29.075497287522605,
          27.879746835443047,
          27.979204339963832,
          29.55922242314647,
          31.959764918625677,
          30.03164556962026,
          28.476491862567816,
          33.3363471971067,
          38.311482820976494,
          36.36301989150091,
          27.87748643761303,
          21.733725135623867,
          24.18851717902351,
          21.127938517179032,
          19.873417721519004,
          24.77848101265823,
          29.364828209764916,
          23.27983725135624,
          22.9859855334539,
          24.624773960217013,
          21.36980108499098,
          17.73508137432189,
          22.617540687160957,
          22.77802893309222,
          23.304701627486445,
          27.744122965641953,
          25.698462929475603,
          27.15867992766727,
          30.463381555153706,
          29.538878842676326,
          28.82685352622061,
          30.540235081374327,
          25.25994575045208,
          22.5113019891501,
          24.853074141048836,
          25.49954792043401,
          24.554701627486438,
          26.925858951175407,
          27.524864376130196,
          29.943490054249555,
          34.66998191681736,
          40.94258589511754,
          46.555153707052455,
          54.85759493670888,
          65.68942133815551,
          69.20207956600362,
          73.44032549728752,
          87.24005424954794,
          99.76717902350815,
          82.16998191681736,
          90.35488245931285,
          87.32820976491864,
          78.98734177215192,
          75.67811934900544,
          83.72287522603979,
          81.15506329113924,
          82.28074141048825,
          91.97332730560579,
          86.68625678119349,
          85.37070524412297,
          82.6356238698011,
          75.89737793851718,
          73.39963833634721,
          81.65687160940325,
          90.30741410488245,
          89.72423146473781,
          103.59855334538881,
          108.14421338155518,
          128.10352622061484,
          128.31826401446656,
          136.7902350813743,
          121.02396021699819,
          111.63878842676311,
          111.40370705244125,
          120.748191681736,
          114.77622061482822,
          129.2405063291139,
          166.08499095840872,
          161.76989150090415,
          175.48824593128393,
          188.2278481012658,
          228.25045207956603,
          213.8449367088608,
          181.73146473779389,
          174.14104882459313,
          166.46473779385173,
          162.43218806509947,
          157.02757685352623,
          161.3969258589512,
          160.0994575045208,
          176.97106690777576,
          183.65280289330926,
          176.56871609403254,
          179.4507233273056,
          175.8340867992767,
          180.10171790235086,
          214.33092224231464,
          226.85352622061484,
          207.94981916817358,
          205.48824593128393,
          206.03526220614833,
          209.0167269439421,
          213.24819168173602,
          217.2965641952984,
          208.22332730560578,
          207.6966546112116,
          218.4222423146474,
          215.58996383363476,
          220.32775768535265,
          225.6125678119349,
          229.97061482820976,
          278.2368896925859,
          291.2273960216998,
          270.95162748643764,
          289.17947558770345,
          269.1839963833635,
          259.64059674502715,
          266.9371609403255,
          259.4755877034358,
          260.2328209764919,
          259.55244122965644,
          260.5718806509946,
          249.92314647377935,
          250.86347197106696,
          279.3150994575046,
          283.5556057866184,
          274.0122061482821,
          264.0754972875226,
          259.73327305605784,
          256.84674502712477,
          248.1329113924051,
          223.32956600361666,
          222.72830018083184,
          221.4828209764919,
          217.61528028933097,
          237.0185352622062,
          228.4222423146474,
          212.65144665461128,
          209.5072332730561,
          208.10804701627487,
          217.72603978300177,
          227.6650090415913,
          232.41636528028934,
          215.2712477396022,
          212.73734177215192,
          208.76582278481015,
          215.6713381555154,
          214.63607594936713,
          209.2563291139241,
          214.83273056057865,
          207.63562386980112,
          228.8019891500904,
          250.54249547920438,
          256.0443037974684,
          244.8621157323689,
          249.63833634719714,
          243.4086799276673,
          246.33589511754067,
          244.61347197106696,
          245.99683544303795,
          260.4905063291139,
          263.4832730560579,
          243.51491862567812,
          233.38381555153714,
          254.5140144665461,
          280.41591320072337,
          275.7730560578662,
          266.5438517179024,
          289.8056057866184,
          289.71518987341767,
          301.51446654611215,
          297.1066907775769,
          294.9141048824593,
          276.0397830018083,
          271.24773960217,
          253.16455696202533,
          260.84990958408684,
          264.08227848101274,
          265.1446654611212,
          280.1537070524413,
          278.61663652802895,
          276.8083182640145,
          258.40867992766727,
          266.32007233273055,
          272.87522603978294,
          271.45117540687164,
          280.28933092224236,
          273.75678119349004,
          278.1871609403255,
          282.48191681735983,
          285.9629294755877,
          292.5406871609403,
          291.5461121157324,
          286.4828209764919,
          278.2323688969259,
          270.5470162748644,
          275.9719710669078,
          286.46021699819175,
          280.83182640144673,
          292.4728752260398,
          308.2278481012658,
          317.9249547920434,
          315.2350813743219,
          309.0189873417721,
          318.01537070524415,
          342.246835443038,
          357.5949367088608,
          400.1356238698011,
          401.627486437613,
          397.27848101265823,
          386.76763110307417,
          385.4294755877034,
          414.9186256781194,
          441.500904159132,
          478.3453887884267,
          500.9041591320073
         ]
        },
        {
         "mode": "lines",
         "name": "Gold",
         "type": "scatter",
         "x": [
          "1999-12-01",
          "2000-01-01",
          "2000-02-01",
          "2000-03-01",
          "2000-04-01",
          "2000-05-01",
          "2000-06-01",
          "2000-07-01",
          "2000-08-01",
          "2000-09-01",
          "2000-10-01",
          "2000-11-01",
          "2000-12-01",
          "2001-01-01",
          "2001-02-01",
          "2001-03-01",
          "2001-04-01",
          "2001-05-01",
          "2001-06-01",
          "2001-07-01",
          "2001-08-01",
          "2001-09-01",
          "2001-10-01",
          "2001-11-01",
          "2001-12-01",
          "2002-01-01",
          "2002-02-01",
          "2002-03-01",
          "2002-04-01",
          "2002-05-01",
          "2002-06-01",
          "2002-07-01",
          "2002-08-01",
          "2002-09-01",
          "2002-10-01",
          "2002-11-01",
          "2002-12-01",
          "2003-01-01",
          "2003-02-01",
          "2003-03-01",
          "2003-04-01",
          "2003-05-01",
          "2003-06-01",
          "2003-07-01",
          "2003-08-01",
          "2003-09-01",
          "2003-10-01",
          "2003-11-01",
          "2003-12-01",
          "2004-01-01",
          "2004-02-01",
          "2004-03-01",
          "2004-04-01",
          "2004-05-01",
          "2004-06-01",
          "2004-07-01",
          "2004-08-01",
          "2004-09-01",
          "2004-10-01",
          "2004-11-01",
          "2004-12-01",
          "2005-01-01",
          "2005-02-01",
          "2005-03-01",
          "2005-04-01",
          "2005-05-01",
          "2005-06-01",
          "2005-07-01",
          "2005-08-01",
          "2005-09-01",
          "2005-10-01",
          "2005-11-01",
          "2005-12-01",
          "2006-01-01",
          "2006-02-01",
          "2006-03-01",
          "2006-04-01",
          "2006-05-01",
          "2006-06-01",
          "2006-07-01",
          "2006-08-01",
          "2006-09-01",
          "2006-10-01",
          "2006-11-01",
          "2006-12-01",
          "2007-01-01",
          "2007-02-01",
          "2007-03-01",
          "2007-04-01",
          "2007-05-01",
          "2007-06-01",
          "2007-07-01",
          "2007-08-01",
          "2007-09-01",
          "2007-10-01",
          "2007-11-01",
          "2007-12-01",
          "2008-01-01",
          "2008-02-01",
          "2008-03-01",
          "2008-04-01",
          "2008-05-01",
          "2008-06-01",
          "2008-07-01",
          "2008-08-01",
          "2008-09-01",
          "2008-10-01",
          "2008-11-01",
          "2008-12-01",
          "2009-01-01",
          "2009-02-01",
          "2009-03-01",
          "2009-04-01",
          "2009-05-01",
          "2009-06-01",
          "2009-07-01",
          "2009-08-01",
          "2009-09-01",
          "2009-10-01",
          "2009-11-01",
          "2009-12-01",
          "2010-01-01",
          "2010-02-01",
          "2010-03-01",
          "2010-04-01",
          "2010-05-01",
          "2010-06-01",
          "2010-07-01",
          "2010-08-01",
          "2010-09-01",
          "2010-10-01",
          "2010-11-01",
          "2010-12-01",
          "2011-01-01",
          "2011-02-01",
          "2011-03-01",
          "2011-04-01",
          "2011-05-01",
          "2011-06-01",
          "2011-07-01",
          "2011-08-01",
          "2011-09-01",
          "2011-10-01",
          "2011-11-01",
          "2011-12-01",
          "2012-01-01",
          "2012-02-01",
          "2012-03-01",
          "2012-04-01",
          "2012-05-01",
          "2012-06-01",
          "2012-07-01",
          "2012-08-01",
          "2012-09-01",
          "2012-10-01",
          "2012-11-01",
          "2012-12-01",
          "2013-01-01",
          "2013-02-01",
          "2013-03-01",
          "2013-04-01",
          "2013-05-01",
          "2013-06-01",
          "2013-07-01",
          "2013-08-01",
          "2013-09-01",
          "2013-10-01",
          "2013-11-01",
          "2013-12-01",
          "2014-01-01",
          "2014-02-01",
          "2014-03-01",
          "2014-04-01",
          "2014-05-01",
          "2014-06-01",
          "2014-07-01",
          "2014-08-01",
          "2014-09-01",
          "2014-10-01",
          "2014-11-01",
          "2014-12-01",
          "2015-01-01",
          "2015-02-01",
          "2015-03-01",
          "2015-04-01",
          "2015-05-01",
          "2015-06-01",
          "2015-07-01",
          "2015-08-01",
          "2015-09-01",
          "2015-10-01",
          "2015-11-01",
          "2015-12-01",
          "2016-01-01",
          "2016-02-01",
          "2016-03-01",
          "2016-04-01",
          "2016-05-01",
          "2016-06-01",
          "2016-07-01",
          "2016-08-01",
          "2016-09-01",
          "2016-10-01",
          "2016-11-01",
          "2016-12-01",
          "2017-01-01",
          "2017-02-01",
          "2017-03-01",
          "2017-04-01",
          "2017-05-01",
          "2017-06-01",
          "2017-07-01",
          "2017-08-01",
          "2017-09-01",
          "2017-10-01",
          "2017-11-01",
          "2017-12-01",
          "2018-01-01",
          "2018-02-01",
          "2018-03-01",
          "2018-04-01",
          "2018-05-01",
          "2018-06-01",
          "2018-07-01",
          "2018-08-01",
          "2018-09-01",
          "2018-10-01",
          "2018-11-01",
          "2018-12-01",
          "2019-01-01",
          "2019-02-01",
          "2019-03-01",
          "2019-04-01",
          "2019-05-01",
          "2019-06-01",
          "2019-07-01",
          "2019-08-01",
          "2019-09-01",
          "2019-10-01",
          "2019-11-01",
          "2019-12-01",
          "2020-01-01",
          "2020-02-01",
          "2020-03-01",
          "2020-04-01"
         ],
         "y": [
          0,
          -1.985111662531019,
          3.7220843672456443,
          2.9776674937965284,
          5.334987593052105,
          7.071960297766752,
          4.21836228287841,
          4.962779156327548,
          4.094292803970224,
          9.553349875930515,
          13.275434243176182,
          11.166253101736977,
          5.583126550868477,
          4.21836228287841,
          5.707196029776663,
          8.43672456575682,
          8.312655086848633,
          5.583126550868477,
          4.466501240694782,
          3.5980148883374587,
          -0.6203473945409518,
          6.823821339950359,
          8.188585607940448,
          -1.1166253101737065,
          4.83870967741934,
          8.312655086848633,
          6.947890818858545,
          7.071960297766752,
          5.831265508684849,
          6.079404466501243,
          6.823821339950359,
          10.049627791563259,
          4.342431761786596,
          3.2258064516129004,
          -0.7444168734491377,
          -0.37220843672457987,
          2.109181141439205,
          2.3573200992555767,
          -3.1017369727047255,
          -6.575682382133998,
          -8.560794044665016,
          -9.181141439205957,
          -15.508684863523584,
          -10.049627791563282,
          -4.962779156327548,
          -3.1017369727047255,
          -10.669975186104223,
          -10.297766749379653,
          -5.583126550868489,
          1.736972704714625,
          2.7295285359801347,
          19.602977667493796,
          17.86600496277915,
          3.2258064516129004,
          4.7146401985111535,
          9.305210918114144,
          16.004962779156315,
          13.151364764267973,
          20.099255583126542,
          20.595533498759306,
          15.136476426798993,
          7.196029776674938,
          11.662531017369721,
          14.516129032258062,
          14.267990074441691,
          13.771712158808924,
          18.238213399503707,
          15.63275434243176,
          14.64019851116625,
          15.88089330024813,
          26.302729528535966,
          32.75434243176177,
          43.92059553349875,
          51.36476426799006,
          59.429280397022325,
          77.41935483870968,
          112.28287841191064,
          118.3622828784119,
          81.14143920595532,
          85.11166253101736,
          98.01488833746899,
          91.81141439205956,
          90.32258064516128,
          107.69230769230766,
          110.91811414392059,
          102.72952853598014,
          120.4714640198511,
          106.20347394540943,
          105.83126550868485,
          97.6426799007444,
          93.54838709677418,
          84.7394540942928,
          85.23573200992554,
          88.08933002481389,
          88.70967741935483,
          103.1017369727047,
          103.3498759305211,
          125.06203473945409,
          138.70967741935482,
          161.7866004962779,
          133.3746898263027,
          122.8287841191067,
          121.33995037220842,
          132.50620347394536,
          106.4516129032258,
          87.59305210918113,
          88.46153846153845,
          86.35235732009924,
          90.69478908188583,
          108.06451612903226,
          156.2034739454094,
          144.5409429280397,
          117.36972704714638,
          127.29528535980148,
          126.55086848635236,
          105.95533498759306,
          113.27543424317619,
          135.98014888337465,
          135.98014888337465,
          140.3225806451613,
          142.43176178660048,
          141.56327543424314,
          122.20843672456574,
          132.6302729528536,
          142.30769230769232,
          163.64764267990074,
          168.48635235732007,
          154.46650124069478,
          153.2258064516129,
          171.58808933002481,
          195.65756823821337,
          233.12655086848633,
          267.61786600496276,
          254.21836228287842,
          278.6600496277916,
          339.4540942928039,
          393.3002481389577,
          327.79156327543416,
          318.6104218362283,
          336.72456575682384,
          376.5508684863522,
          362.40694789081886,
          290.9429280397022,
          306.3275434243176,
          272.9528535980149,
          266.74937965260546,
          294.5409429280397,
          288.46153846153845,
          278.0397022332505,
          256.82382133995037,
          247.6426799007444,
          230.52109181141435,
          239.95037220843668,
          301.1166253101736,
          299.6277915632754,
          290.818858560794,
          279.5285359801489,
          267.61786600496276,
          265.0124069478908,
          245.5334987593052,
          201.1166253101737,
          188.33746898263024,
          177.54342431761788,
          166.99751861042182,
          199.8759305210918,
          201.48883374689825,
          185.85607940446647,
          176.42679900744415,
          170.59553349875927,
          178.90818858560792,
          187.9652605459057,
          183.2506203473945,
          162.53101736972704,
          158.06451612903226,
          162.03473945409428,
          176.55086848635233,
          163.8957816377171,
          153.3498759305211,
          143.05210918114142,
          129.2803970223325,
          144.04466501240697,
          162.7791563275434,
          168.11414392059552,
          160.54590570719603,
          161.41439205955334,
          164.14392059553347,
          159.05707196029775,
          152.23325062034735,
          153.84615384615384,
          159.05707196029775,
          170.3473945409429,
          151.98511166253098,
          140.69478908188583,
          148.38709677419354,
          162.03473945409428,
          155.2109181141439,
          163.15136476426798,
          186.72456575682378,
          187.9652605459057,
          228.28784119106697,
          219.23076923076925,
          215.13647642679894,
          188.95781637717118,
          186.97270471464014,
          175.55831265508684,
          179.0322580645161,
          189.33002481389576,
          186.22828784119105,
          197.64267990074438,
          179.77667493796525,
          178.0397022332506,
          156.82382133995034,
          165.136476426799,
          171.58808933002481,
          169.72704714640196,
          176.67493796526054,
          162.7791563275434,
          167.49379652605455,
          162.53101736972704,
          163.39950372208435,
          168.11414392059552,
          171.71215880893297,
          173.44913151364761,
          163.39950372208435,
          154.09429280397023,
          145.5334987593052,
          154.46650124069478,
          146.02977667493792,
          153.72208436724563,
          170.4714640198511,
          174.6898263027295,
          168.3622828784119,
          162.53101736972704,
          161.29032258064512,
          167.74193548387092,
          179.77667493796525,
          213.8957816377171,
          231.01736972704708,
          221.71215880893294,
          212.28287841191067,
          208.80893300248133,
          225.18610421836226,
          233.12655086848633,
          198.01488833746896,
          195.78163771712155
         ]
        },
        {
         "mode": "lines",
         "name": "ASX",
         "type": "scatter",
         "x": [
          "1999-12-01",
          "2000-01-01",
          "2000-02-01",
          "2000-03-01",
          "2000-04-01",
          "2000-05-01",
          "2000-06-01",
          "2000-07-01",
          "2000-08-01",
          "2000-09-01",
          "2000-10-01",
          "2000-11-01",
          "2000-12-01",
          "2001-01-01",
          "2001-02-01",
          "2001-03-01",
          "2001-04-01",
          "2001-05-01",
          "2001-06-01",
          "2001-07-01",
          "2001-08-01",
          "2001-09-01",
          "2001-10-01",
          "2001-11-01",
          "2001-12-01",
          "2002-01-01",
          "2002-02-01",
          "2002-03-01",
          "2002-04-01",
          "2002-05-01",
          "2002-06-01",
          "2002-07-01",
          "2002-08-01",
          "2002-09-01",
          "2002-10-01",
          "2002-11-01",
          "2002-12-01",
          "2003-01-01",
          "2003-02-01",
          "2003-03-01",
          "2003-04-01",
          "2003-05-01",
          "2003-06-01",
          "2003-07-01",
          "2003-08-01",
          "2003-09-01",
          "2003-10-01",
          "2003-11-01",
          "2003-12-01",
          "2004-01-01",
          "2004-02-01",
          "2004-03-01",
          "2004-04-01",
          "2004-05-01",
          "2004-06-01",
          "2004-07-01",
          "2004-08-01",
          "2004-09-01",
          "2004-10-01",
          "2004-11-01",
          "2004-12-01",
          "2005-01-01",
          "2005-02-01",
          "2005-03-01",
          "2005-04-01",
          "2005-05-01",
          "2005-06-01",
          "2005-07-01",
          "2005-08-01",
          "2005-09-01",
          "2005-10-01",
          "2005-11-01",
          "2005-12-01",
          "2006-01-01",
          "2006-02-01",
          "2006-03-01",
          "2006-04-01",
          "2006-05-01",
          "2006-06-01",
          "2006-07-01",
          "2006-08-01",
          "2006-09-01",
          "2006-10-01",
          "2006-11-01",
          "2006-12-01",
          "2007-01-01",
          "2007-02-01",
          "2007-03-01",
          "2007-04-01",
          "2007-05-01",
          "2007-06-01",
          "2007-07-01",
          "2007-08-01",
          "2007-09-01",
          "2007-10-01",
          "2007-11-01",
          "2007-12-01",
          "2008-01-01",
          "2008-02-01",
          "2008-03-01",
          "2008-04-01",
          "2008-05-01",
          "2008-06-01",
          "2008-07-01",
          "2008-08-01",
          "2008-09-01",
          "2008-10-01",
          "2008-11-01",
          "2008-12-01",
          "2009-01-01",
          "2009-02-01",
          "2009-03-01",
          "2009-04-01",
          "2009-05-01",
          "2009-06-01",
          "2009-07-01",
          "2009-08-01",
          "2009-09-01",
          "2009-10-01",
          "2009-11-01",
          "2009-12-01",
          "2010-01-01",
          "2010-02-01",
          "2010-03-01",
          "2010-04-01",
          "2010-05-01",
          "2010-06-01",
          "2010-07-01",
          "2010-08-01",
          "2010-09-01",
          "2010-10-01",
          "2010-11-01",
          "2010-12-01",
          "2011-01-01",
          "2011-02-01",
          "2011-03-01",
          "2011-04-01",
          "2011-05-01",
          "2011-06-01",
          "2011-07-01",
          "2011-08-01",
          "2011-09-01",
          "2011-10-01",
          "2011-11-01",
          "2011-12-01",
          "2012-01-01",
          "2012-02-01",
          "2012-03-01",
          "2012-04-01",
          "2012-05-01",
          "2012-06-01",
          "2012-07-01",
          "2012-08-01",
          "2012-09-01",
          "2012-10-01",
          "2012-11-01",
          "2012-12-01",
          "2013-01-01",
          "2013-02-01",
          "2013-03-01",
          "2013-04-01",
          "2013-05-01",
          "2013-06-01",
          "2013-07-01",
          "2013-08-01",
          "2013-09-01",
          "2013-10-01",
          "2013-11-01",
          "2013-12-01",
          "2014-01-01",
          "2014-02-01",
          "2014-03-01",
          "2014-04-01",
          "2014-05-01",
          "2014-06-01",
          "2014-07-01",
          "2014-08-01",
          "2014-09-01",
          "2014-10-01",
          "2014-11-01",
          "2014-12-01",
          "2015-01-01",
          "2015-02-01",
          "2015-03-01",
          "2015-04-01",
          "2015-05-01",
          "2015-06-01",
          "2015-07-01",
          "2015-08-01",
          "2015-09-01",
          "2015-10-01",
          "2015-11-01",
          "2015-12-01",
          "2016-01-01",
          "2016-02-01",
          "2016-03-01",
          "2016-04-01",
          "2016-05-01",
          "2016-06-01",
          "2016-07-01",
          "2016-08-01",
          "2016-09-01",
          "2016-10-01",
          "2016-11-01",
          "2016-12-01",
          "2017-01-01",
          "2017-02-01",
          "2017-03-01",
          "2017-04-01",
          "2017-05-01",
          "2017-06-01",
          "2017-07-01",
          "2017-08-01",
          "2017-09-01",
          "2017-10-01",
          "2017-11-01",
          "2017-12-01",
          "2018-01-01",
          "2018-02-01",
          "2018-03-01",
          "2018-04-01",
          "2018-05-01",
          "2018-06-01",
          "2018-07-01",
          "2018-08-01",
          "2018-09-01",
          "2018-10-01",
          "2018-11-01",
          "2018-12-01",
          "2019-01-01",
          "2019-02-01",
          "2019-03-01",
          "2019-04-01",
          "2019-05-01",
          "2019-06-01",
          "2019-07-01",
          "2019-08-01",
          "2019-09-01",
          "2019-10-01",
          "2019-11-01",
          "2019-12-01",
          "2020-01-01",
          "2020-02-01",
          "2020-03-01",
          "2020-04-01"
         ],
         "y": [
          0,
          4.96246170420495,
          3.6999629667036875,
          5.194761471905186,
          5.48597784735548,
          4.898495101504898,
          3.7268962731037205,
          11.476281857051465,
          9.453253880079451,
          11.026832306501017,
          11.05982560684105,
          9.57243376089957,
          10.244419755580243,
          7.940948725717936,
          12.50513416153249,
          11.991381341951985,
          5.956637376695951,
          12.090024576642078,
          13.763256236743759,
          17.506649160017506,
          11.925394741271917,
          10.283473049860277,
          2.6640406692926524,
          9.410160589839402,
          12.360704305962347,
          15.217991448675217,
          16.626940039726623,
          14.949331717334946,
          14.963808369524955,
          12.783893882772777,
          13.57775308891357,
          8.270545062788266,
          3.9019627647038897,
          5.0442716223950415,
          0.019526647140017075,
          2.4452075547924332,
          3.067366932633056,
          1.2392687607312374,
          -0.45045954954045414,
          -5.702790963875713,
          -2.866377133622877,
          1.2527354139312539,
          1.3698952967713565,
          1.9045214288118946,
          5.11631821701511,
          7.7234622765377186,
          6.707739958926701,
          10.15755984244016,
          7.275022724977265,
          11.092145574521085,
          10.15722317611015,
          13.140086859913131,
          14.980305019694981,
          14.493148840184485,
          16.493620173046487,
          18.94051105948893,
          19.049927616739037,
          19.607110392889602,
          23.38955661044338,
          27.2140861192472,
          32.35430764569235,
          36.37006362993636,
          38.27727838938827,
          40.48244285089048,
          38.36413830252835,
          34.0999225667441,
          38.250008416658225,
          44.008685991313996,
          47.75712890953774,
          49.70811029188969,
          56.252230414436234,
          50.14207319126014,
          56.03844729488604,
          60.36662963337035,
          65.96168737164597,
          65.68528431471569,
          72.70006396660268,
          77.04608962057704,
          68.38938827727839,
          70.82045584621082,
          67.86183213816786,
          72.21964111369219,
          73.52051981281352,
          81.27394539272127,
          84.56250210416457,
          90.88543244790087,
          94.37026562973436,
          96.36164697168634,
          101.83314816685183,
          107.58913241086758,
          112.55428744571255,
          111.25576541090125,
          106.85351647981685,
          110.32218967781031,
          121.1140288859711,
          127.38948927717738,
          119.94916338416992,
          113.44106655893343,
          90.22556644110023,
          87.59350907315758,
          80.30804969195027,
          88.37861495471836,
          90.37470962529036,
          75.58192775140559,
          67.57128909537757,
          72.89735043598287,
          54.88401844931489,
          35.271184728815264,
          25.99804733528599,
          25.317644682355304,
          19.2037841295492,
          12.5983907349426,
          20.598929401070595,
          27.27535939130727,
          28.538194795138523,
          33.14783018550314,
          42.88051711948286,
          50.79722586944079,
          59.70238696427971,
          56.3219203447463,
          58.27862505470828,
          63.978049355283986,
          53.843719489613825,
          56.136417196916135,
          64.14234252432415,
          61.84796148537184,
          49.13207420125912,
          44.8170218496448,
          51.28034205299126,
          48.27559505773825,
          54.29114904218427,
          56.94037639295695,
          54.34232232434434,
          59.75625357707975,
          60.04847995152004,
          62.665724000942646,
          62.87513045820287,
          62.38225095108236,
          58.51260815405851,
          55.13483486516514,
          48.96306770359894,
          44.65037201629465,
          34.95606504393495,
          44.70322863010469,
          38.70046796619868,
          36.57071676261656,
          43.51008315658351,
          44.717705282294716,
          45.95293404706594,
          48.018045315288006,
          37.23394943271723,
          37.85240548092785,
          43.727906272093705,
          45.30889135777529,
          47.6961923038077,
          52.07218126115206,
          51.70319496347169,
          56.5144934855065,
          64.25209574790424,
          71.83718816281183,
          67.2053327946672,
          74.77089856243478,
          65.86102413897585,
          61.68703497963168,
          70.08315658351006,
          72.87681378985286,
          75.7021176312157,
          82.65831734168265,
          79.1081708918291,
          80.19088980911017,
          74.72982527017471,
          81.96209137124194,
          81.62576170757161,
          84.79850520149478,
          84.91566508433492,
          81.65673500993165,
          89.64111369221962,
          89.40511059488938,
          78.1910918089082,
          86.06201393798607,
          78.87082112917886,
          82.17082449584218,
          88.13991852674812,
          99.60172373160961,
          98.34696831969833,
          94.9291317375349,
          94.49752550247447,
          83.78614954718377,
          91.87287479379187,
          75.3021580311753,
          69.06137427195905,
          76.39430360569636,
          73.93933272733393,
          78.29377503955827,
          68.51900481432853,
          64.32447900885433,
          71.12042554624111,
          76.82456317543682,
          81.07800558866109,
          76.19028380971619,
          87.26593273406723,
          82.9118270881729,
          83.009123657543,
          79.03006430326901,
          83.16230683769315,
          90.74807258526073,
          89.23711409621922,
          92.31121435545231,
          97.45143588189742,
          99.44315389017945,
          92.72699727300271,
          92.62330404336261,
          92.59300407366258,
          92.3886476113524,
          91.28067871932126,
          98.93680772985894,
          100.98609568057097,
          104.19250580749417,
          103.26835673164328,
          102.53711746288252,
          93.89859610140388,
          101.41837524829138,
          102.39975760024238,
          108.55233478099855,
          111.43318856681141,
          112.75628724371273,
          108.98764434568899,
          96.28690704642628,
          90.79419587247077,
          90.09426657240009,
          97.44301922364743,
          107.68912231087766,
          108.08436858229807,
          112.95727704272296,
          115.36040130626537,
          122.83170050163284,
          129.35595731070936,
          122.34185099148233,
          125.17422482577518,
          124.33323233343432,
          130.48176951823046,
          125.03046830286502,
          136.24617042049624,
          116.85385314614685,
          70.9187624145709
         ]
        }
       ],
       "layout": {
        "template": {
         "data": {
          "bar": [
           {
            "error_x": {
             "color": "#2a3f5f"
            },
            "error_y": {
             "color": "#2a3f5f"
            },
            "marker": {
             "line": {
              "color": "#E5ECF6",
              "width": 0.5
             }
            },
            "type": "bar"
           }
          ],
          "barpolar": [
           {
            "marker": {
             "line": {
              "color": "#E5ECF6",
              "width": 0.5
             }
            },
            "type": "barpolar"
           }
          ],
          "carpet": [
           {
            "aaxis": {
             "endlinecolor": "#2a3f5f",
             "gridcolor": "white",
             "linecolor": "white",
             "minorgridcolor": "white",
             "startlinecolor": "#2a3f5f"
            },
            "baxis": {
             "endlinecolor": "#2a3f5f",
             "gridcolor": "white",
             "linecolor": "white",
             "minorgridcolor": "white",
             "startlinecolor": "#2a3f5f"
            },
            "type": "carpet"
           }
          ],
          "choropleth": [
           {
            "colorbar": {
             "outlinewidth": 0,
             "ticks": ""
            },
            "type": "choropleth"
           }
          ],
          "contour": [
           {
            "colorbar": {
             "outlinewidth": 0,
             "ticks": ""
            },
            "colorscale": [
             [
              0,
              "#0d0887"
             ],
             [
              0.1111111111111111,
              "#46039f"
             ],
             [
              0.2222222222222222,
              "#7201a8"
             ],
             [
              0.3333333333333333,
              "#9c179e"
             ],
             [
              0.4444444444444444,
              "#bd3786"
             ],
             [
              0.5555555555555556,
              "#d8576b"
             ],
             [
              0.6666666666666666,
              "#ed7953"
             ],
             [
              0.7777777777777778,
              "#fb9f3a"
             ],
             [
              0.8888888888888888,
              "#fdca26"
             ],
             [
              1,
              "#f0f921"
             ]
            ],
            "type": "contour"
           }
          ],
          "contourcarpet": [
           {
            "colorbar": {
             "outlinewidth": 0,
             "ticks": ""
            },
            "type": "contourcarpet"
           }
          ],
          "heatmap": [
           {
            "colorbar": {
             "outlinewidth": 0,
             "ticks": ""
            },
            "colorscale": [
             [
              0,
              "#0d0887"
             ],
             [
              0.1111111111111111,
              "#46039f"
             ],
             [
              0.2222222222222222,
              "#7201a8"
             ],
             [
              0.3333333333333333,
              "#9c179e"
             ],
             [
              0.4444444444444444,
              "#bd3786"
             ],
             [
              0.5555555555555556,
              "#d8576b"
             ],
             [
              0.6666666666666666,
              "#ed7953"
             ],
             [
              0.7777777777777778,
              "#fb9f3a"
             ],
             [
              0.8888888888888888,
              "#fdca26"
             ],
             [
              1,
              "#f0f921"
             ]
            ],
            "type": "heatmap"
           }
          ],
          "heatmapgl": [
           {
            "colorbar": {
             "outlinewidth": 0,
             "ticks": ""
            },
            "colorscale": [
             [
              0,
              "#0d0887"
             ],
             [
              0.1111111111111111,
              "#46039f"
             ],
             [
              0.2222222222222222,
              "#7201a8"
             ],
             [
              0.3333333333333333,
              "#9c179e"
             ],
             [
              0.4444444444444444,
              "#bd3786"
             ],
             [
              0.5555555555555556,
              "#d8576b"
             ],
             [
              0.6666666666666666,
              "#ed7953"
             ],
             [
              0.7777777777777778,
              "#fb9f3a"
             ],
             [
              0.8888888888888888,
              "#fdca26"
             ],
             [
              1,
              "#f0f921"
             ]
            ],
            "type": "heatmapgl"
           }
          ],
          "histogram": [
           {
            "marker": {
             "colorbar": {
              "outlinewidth": 0,
              "ticks": ""
             }
            },
            "type": "histogram"
           }
          ],
          "histogram2d": [
           {
            "colorbar": {
             "outlinewidth": 0,
             "ticks": ""
            },
            "colorscale": [
             [
              0,
              "#0d0887"
             ],
             [
              0.1111111111111111,
              "#46039f"
             ],
             [
              0.2222222222222222,
              "#7201a8"
             ],
             [
              0.3333333333333333,
              "#9c179e"
             ],
             [
              0.4444444444444444,
              "#bd3786"
             ],
             [
              0.5555555555555556,
              "#d8576b"
             ],
             [
              0.6666666666666666,
              "#ed7953"
             ],
             [
              0.7777777777777778,
              "#fb9f3a"
             ],
             [
              0.8888888888888888,
              "#fdca26"
             ],
             [
              1,
              "#f0f921"
             ]
            ],
            "type": "histogram2d"
           }
          ],
          "histogram2dcontour": [
           {
            "colorbar": {
             "outlinewidth": 0,
             "ticks": ""
            },
            "colorscale": [
             [
              0,
              "#0d0887"
             ],
             [
              0.1111111111111111,
              "#46039f"
             ],
             [
              0.2222222222222222,
              "#7201a8"
             ],
             [
              0.3333333333333333,
              "#9c179e"
             ],
             [
              0.4444444444444444,
              "#bd3786"
             ],
             [
              0.5555555555555556,
              "#d8576b"
             ],
             [
              0.6666666666666666,
              "#ed7953"
             ],
             [
              0.7777777777777778,
              "#fb9f3a"
             ],
             [
              0.8888888888888888,
              "#fdca26"
             ],
             [
              1,
              "#f0f921"
             ]
            ],
            "type": "histogram2dcontour"
           }
          ],
          "mesh3d": [
           {
            "colorbar": {
             "outlinewidth": 0,
             "ticks": ""
            },
            "type": "mesh3d"
           }
          ],
          "parcoords": [
           {
            "line": {
             "colorbar": {
              "outlinewidth": 0,
              "ticks": ""
             }
            },
            "type": "parcoords"
           }
          ],
          "pie": [
           {
            "automargin": true,
            "type": "pie"
           }
          ],
          "scatter": [
           {
            "marker": {
             "colorbar": {
              "outlinewidth": 0,
              "ticks": ""
             }
            },
            "type": "scatter"
           }
          ],
          "scatter3d": [
           {
            "line": {
             "colorbar": {
              "outlinewidth": 0,
              "ticks": ""
             }
            },
            "marker": {
             "colorbar": {
              "outlinewidth": 0,
              "ticks": ""
             }
            },
            "type": "scatter3d"
           }
          ],
          "scattercarpet": [
           {
            "marker": {
             "colorbar": {
              "outlinewidth": 0,
              "ticks": ""
             }
            },
            "type": "scattercarpet"
           }
          ],
          "scattergeo": [
           {
            "marker": {
             "colorbar": {
              "outlinewidth": 0,
              "ticks": ""
             }
            },
            "type": "scattergeo"
           }
          ],
          "scattergl": [
           {
            "marker": {
             "colorbar": {
              "outlinewidth": 0,
              "ticks": ""
             }
            },
            "type": "scattergl"
           }
          ],
          "scattermapbox": [
           {
            "marker": {
             "colorbar": {
              "outlinewidth": 0,
              "ticks": ""
             }
            },
            "type": "scattermapbox"
           }
          ],
          "scatterpolar": [
           {
            "marker": {
             "colorbar": {
              "outlinewidth": 0,
              "ticks": ""
             }
            },
            "type": "scatterpolar"
           }
          ],
          "scatterpolargl": [
           {
            "marker": {
             "colorbar": {
              "outlinewidth": 0,
              "ticks": ""
             }
            },
            "type": "scatterpolargl"
           }
          ],
          "scatterternary": [
           {
            "marker": {
             "colorbar": {
              "outlinewidth": 0,
              "ticks": ""
             }
            },
            "type": "scatterternary"
           }
          ],
          "surface": [
           {
            "colorbar": {
             "outlinewidth": 0,
             "ticks": ""
            },
            "colorscale": [
             [
              0,
              "#0d0887"
             ],
             [
              0.1111111111111111,
              "#46039f"
             ],
             [
              0.2222222222222222,
              "#7201a8"
             ],
             [
              0.3333333333333333,
              "#9c179e"
             ],
             [
              0.4444444444444444,
              "#bd3786"
             ],
             [
              0.5555555555555556,
              "#d8576b"
             ],
             [
              0.6666666666666666,
              "#ed7953"
             ],
             [
              0.7777777777777778,
              "#fb9f3a"
             ],
             [
              0.8888888888888888,
              "#fdca26"
             ],
             [
              1,
              "#f0f921"
             ]
            ],
            "type": "surface"
           }
          ],
          "table": [
           {
            "cells": {
             "fill": {
              "color": "#EBF0F8"
             },
             "line": {
              "color": "white"
             }
            },
            "header": {
             "fill": {
              "color": "#C8D4E3"
             },
             "line": {
              "color": "white"
             }
            },
            "type": "table"
           }
          ]
         },
         "layout": {
          "annotationdefaults": {
           "arrowcolor": "#2a3f5f",
           "arrowhead": 0,
           "arrowwidth": 1
          },
          "coloraxis": {
           "colorbar": {
            "outlinewidth": 0,
            "ticks": ""
           }
          },
          "colorscale": {
           "diverging": [
            [
             0,
             "#8e0152"
            ],
            [
             0.1,
             "#c51b7d"
            ],
            [
             0.2,
             "#de77ae"
            ],
            [
             0.3,
             "#f1b6da"
            ],
            [
             0.4,
             "#fde0ef"
            ],
            [
             0.5,
             "#f7f7f7"
            ],
            [
             0.6,
             "#e6f5d0"
            ],
            [
             0.7,
             "#b8e186"
            ],
            [
             0.8,
             "#7fbc41"
            ],
            [
             0.9,
             "#4d9221"
            ],
            [
             1,
             "#276419"
            ]
           ],
           "sequential": [
            [
             0,
             "#0d0887"
            ],
            [
             0.1111111111111111,
             "#46039f"
            ],
            [
             0.2222222222222222,
             "#7201a8"
            ],
            [
             0.3333333333333333,
             "#9c179e"
            ],
            [
             0.4444444444444444,
             "#bd3786"
            ],
            [
             0.5555555555555556,
             "#d8576b"
            ],
            [
             0.6666666666666666,
             "#ed7953"
            ],
            [
             0.7777777777777778,
             "#fb9f3a"
            ],
            [
             0.8888888888888888,
             "#fdca26"
            ],
            [
             1,
             "#f0f921"
            ]
           ],
           "sequentialminus": [
            [
             0,
             "#0d0887"
            ],
            [
             0.1111111111111111,
             "#46039f"
            ],
            [
             0.2222222222222222,
             "#7201a8"
            ],
            [
             0.3333333333333333,
             "#9c179e"
            ],
            [
             0.4444444444444444,
             "#bd3786"
            ],
            [
             0.5555555555555556,
             "#d8576b"
            ],
            [
             0.6666666666666666,
             "#ed7953"
            ],
            [
             0.7777777777777778,
             "#fb9f3a"
            ],
            [
             0.8888888888888888,
             "#fdca26"
            ],
            [
             1,
             "#f0f921"
            ]
           ]
          },
          "colorway": [
           "#636efa",
           "#EF553B",
           "#00cc96",
           "#ab63fa",
           "#FFA15A",
           "#19d3f3",
           "#FF6692",
           "#B6E880",
           "#FF97FF",
           "#FECB52"
          ],
          "font": {
           "color": "#2a3f5f"
          },
          "geo": {
           "bgcolor": "white",
           "lakecolor": "white",
           "landcolor": "#E5ECF6",
           "showlakes": true,
           "showland": true,
           "subunitcolor": "white"
          },
          "hoverlabel": {
           "align": "left"
          },
          "hovermode": "closest",
          "mapbox": {
           "style": "light"
          },
          "paper_bgcolor": "white",
          "plot_bgcolor": "#E5ECF6",
          "polar": {
           "angularaxis": {
            "gridcolor": "white",
            "linecolor": "white",
            "ticks": ""
           },
           "bgcolor": "#E5ECF6",
           "radialaxis": {
            "gridcolor": "white",
            "linecolor": "white",
            "ticks": ""
           }
          },
          "scene": {
           "xaxis": {
            "backgroundcolor": "#E5ECF6",
            "gridcolor": "white",
            "gridwidth": 2,
            "linecolor": "white",
            "showbackground": true,
            "ticks": "",
            "zerolinecolor": "white"
           },
           "yaxis": {
            "backgroundcolor": "#E5ECF6",
            "gridcolor": "white",
            "gridwidth": 2,
            "linecolor": "white",
            "showbackground": true,
            "ticks": "",
            "zerolinecolor": "white"
           },
           "zaxis": {
            "backgroundcolor": "#E5ECF6",
            "gridcolor": "white",
            "gridwidth": 2,
            "linecolor": "white",
            "showbackground": true,
            "ticks": "",
            "zerolinecolor": "white"
           }
          },
          "shapedefaults": {
           "line": {
            "color": "#2a3f5f"
           }
          },
          "ternary": {
           "aaxis": {
            "gridcolor": "white",
            "linecolor": "white",
            "ticks": ""
           },
           "baxis": {
            "gridcolor": "white",
            "linecolor": "white",
            "ticks": ""
           },
           "bgcolor": "#E5ECF6",
           "caxis": {
            "gridcolor": "white",
            "linecolor": "white",
            "ticks": ""
           }
          },
          "title": {
           "x": 0.05
          },
          "xaxis": {
           "automargin": true,
           "gridcolor": "white",
           "linecolor": "white",
           "ticks": "",
           "title": {
            "standoff": 15
           },
           "zerolinecolor": "white",
           "zerolinewidth": 2
          },
          "yaxis": {
           "automargin": true,
           "gridcolor": "white",
           "linecolor": "white",
           "ticks": "",
           "title": {
            "standoff": 15
           },
           "zerolinecolor": "white",
           "zerolinewidth": 2
          }
         }
        },
        "title": {
         "text": "Cummulative return since 2000 for each assset class"
        },
        "xaxis": {
         "nticks": 20,
         "tickangle": 40
        },
        "yaxis": {
         "title": {
          "text": "Return %"
         }
        }
       }
      }
     },
     "metadata": {}
    }
   ],
   "source": [
    "dfs = df[90:]\n",
    "dfs['2000 acc return ASX'] = (dfs['Close'] - dfs['Close'][0])/dfs['Close'][0]*100\n",
    "dfs['2000 acc return Silver'] = (dfs['Gold AUD'] - dfs['Gold AUD'][0]) /dfs['Gold AUD'][0]*100\n",
    "dfs['2000 acc return Gold'] = (dfs['Silver AUD']-dfs['Silver AUD'][0])/dfs['Silver AUD'][0]*100\n",
    "silver_trace = go.Scatter(x=dfs.index, y=dfs['2000 acc return Silver'], \\\n",
    "                    mode='lines',\n",
    "                    name='Silver')\n",
    "gold_trace = go.Scatter(x=dfs.index, y=dfs['2000 acc return Gold'], \\\n",
    "                    mode='lines',\n",
    "                    name='Gold')\n",
    "asx_trace = go.Scatter(x=dfs.index, y=dfs['2000 acc return ASX'], \\\n",
    "                    mode='lines',\n",
    "                    name='ASX')\n",
    "traces = [silver_trace, gold_trace, asx_trace]\n",
    "fig_accum_r = go.Figure(data=traces,\n",
    "    layout={\n",
    "        'title':'Cummulative return since 2000 for each assset class', \"yaxis_title\": \"Return %\",              \"xaxis\": {\"nticks\":20, \"tickangle\":40}\n",
    "    }\n",
    ")\n",
    "fig_accum_r.show()\n",
    ""
   ]
  },
  {
   "cell_type": "markdown",
   "metadata": {},
   "source": [
    "## Cummulative return of the three asset classes from 2000\n",
    "Zooming into the last 20 years, silver significantly outperforms ASX and Gold in terms of growth as seen in the above chart.  \n",
    "Next, we take a deeper look at each asset class."
   ]
  },
  {
   "cell_type": "code",
   "execution_count": 10,
   "metadata": {},
   "outputs": [
    {
     "output_type": "display_data",
     "data": {
      "image/svg+xml": "<svg class=\"main-svg\" xmlns=\"http://www.w3.org/2000/svg\" xmlns:xlink=\"http://www.w3.org/1999/xlink\" width=\"700\" height=\"450\" style=\"\" viewBox=\"0 0 700 450\"><rect x=\"0\" y=\"0\" width=\"700\" height=\"450\" style=\"fill: rgb(255, 255, 255); fill-opacity: 1;\"/><defs id=\"defs-afb74e\"><g class=\"clips\"><clipPath id=\"clipafb74exyplot\" class=\"plotclip\"><rect width=\"540\" height=\"270\"/></clipPath><clipPath class=\"axesclip\" id=\"clipafb74ex\"><rect x=\"80\" y=\"0\" width=\"540\" height=\"450\"/></clipPath><clipPath class=\"axesclip\" id=\"clipafb74ey\"><rect x=\"0\" y=\"100\" width=\"700\" height=\"270\"/></clipPath><clipPath class=\"axesclip\" id=\"clipafb74exy\"><rect x=\"80\" y=\"100\" width=\"540\" height=\"270\"/></clipPath></g><g class=\"gradients\"/></defs><g class=\"bglayer\"><rect class=\"bg\" x=\"80\" y=\"100\" width=\"540\" height=\"270\" style=\"fill: rgb(229, 236, 246); fill-opacity: 1; stroke-width: 0;\"/></g><g class=\"layer-below\"><g class=\"imagelayer\"/><g class=\"shapelayer\"/></g><g class=\"cartesianlayer\"><g class=\"subplot xy\"><g class=\"layer-subplot\"><g class=\"shapelayer\"/><g class=\"imagelayer\"/></g><g class=\"gridlayer\"><g class=\"x\"><path class=\"xgrid crisp\" transform=\"translate(115.39,0)\" d=\"M0,100v270\" style=\"stroke: rgb(255, 255, 255); stroke-opacity: 1; stroke-width: 1px;\"/><path class=\"xgrid crisp\" transform=\"translate(150.78,0)\" d=\"M0,100v270\" style=\"stroke: rgb(255, 255, 255); stroke-opacity: 1; stroke-width: 1px;\"/><path class=\"xgrid crisp\" transform=\"translate(186.18,0)\" d=\"M0,100v270\" style=\"stroke: rgb(255, 255, 255); stroke-opacity: 1; stroke-width: 1px;\"/><path class=\"xgrid crisp\" transform=\"translate(221.67,0)\" d=\"M0,100v270\" style=\"stroke: rgb(255, 255, 255); stroke-opacity: 1; stroke-width: 1px;\"/><path class=\"xgrid crisp\" transform=\"translate(257.06,0)\" d=\"M0,100v270\" style=\"stroke: rgb(255, 255, 255); stroke-opacity: 1; stroke-width: 1px;\"/><path class=\"xgrid crisp\" transform=\"translate(292.45,0)\" d=\"M0,100v270\" style=\"stroke: rgb(255, 255, 255); stroke-opacity: 1; stroke-width: 1px;\"/><path class=\"xgrid crisp\" transform=\"translate(327.84000000000003,0)\" d=\"M0,100v270\" style=\"stroke: rgb(255, 255, 255); stroke-opacity: 1; stroke-width: 1px;\"/><path class=\"xgrid crisp\" transform=\"translate(363.33,0)\" d=\"M0,100v270\" style=\"stroke: rgb(255, 255, 255); stroke-opacity: 1; stroke-width: 1px;\"/><path class=\"xgrid crisp\" transform=\"translate(398.73,0)\" d=\"M0,100v270\" style=\"stroke: rgb(255, 255, 255); stroke-opacity: 1; stroke-width: 1px;\"/><path class=\"xgrid crisp\" transform=\"translate(434.12,0)\" d=\"M0,100v270\" style=\"stroke: rgb(255, 255, 255); stroke-opacity: 1; stroke-width: 1px;\"/><path class=\"xgrid crisp\" transform=\"translate(469.51,0)\" d=\"M0,100v270\" style=\"stroke: rgb(255, 255, 255); stroke-opacity: 1; stroke-width: 1px;\"/><path class=\"xgrid crisp\" transform=\"translate(505,0)\" d=\"M0,100v270\" style=\"stroke: rgb(255, 255, 255); stroke-opacity: 1; stroke-width: 1px;\"/><path class=\"xgrid crisp\" transform=\"translate(540.39,0)\" d=\"M0,100v270\" style=\"stroke: rgb(255, 255, 255); stroke-opacity: 1; stroke-width: 1px;\"/><path class=\"xgrid crisp\" transform=\"translate(575.78,0)\" d=\"M0,100v270\" style=\"stroke: rgb(255, 255, 255); stroke-opacity: 1; stroke-width: 1px;\"/><path class=\"xgrid crisp\" transform=\"translate(611.18,0)\" d=\"M0,100v270\" style=\"stroke: rgb(255, 255, 255); stroke-opacity: 1; stroke-width: 1px;\"/></g><g class=\"y\"><path class=\"ygrid crisp\" transform=\"translate(0,343.77)\" d=\"M80,0h540\" style=\"stroke: rgb(255, 255, 255); stroke-opacity: 1; stroke-width: 1px;\"/><path class=\"ygrid crisp\" transform=\"translate(0,293.96000000000004)\" d=\"M80,0h540\" style=\"stroke: rgb(255, 255, 255); stroke-opacity: 1; stroke-width: 1px;\"/><path class=\"ygrid crisp\" transform=\"translate(0,244.15)\" d=\"M80,0h540\" style=\"stroke: rgb(255, 255, 255); stroke-opacity: 1; stroke-width: 1px;\"/><path class=\"ygrid crisp\" transform=\"translate(0,194.35)\" d=\"M80,0h540\" style=\"stroke: rgb(255, 255, 255); stroke-opacity: 1; stroke-width: 1px;\"/><path class=\"ygrid crisp\" transform=\"translate(0,144.54)\" d=\"M80,0h540\" style=\"stroke: rgb(255, 255, 255); stroke-opacity: 1; stroke-width: 1px;\"/></g></g><g class=\"zerolinelayer\"/><path class=\"xlines-below\"/><path class=\"ylines-below\"/><g class=\"overlines-below\"/><g class=\"xaxislayer-below\"/><g class=\"yaxislayer-below\"/><g class=\"overaxes-below\"/><g class=\"plot\" transform=\"translate(80, 100)\" clip-path=\"url('#clipafb74exyplot')\"><g class=\"scatterlayer mlayer\"><g class=\"trace scatter trace7821d1\" style=\"stroke-miterlimit: 2; opacity: 1;\"><g class=\"fills\"/><g class=\"errorbars\"/><g class=\"lines\"><path class=\"js-line\" d=\"M-65.16,240.6L-59.25,244.07L-56.24,244.45L-50.33,244.16L-47.32,243.38L-41.4,241.52L-38.5,240.38L-29.67,234.21L-26.67,232.19L-11.83,223.76L-8.92,221.38L-3.01,215.71L0,212.27L8.73,201.75L11.64,199.5L17.55,193.05L20.56,189.45L26.47,182.58L29.48,180.55L35.39,174.98L38.4,170.89L47.03,156.24L50.03,153.19L52.94,150.06L55.95,148.34L64.87,139.4L67.78,136.65L76.51,126.86L79.51,121.91L91.34,99.15L94.35,94.85L100.26,84.04L103.17,80.26L106.18,77.73L109.18,79.45L111.99,82.41L115,87.18L120.92,93L123.82,98.14L129.84,114.12L132.75,123.75L138.66,144.82L141.67,154.03L144.67,163.07L147.39,174.28L150.39,184.6L153.3,191.75L159.22,203.41L162.22,205.18L165.23,202.88L168.14,197.9L174.05,187.53L177.06,179.93L188.69,161.23L191.7,160.3L206.54,165.25L209.45,165.18L212.45,164.65L215.46,165.25L218.17,165.13L221.18,163.1L224.09,160.5L227.09,159.43L230,158.41L233.01,159.2L236.01,161.02L238.92,163.89L241.93,166.12L244.84,169.27L250.85,176L253.66,178.61L262.58,183.26L265.49,184.26L268.5,182.97L271.5,182.88L274.41,181.55L277.42,179.25L283.33,176.3L286.34,173.59L292.06,165.63L294.97,160.17L315.72,138.46L318.73,137.23L324.45,135.05L327.45,132.72L330.36,129.3L333.37,127.11L342.29,122.75L345.2,122.88L351.11,121.4L354.12,121.37L357.12,120.41L359.84,118.22L365.75,114.27L368.76,113.55L371.67,114.38L374.67,112.35L386.5,118.35L389.51,121.51L398.33,133.9L401.24,134.93L404.25,136.53L407.16,136.4L410.16,133.71L413.17,132.74L416.08,131.4L419.08,131.29L421.99,129.13L425,125.22L436.63,114.38L439.64,113.57L463.4,101.97L466.11,101.52L469.12,101.34L472.03,100.04L475.03,98.59L477.94,96.2L483.95,91.17L486.86,89.99L492.78,93.01L495.78,94.85L501.5,93.39L504.51,92.55L510.43,91.32L513.33,89.83L519.35,82.96L522.26,77.88L528.17,67.92L531.18,65.36L534.18,61.19L536.99,60.61L540,67.19\" style=\"vector-effect: non-scaling-stroke; fill: none; stroke: rgb(0, 0, 205); stroke-opacity: 1; stroke-width: 1.5px; opacity: 1;\"/></g><g class=\"points\"/><g class=\"text\"/></g><g class=\"trace scatter traced0cd13\" style=\"stroke-miterlimit: 2;\"><g class=\"fills\"><g><path class=\"js-fill\" d=\"M-65.16,225.18L-59.25,234.52L-56.24,235.42L-53.33,237L-50.33,235.03L-38.5,225.54L-35.49,224.74L-32.48,224.88L-29.67,222.78L-26.67,220.73L-23.76,220.3L-20.75,218.45L-17.84,215.25L-8.92,209.09L-5.91,204.14L5.72,178.31L8.73,175.79L14.64,175.55L17.55,174.65L23.56,169.44L26.47,161.99L29.48,159.82L32.39,155.17L38.4,141.82L41.11,139.28L44.12,133.77L47.03,126.61L55.95,124.6L58.95,126.9L61.86,128.31L64.87,124.76L67.78,118.9L70.78,110.73L85.43,69.32L88.34,65.2L91.34,66.53L94.35,66.31L97.26,61.72L100.26,53.87L103.17,52.74L106.18,55.18L115,40.67L117.91,41.32L120.92,42.12L123.82,42.06L126.83,47.79L129.84,64.48L132.75,76.77L135.75,82.46L138.66,78.36L141.67,80.38L144.67,82.6L147.39,92.65L153.3,128.81L156.31,143.58L159.22,169.49L162.22,179.58L165.23,169.51L168.14,153.91L174.05,137.52L177.06,133.32L185.79,137.03L188.69,141.98L191.7,144.96L194.61,142.65L197.62,143.5L200.62,143.38L203.53,144.22L206.54,147.45L209.45,147.38L212.45,146.13L215.46,148.5L218.17,148L221.18,145.08L224.09,145.38L227.09,145.65L230,148.36L233.01,146.1L236.01,142.77L238.92,136.32L241.93,137.5L244.84,138.53L247.84,142.03L250.85,148.37L253.66,156.23L259.58,167.48L262.58,169.72L268.5,170.81L271.5,170.58L274.41,168.84L277.42,165.98L280.33,163.29L283.33,158.32L286.34,149.24L289.05,137.35L292.06,133.01L294.97,126.84L297.97,126.13L300.88,127.6L303.89,127.38L306.9,126.22L309.8,126.37L312.81,122.23L318.73,117.17L321.73,116.96L324.45,114.4L327.45,113.24L330.36,115.13L333.37,114.69L336.28,115.69L339.28,112.09L342.29,109.23L345.2,109.1L348.2,108.18L351.11,109.68L354.12,109.68L357.12,108.27L359.84,99.48L362.84,94.23L368.76,90.61L371.67,90.94L374.67,91.38L377.68,89.04L380.59,85.51L383.59,84.87L386.5,84.66L389.51,90.53L395.33,101.19L398.33,110.12L401.24,112.74L404.25,121.33L407.16,121.07L410.16,114.59L416.08,110.19L419.08,110.02L428.01,107.87L430.72,104.73L433.73,98.68L436.63,94.63L442.55,92.88L445.56,92.79L451.47,98.47L454.48,96.14L457.39,93.72L460.39,89.5L466.11,85.86L469.12,85.98L475.03,84.36L477.94,81.39L480.95,78.95L483.95,74.8L495.78,69.48L498.79,69.81L510.43,63.23L513.33,57.44L516.34,47.22L519.35,42.78L522.26,40.66L525.26,43.2L531.18,43.99L534.18,40.92L536.99,42.25L540,13.5L540,120.88L536.99,78.98L534.18,81.46L531.18,86.73L528.17,92.5L525.26,102.42L522.26,115.1L519.35,123.15L516.34,126.42L513.33,122.22L510.43,119.41L507.42,118.67L504.51,118.12L498.79,118.83L495.78,120.21L492.78,115.34L489.87,109.63L486.86,106.57L483.95,107.55L480.95,107.49L477.94,111.01L469.12,116.71L466.11,117.17L460.39,116.17L457.39,115.47L454.48,116.53L451.47,116.62L448.56,121.72L445.56,128.65L439.64,133.66L436.63,134.13L433.73,136.97L430.72,135.76L428.01,137.2L425,141.97L421.99,149.07L419.08,152.56L416.08,152.61L413.17,153.12L410.16,152.82L407.16,151.73L404.25,151.74L401.24,157.13L398.33,157.69L395.33,159.7L389.51,152.49L386.5,152.05L383.59,147.64L380.59,145.28L377.68,138.85L374.67,133.33L371.67,137.82L368.76,136.48L365.75,136.51L362.84,138.23L359.84,136.95L357.12,132.54L354.12,133.06L351.11,133.12L348.2,135.85L345.2,136.67L339.28,135.4L336.28,135.92L330.36,143.47L327.45,152.2L324.45,155.7L321.73,155.27L318.73,157.29L315.72,157.09L312.81,159.1L309.8,162.69L300.88,181.34L297.97,187.66L292.06,198.25L289.05,202.78L286.34,197.94L283.33,194.27L280.33,192.79L277.42,192.53L274.41,194.26L271.5,195.17L268.5,195.13L265.49,197.95L262.58,196.8L259.58,195.57L250.85,203.62L247.84,204.23L244.84,200.02L241.93,194.73L238.92,191.45L236.01,179.27L233.01,172.3L230,168.47L227.09,173.2L224.09,175.61L221.18,181.11L218.17,182.26L215.46,182L212.45,183.16L209.45,182.99L206.54,183.06L203.53,184.21L200.62,183.87L197.62,181.37L194.61,179.73L191.7,175.64L188.69,180.47L177.06,226.53L174.05,237.54L171.14,242.03L168.14,241.89L162.22,230.78L159.22,237.32L156.31,251.47L153.3,254.69L150.39,256.5L147.39,255.91L141.67,227.68L138.66,211.27L135.75,188.17L132.75,170.73L129.84,163.77L126.83,164.34L123.82,154.22L120.92,143.88L117.91,139.81L115,133.69L109.18,109.18L106.18,100.29L100.26,114.22L97.26,117.17L91.34,131.77L88.34,142.96L85.43,150.39L82.42,155.99L79.51,157.64L76.51,159.33L73.79,157.41L70.78,155.11L64.87,154.03L61.86,156.68L55.95,172.08L52.94,175.13L47.03,185.86L44.12,188.48L41.11,193.16L38.4,199.97L35.39,200.84L32.39,200.67L29.48,201.28L26.47,203.18L23.56,202.8L20.56,206.62L14.64,217.77L11.64,223.3L5.72,231.65L3.01,233.97L0,234.37L-3.01,233.71L-5.91,233.84L-8.92,233.67L-11.83,236.05L-14.84,236.81L-17.84,238.72L-20.75,238.84L-23.76,240.35L-26.67,243.65L-29.67,245.63L-32.48,247.05L-38.5,255.21L-41.4,256.1L-50.33,253.29L-53.33,252.83L-65.16,256.02Z\" style=\"fill: rgb(153, 50, 204); fill-opacity: 0.4; stroke-width: 0;\"/></g></g><g class=\"errorbars\"/><g class=\"lines\"><path class=\"js-line\" d=\"M-65.16,256.02L-53.33,252.83L-50.33,253.29L-41.4,256.1L-38.5,255.21L-32.48,247.05L-29.67,245.63L-26.67,243.65L-23.76,240.35L-20.75,238.84L-17.84,238.72L-14.84,236.81L-11.83,236.05L-8.92,233.67L-5.91,233.84L-3.01,233.71L0,234.37L3.01,233.97L5.72,231.65L11.64,223.3L14.64,217.77L20.56,206.62L23.56,202.8L26.47,203.18L29.48,201.28L32.39,200.67L35.39,200.84L38.4,199.97L41.11,193.16L44.12,188.48L47.03,185.86L52.94,175.13L55.95,172.08L61.86,156.68L64.87,154.03L70.78,155.11L73.79,157.41L76.51,159.33L79.51,157.64L82.42,155.99L85.43,150.39L88.34,142.96L91.34,131.77L97.26,117.17L100.26,114.22L106.18,100.29L109.18,109.18L115,133.69L117.91,139.81L120.92,143.88L123.82,154.22L126.83,164.34L129.84,163.77L132.75,170.73L135.75,188.17L138.66,211.27L141.67,227.68L147.39,255.91L150.39,256.5L153.3,254.69L156.31,251.47L159.22,237.32L162.22,230.78L168.14,241.89L171.14,242.03L174.05,237.54L177.06,226.53L188.69,180.47L191.7,175.64L194.61,179.73L197.62,181.37L200.62,183.87L203.53,184.21L206.54,183.06L209.45,182.99L212.45,183.16L215.46,182L218.17,182.26L221.18,181.11L224.09,175.61L227.09,173.2L230,168.47L233.01,172.3L236.01,179.27L238.92,191.45L241.93,194.73L244.84,200.02L247.84,204.23L250.85,203.62L259.58,195.57L262.58,196.8L265.49,197.95L268.5,195.13L271.5,195.17L274.41,194.26L277.42,192.53L280.33,192.79L283.33,194.27L286.34,197.94L289.05,202.78L292.06,198.25L297.97,187.66L300.88,181.34L309.8,162.69L312.81,159.1L315.72,157.09L318.73,157.29L321.73,155.27L324.45,155.7L327.45,152.2L330.36,143.47L336.28,135.92L339.28,135.4L345.2,136.67L348.2,135.85L351.11,133.12L354.12,133.06L357.12,132.54L359.84,136.95L362.84,138.23L365.75,136.51L368.76,136.48L371.67,137.82L374.67,133.33L377.68,138.85L380.59,145.28L383.59,147.64L386.5,152.05L389.51,152.49L395.33,159.7L398.33,157.69L401.24,157.13L404.25,151.74L407.16,151.73L410.16,152.82L413.17,153.12L416.08,152.61L419.08,152.56L421.99,149.07L425,141.97L428.01,137.2L430.72,135.76L433.73,136.97L436.63,134.13L439.64,133.66L445.56,128.65L448.56,121.72L451.47,116.62L454.48,116.53L457.39,115.47L460.39,116.17L466.11,117.17L469.12,116.71L477.94,111.01L480.95,107.49L483.95,107.55L486.86,106.57L489.87,109.63L492.78,115.34L495.78,120.21L498.79,118.83L504.51,118.12L507.42,118.67L510.43,119.41L513.33,122.22L516.34,126.42L519.35,123.15L522.26,115.1L525.26,102.42L528.17,92.5L531.18,86.73L534.18,81.46L536.99,78.98L540,120.88\" style=\"vector-effect: non-scaling-stroke; fill: none; stroke: rgb(153, 50, 204); stroke-opacity: 1; stroke-width: 2px; opacity: 1;\"/></g><g class=\"points\"/><g class=\"text\"/></g><g class=\"trace scatter traceb12848\" style=\"stroke-miterlimit: 2;\"><g class=\"fills\"/><g class=\"errorbars\"/><g class=\"lines\"><path class=\"js-line\" d=\"M-65.16,225.18L-59.25,234.52L-56.24,235.42L-53.33,237L-50.33,235.03L-38.5,225.54L-35.49,224.74L-32.48,224.88L-29.67,222.78L-26.67,220.73L-23.76,220.3L-20.75,218.45L-17.84,215.25L-8.92,209.09L-5.91,204.14L5.72,178.31L8.73,175.79L14.64,175.55L17.55,174.65L23.56,169.44L26.47,161.99L29.48,159.82L32.39,155.17L38.4,141.82L41.11,139.28L44.12,133.77L47.03,126.61L55.95,124.6L58.95,126.9L61.86,128.31L64.87,124.76L67.78,118.9L70.78,110.73L85.43,69.32L88.34,65.2L91.34,66.53L94.35,66.31L97.26,61.72L100.26,53.87L103.17,52.74L106.18,55.18L115,40.67L117.91,41.32L120.92,42.12L123.82,42.06L126.83,47.79L129.84,64.48L132.75,76.77L135.75,82.46L138.66,78.36L141.67,80.38L144.67,82.6L147.39,92.65L153.3,128.81L156.31,143.58L159.22,169.49L162.22,179.58L165.23,169.51L168.14,153.91L174.05,137.52L177.06,133.32L185.79,137.03L188.69,141.98L191.7,144.96L194.61,142.65L197.62,143.5L200.62,143.38L203.53,144.22L206.54,147.45L209.45,147.38L212.45,146.13L215.46,148.5L218.17,148L221.18,145.08L224.09,145.38L227.09,145.65L230,148.36L233.01,146.1L236.01,142.77L238.92,136.32L241.93,137.5L244.84,138.53L247.84,142.03L250.85,148.37L253.66,156.23L259.58,167.48L262.58,169.72L268.5,170.81L271.5,170.58L274.41,168.84L277.42,165.98L280.33,163.29L283.33,158.32L286.34,149.24L289.05,137.35L292.06,133.01L294.97,126.84L297.97,126.13L300.88,127.6L303.89,127.38L306.9,126.22L309.8,126.37L312.81,122.23L318.73,117.17L321.73,116.96L324.45,114.4L327.45,113.24L330.36,115.13L333.37,114.69L336.28,115.69L339.28,112.09L342.29,109.23L345.2,109.1L348.2,108.18L351.11,109.68L354.12,109.68L357.12,108.27L359.84,99.48L362.84,94.23L368.76,90.61L371.67,90.94L374.67,91.38L377.68,89.04L380.59,85.51L383.59,84.87L386.5,84.66L389.51,90.53L395.33,101.19L398.33,110.12L401.24,112.74L404.25,121.33L407.16,121.07L410.16,114.59L416.08,110.19L419.08,110.02L428.01,107.87L430.72,104.73L433.73,98.68L436.63,94.63L442.55,92.88L445.56,92.79L451.47,98.47L454.48,96.14L457.39,93.72L460.39,89.5L466.11,85.86L469.12,85.98L475.03,84.36L477.94,81.39L480.95,78.95L483.95,74.8L495.78,69.48L498.79,69.81L510.43,63.23L513.33,57.44L516.34,47.22L519.35,42.78L522.26,40.66L525.26,43.2L531.18,43.99L534.18,40.92L536.99,42.25L540,13.5\" style=\"vector-effect: non-scaling-stroke; fill: none; stroke: rgb(153, 50, 204); stroke-opacity: 1; stroke-width: 2px; opacity: 1;\"/></g><g class=\"points\"/><g class=\"text\"/></g><g class=\"trace scatter traced88b3c\" style=\"stroke-miterlimit: 2; opacity: 1;\"><g class=\"fills\"/><g class=\"errorbars\"/><g class=\"lines\"><path class=\"js-line\" d=\"M-62.15,249.49L-59.25,243.4L-56.24,243.22L-53.33,242.43L-50.33,237.68L-47.32,233.82L-44.41,235.32L-41.4,230.22L-38.5,234.49L-35.49,228.84L-32.48,230.22L-26.67,223.09L-23.76,223.81L-17.84,217.23L-14.84,217.07L-11.83,216.24L-8.92,210.65L-5.91,204.99L-3.01,197.38L0,191.44L3.01,188.62L5.72,185.36L8.73,188.49L11.64,194.8L14.64,188.66L17.55,180.14L20.56,174.6L23.56,171.71L26.47,162.03L29.48,171.07L32.39,162.34L35.39,155.94L38.4,147.66L41.11,148.07L44.12,137.69L47.03,131.26L50.03,144.07L52.94,140.47L55.95,144.85L58.95,138.4L61.86,136.48L64.87,125.01L67.78,120.14L70.78,110.79L73.79,105.63L76.51,102.69L79.51,94.59L85.43,78.73L88.34,80.65L91.34,87.17L94.35,82.03L97.26,66.07L100.26,56.79L106.18,77.42L109.18,111.77L111.99,115.66L115,126.44L117.91,114.5L120.92,111.55L123.82,133.43L126.83,145.28L129.84,137.4L132.75,164.05L135.75,193.07L138.66,206.79L141.67,207.79L144.67,216.84L147.39,226.61L150.39,214.77L153.3,204.9L156.31,203.03L159.22,196.21L162.22,181.81L168.14,156.92L171.14,161.92L174.05,159.03L177.06,150.6L180.06,165.59L182.78,162.2L185.79,150.35L188.69,153.75L191.7,172.56L194.61,178.94L197.62,169.38L200.62,173.83L203.53,164.93L206.54,161.01L209.45,164.85L212.45,156.84L215.46,156.41L218.17,152.54L221.18,152.23L224.09,152.96L230,163.68L233.01,172.81L236.01,179.19L238.92,193.53L241.93,179.11L244.84,187.99L247.84,191.14L250.85,180.88L256.67,177.26L259.58,174.21L262.58,190.16L265.49,189.25L268.5,180.56L271.5,178.22L274.41,174.69L277.42,168.21L280.33,168.76L283.33,161.64L289.05,138.97L292.06,145.82L294.97,134.63L297.97,147.81L300.88,153.99L303.89,141.57L309.8,133.25L312.81,122.96L315.72,128.21L318.73,126.61L321.73,134.69L324.45,123.99L327.45,124.49L330.36,119.8L333.37,119.62L336.28,124.44L339.28,112.63L342.29,112.98L345.2,129.57L348.2,117.93L351.11,128.56L354.12,123.68L357.12,114.85L359.84,97.9L362.84,99.75L365.75,104.81L368.76,105.45L371.67,121.29L374.67,109.33L377.68,133.84L380.59,143.08L383.59,132.23L386.5,135.86L389.51,129.42L392.52,143.88L395.33,150.09L401.24,131.59L404.25,125.3L407.16,132.53L410.16,116.14L413.17,122.59L416.08,122.44L419.08,128.33L421.99,122.22L425,110.99L428.01,113.23L430.72,108.68L433.73,101.08L436.63,98.13L439.64,108.07L448.56,108.57L451.47,110.21L454.48,98.88L457.39,95.85L460.39,91.1L463.4,92.47L466.11,93.55L469.12,106.33L472.03,95.21L475.03,93.76L477.94,84.65L480.95,80.39L483.95,78.43L486.86,84.01L489.87,102.8L492.78,110.93L495.78,111.96L498.79,101.09L501.5,85.93L504.51,85.35L507.42,78.14L510.43,74.58L516.34,53.88L519.35,64.25L522.26,60.06L525.26,61.31L528.17,52.21L531.18,60.28L534.18,43.68L536.99,72.37L540,140.33\" style=\"vector-effect: non-scaling-stroke; fill: none; stroke: rgb(60, 179, 113); stroke-opacity: 1; stroke-width: 2px; opacity: 1;\"/></g><g class=\"points\"/><g class=\"text\"/></g></g></g><g class=\"overplot\"/><path class=\"xlines-above crisp\" d=\"M0,0\" style=\"fill: none;\"/><path class=\"ylines-above crisp\" d=\"M0,0\" style=\"fill: none;\"/><g class=\"overlines-above\"/><g class=\"xaxislayer-above\"><g class=\"xtick\"><text text-anchor=\"start\" x=\"0\" y=\"383\" transform=\"translate(80,0) rotate(40,0,377)\" style=\"font-family: 'Open Sans', verdana, arial, sans-serif; font-size: 12px; fill: rgb(42, 63, 95); fill-opacity: 1; white-space: pre;\">2005</text></g><g class=\"xtick\"><text text-anchor=\"start\" x=\"0\" y=\"383\" transform=\"translate(115.39,0) rotate(40,0,377)\" style=\"font-family: 'Open Sans', verdana, arial, sans-serif; font-size: 12px; fill: rgb(42, 63, 95); fill-opacity: 1; white-space: pre;\">2006</text></g><g class=\"xtick\"><text text-anchor=\"start\" x=\"0\" y=\"383\" transform=\"translate(150.78,0) rotate(40,0,377)\" style=\"font-family: 'Open Sans', verdana, arial, sans-serif; font-size: 12px; fill: rgb(42, 63, 95); fill-opacity: 1; white-space: pre;\">2007</text></g><g class=\"xtick\"><text text-anchor=\"start\" x=\"0\" y=\"383\" transform=\"translate(186.18,0) rotate(40,0,377)\" style=\"font-family: 'Open Sans', verdana, arial, sans-serif; font-size: 12px; fill: rgb(42, 63, 95); fill-opacity: 1; white-space: pre;\">2008</text></g><g class=\"xtick\"><text text-anchor=\"start\" x=\"0\" y=\"383\" transform=\"translate(221.67,0) rotate(40,0,377)\" style=\"font-family: 'Open Sans', verdana, arial, sans-serif; font-size: 12px; fill: rgb(42, 63, 95); fill-opacity: 1; white-space: pre;\">2009</text></g><g class=\"xtick\"><text text-anchor=\"start\" x=\"0\" y=\"383\" transform=\"translate(257.06,0) rotate(40,0,377)\" style=\"font-family: 'Open Sans', verdana, arial, sans-serif; font-size: 12px; fill: rgb(42, 63, 95); fill-opacity: 1; white-space: pre;\">2010</text></g><g class=\"xtick\"><text text-anchor=\"start\" x=\"0\" y=\"383\" transform=\"translate(292.45,0) rotate(40,0,377)\" style=\"font-family: 'Open Sans', verdana, arial, sans-serif; font-size: 12px; fill: rgb(42, 63, 95); fill-opacity: 1; white-space: pre;\">2011</text></g><g class=\"xtick\"><text text-anchor=\"start\" x=\"0\" y=\"383\" transform=\"translate(327.84000000000003,0) rotate(40,0,377)\" style=\"font-family: 'Open Sans', verdana, arial, sans-serif; font-size: 12px; fill: rgb(42, 63, 95); fill-opacity: 1; white-space: pre;\">2012</text></g><g class=\"xtick\"><text text-anchor=\"start\" x=\"0\" y=\"383\" transform=\"translate(363.33,0) rotate(40,0,377)\" style=\"font-family: 'Open Sans', verdana, arial, sans-serif; font-size: 12px; fill: rgb(42, 63, 95); fill-opacity: 1; white-space: pre;\">2013</text></g><g class=\"xtick\"><text text-anchor=\"start\" x=\"0\" y=\"383\" transform=\"translate(398.73,0) rotate(40,0,377)\" style=\"font-family: 'Open Sans', verdana, arial, sans-serif; font-size: 12px; fill: rgb(42, 63, 95); fill-opacity: 1; white-space: pre;\">2014</text></g><g class=\"xtick\"><text text-anchor=\"start\" x=\"0\" y=\"383\" transform=\"translate(434.12,0) rotate(40,0,377)\" style=\"font-family: 'Open Sans', verdana, arial, sans-serif; font-size: 12px; fill: rgb(42, 63, 95); fill-opacity: 1; white-space: pre;\">2015</text></g><g class=\"xtick\"><text text-anchor=\"start\" x=\"0\" y=\"383\" transform=\"translate(469.51,0) rotate(40,0,377)\" style=\"font-family: 'Open Sans', verdana, arial, sans-serif; font-size: 12px; fill: rgb(42, 63, 95); fill-opacity: 1; white-space: pre;\">2016</text></g><g class=\"xtick\"><text text-anchor=\"start\" x=\"0\" y=\"383\" transform=\"translate(505,0) rotate(40,0,377)\" style=\"font-family: 'Open Sans', verdana, arial, sans-serif; font-size: 12px; fill: rgb(42, 63, 95); fill-opacity: 1; white-space: pre;\">2017</text></g><g class=\"xtick\"><text text-anchor=\"start\" x=\"0\" y=\"383\" transform=\"translate(540.39,0) rotate(40,0,377)\" style=\"font-family: 'Open Sans', verdana, arial, sans-serif; font-size: 12px; fill: rgb(42, 63, 95); fill-opacity: 1; white-space: pre;\">2018</text></g><g class=\"xtick\"><text text-anchor=\"start\" x=\"0\" y=\"383\" transform=\"translate(575.78,0) rotate(40,0,377)\" style=\"font-family: 'Open Sans', verdana, arial, sans-serif; font-size: 12px; fill: rgb(42, 63, 95); fill-opacity: 1; white-space: pre;\">2019</text></g><g class=\"xtick\"><text text-anchor=\"start\" x=\"0\" y=\"383\" transform=\"translate(611.18,0) rotate(40,0,377)\" style=\"font-family: 'Open Sans', verdana, arial, sans-serif; font-size: 12px; fill: rgb(42, 63, 95); fill-opacity: 1; white-space: pre;\">2020</text></g></g><g class=\"yaxislayer-above\"><g class=\"ytick\"><text text-anchor=\"end\" x=\"79\" y=\"4.199999999999999\" transform=\"translate(0,343.77)\" style=\"font-family: 'Open Sans', verdana, arial, sans-serif; font-size: 12px; fill: rgb(42, 63, 95); fill-opacity: 1; white-space: pre;\">3000</text></g><g class=\"ytick\"><text text-anchor=\"end\" x=\"79\" y=\"4.199999999999999\" transform=\"translate(0,293.96000000000004)\" style=\"font-family: 'Open Sans', verdana, arial, sans-serif; font-size: 12px; fill: rgb(42, 63, 95); fill-opacity: 1; white-space: pre;\">4000</text></g><g class=\"ytick\"><text text-anchor=\"end\" x=\"79\" y=\"4.199999999999999\" transform=\"translate(0,244.15)\" style=\"font-family: 'Open Sans', verdana, arial, sans-serif; font-size: 12px; fill: rgb(42, 63, 95); fill-opacity: 1; white-space: pre;\">5000</text></g><g class=\"ytick\"><text text-anchor=\"end\" x=\"79\" y=\"4.199999999999999\" transform=\"translate(0,194.35)\" style=\"font-family: 'Open Sans', verdana, arial, sans-serif; font-size: 12px; fill: rgb(42, 63, 95); fill-opacity: 1; white-space: pre;\">6000</text></g><g class=\"ytick\"><text text-anchor=\"end\" x=\"79\" y=\"4.199999999999999\" transform=\"translate(0,144.54)\" style=\"font-family: 'Open Sans', verdana, arial, sans-serif; font-size: 12px; fill: rgb(42, 63, 95); fill-opacity: 1; white-space: pre;\">7000</text></g></g><g class=\"overaxes-above\"/></g></g><g class=\"polarlayer\"/><g class=\"ternarylayer\"/><g class=\"geolayer\"/><g class=\"funnelarealayer\"/><g class=\"pielayer\"/><g class=\"treemaplayer\"/><g class=\"sunburstlayer\"/><g class=\"glimages\"/><defs id=\"topdefs-afb74e\"><g class=\"clips\"/><clipPath id=\"legendafb74e\"><rect width=\"219\" height=\"67\" x=\"0\" y=\"0\"/></clipPath></defs><g class=\"layer-above\"><g class=\"imagelayer\"/><g class=\"shapelayer\"/></g><g class=\"infolayer\"><g class=\"legend\" pointer-events=\"all\" transform=\"translate(404, 303)\"><rect class=\"bg\" shape-rendering=\"crispEdges\" width=\"219\" height=\"67\" x=\"0\" y=\"0\" style=\"stroke: rgb(68, 68, 68); stroke-opacity: 1; fill: rgb(255, 255, 255); fill-opacity: 1; stroke-width: 0px;\"/><g class=\"scrollbox\" transform=\"translate(0, 0)\" clip-path=\"url('#legendafb74e')\"><g class=\"groups\"><g class=\"traces\" transform=\"translate(0, 14.5)\" style=\"opacity: 1;\"><text class=\"legendtext user-select-none\" text-anchor=\"start\" x=\"40\" y=\"4.680000000000001\" style=\"font-family: 'Open Sans', verdana, arial, sans-serif; font-size: 12px; fill: rgb(42, 63, 95); fill-opacity: 1; white-space: pre;\">Price</text><g class=\"layers\" style=\"opacity: 1;\"><g class=\"legendfill\"/><g class=\"legendlines\"><path class=\"js-line\" d=\"M5,0h30\" style=\"fill: none; stroke: rgb(60, 179, 113); stroke-opacity: 1; stroke-width: 2px;\"/></g><g class=\"legendsymbols\"><g class=\"legendpoints\"/></g></g><rect class=\"legendtoggle\" pointer-events=\"all\" x=\"0\" y=\"-9.5\" width=\"213.390625\" height=\"19\" style=\"cursor: pointer; fill: rgb(0, 0, 0); fill-opacity: 0;\"/></g><g class=\"traces\" transform=\"translate(0, 33.5)\" style=\"opacity: 1;\"><text class=\"legendtext user-select-none\" text-anchor=\"start\" x=\"40\" y=\"4.680000000000001\" style=\"font-family: 'Open Sans', verdana, arial, sans-serif; font-size: 12px; fill: rgb(42, 63, 95); fill-opacity: 1; white-space: pre;\">2-standard deviation bounds</text><g class=\"layers\"><g class=\"legendfill\"><path class=\"js-fill\" d=\"M5,-2h30v6h-30z\" style=\"stroke-width: 0; fill: rgb(153, 50, 204); fill-opacity: 0.4;\"/></g><g class=\"legendlines\"><path class=\"js-line\" d=\"M5,-2h30\" style=\"fill: none; stroke: rgb(153, 50, 204); stroke-opacity: 1; stroke-width: 2px;\"/></g><g class=\"legendsymbols\"><g class=\"legendpoints\"/></g></g><rect class=\"legendtoggle\" pointer-events=\"all\" x=\"0\" y=\"-9.5\" width=\"213.390625\" height=\"19\" style=\"cursor: pointer; fill: rgb(0, 0, 0); fill-opacity: 0;\"/></g><g class=\"traces\" transform=\"translate(0, 52.5)\" style=\"opacity: 1;\"><text class=\"legendtext user-select-none\" text-anchor=\"start\" x=\"40\" y=\"4.680000000000001\" style=\"font-family: 'Open Sans', verdana, arial, sans-serif; font-size: 12px; fill: rgb(42, 63, 95); fill-opacity: 1; white-space: pre;\">10 month moving average</text><g class=\"layers\" style=\"opacity: 1;\"><g class=\"legendfill\"/><g class=\"legendlines\"><path class=\"js-line\" d=\"M5,0h30\" style=\"fill: none; stroke: rgb(0, 0, 205); stroke-opacity: 1; stroke-width: 1.5px;\"/></g><g class=\"legendsymbols\"><g class=\"legendpoints\"/></g></g><rect class=\"legendtoggle\" pointer-events=\"all\" x=\"0\" y=\"-9.5\" width=\"213.390625\" height=\"19\" style=\"cursor: pointer; fill: rgb(0, 0, 0); fill-opacity: 0;\"/></g></g></g><rect class=\"scrollbar\" rx=\"20\" ry=\"3\" width=\"0\" height=\"0\" x=\"0\" y=\"0\" style=\"fill: rgb(128, 139, 164); fill-opacity: 1;\"/></g><g class=\"g-gtitle\"><text class=\"gtitle\" x=\"35\" y=\"50\" text-anchor=\"start\" dy=\"0em\" style=\"font-family: 'Open Sans', verdana, arial, sans-serif; font-size: 17px; fill: rgb(42, 63, 95); opacity: 1; font-weight: normal; white-space: pre;\">Bollinger bands for ASX</text></g><g class=\"g-xtitle\"/><g class=\"g-ytitle\"><text class=\"ytitle\" transform=\"rotate(-90,23.684375000000003,235)\" x=\"23.684375000000003\" y=\"235\" text-anchor=\"middle\" style=\"font-family: 'Open Sans', verdana, arial, sans-serif; font-size: 14px; fill: rgb(42, 63, 95); opacity: 1; font-weight: normal; white-space: pre;\">$AUD</text></g></g></svg>"
     },
     "metadata": {}
    }
   ],
   "source": [
    "# ASX Bollinger\n",
    "dfs = df[120:]\n",
    "import indicators as idc\n",
    "bbp = idc.get_sma(dfs['Close'],lookback=10)\n",
    "bb_upper = idc.get_bb_upper(dfs['Close'],lookback=10)\n",
    "bb_lower = idc.get_bb_lower(dfs['Close'],lookback=10)\n",
    "price_trace = go.Scatter(x=dfs[10:].index, y=dfs['Close'][10:], \\\n",
    "                    mode='lines',\n",
    "                    name='Price', line = {'color':'forestgreen'})\n",
    "bbp_trace = go.Scatter(x=bbp.index, y=bbp, \\\n",
    "                    mode='lines',\n",
    "                    name='10 month moving average', line = {'color':'mediumblue','width':1.5})\n",
    "bb_upper_trace = go.Scatter(x=bbp.index, y=bb_upper, \\\n",
    "                    mode='lines',\n",
    "                    name='2-standard deviation bounds',fill='tonexty', fillcolor= 'rgba(153,50, 204, 0.4)',line = {'color':'darkorchid'})\n",
    "bb_lower_trace = go.Scatter(x=bbp.index, y=bb_lower, \\\n",
    "                    mode='lines',\n",
    "                    name='', line = {'color':'darkorchid'},showlegend=False)\n",
    "traces = [  bbp_trace,bb_lower_trace, bb_upper_trace,price_trace]\n",
    "fig_accum_r = go.Figure(data=traces,\n",
    "    layout={\n",
    "        'title':\"Bollinger bands for ASX\", \"yaxis_title\": \"$AUD\",\n",
    "        'xaxis': {'range':['2005-01-01','2020-04-01'], 'nticks':20, 'tickangle':40},\n",
    "        'legend': {'x':0.6,'y':0}\n",
    "    }\n",
    ")\n",
    "fig_accum_r.show(\"svg\")"
   ]
  },
  {
   "cell_type": "markdown",
   "metadata": {},
   "source": [
    "## ASX price movement\n",
    "A widely used indicator for a stock's price movement is the Bollinger bands, where we show the running average plus/minus 2 standard deviations.  \n",
    "The actual stock price is also shown, and it is expected that the stock price will tend to go back to the running average after it exceeds the upper or the lower band (deviate more than 2 standard deviations).  \n",
    "As shown above, ASX stock price has already dropped below the lower band due to the recent Corona bear market."
   ]
  },
  {
   "cell_type": "code",
   "execution_count": 8,
   "metadata": {},
   "outputs": [
    {
     "output_type": "display_data",
     "data": {
      "image/svg+xml": "<svg class=\"main-svg\" xmlns=\"http://www.w3.org/2000/svg\" xmlns:xlink=\"http://www.w3.org/1999/xlink\" width=\"700\" height=\"450\" style=\"\" viewBox=\"0 0 700 450\"><rect x=\"0\" y=\"0\" width=\"700\" height=\"450\" style=\"fill: rgb(255, 255, 255); fill-opacity: 1;\"/><defs id=\"defs-ce923f\"><g class=\"clips\"><clipPath id=\"clipce923fxyplot\" class=\"plotclip\"><rect width=\"540\" height=\"270\"/></clipPath><clipPath class=\"axesclip\" id=\"clipce923fx\"><rect x=\"80\" y=\"0\" width=\"540\" height=\"450\"/></clipPath><clipPath class=\"axesclip\" id=\"clipce923fy\"><rect x=\"0\" y=\"100\" width=\"700\" height=\"270\"/></clipPath><clipPath class=\"axesclip\" id=\"clipce923fxy\"><rect x=\"80\" y=\"100\" width=\"540\" height=\"270\"/></clipPath></g><g class=\"gradients\"/></defs><g class=\"bglayer\"><rect class=\"bg\" x=\"80\" y=\"100\" width=\"540\" height=\"270\" style=\"fill: rgb(229, 236, 246); fill-opacity: 1; stroke-width: 0;\"/></g><g class=\"layer-below\"><g class=\"imagelayer\"/><g class=\"shapelayer\"/></g><g class=\"cartesianlayer\"><g class=\"subplot xy\"><g class=\"layer-subplot\"><g class=\"shapelayer\"/><g class=\"imagelayer\"/></g><g class=\"gridlayer\"><g class=\"x\"><path class=\"xgrid crisp\" transform=\"translate(115.39,0)\" d=\"M0,100v270\" style=\"stroke: rgb(255, 255, 255); stroke-opacity: 1; stroke-width: 1px;\"/><path class=\"xgrid crisp\" transform=\"translate(150.78,0)\" d=\"M0,100v270\" style=\"stroke: rgb(255, 255, 255); stroke-opacity: 1; stroke-width: 1px;\"/><path class=\"xgrid crisp\" transform=\"translate(186.18,0)\" d=\"M0,100v270\" style=\"stroke: rgb(255, 255, 255); stroke-opacity: 1; stroke-width: 1px;\"/><path class=\"xgrid crisp\" transform=\"translate(221.67,0)\" d=\"M0,100v270\" style=\"stroke: rgb(255, 255, 255); stroke-opacity: 1; stroke-width: 1px;\"/><path class=\"xgrid crisp\" transform=\"translate(257.06,0)\" d=\"M0,100v270\" style=\"stroke: rgb(255, 255, 255); stroke-opacity: 1; stroke-width: 1px;\"/><path class=\"xgrid crisp\" transform=\"translate(292.45,0)\" d=\"M0,100v270\" style=\"stroke: rgb(255, 255, 255); stroke-opacity: 1; stroke-width: 1px;\"/><path class=\"xgrid crisp\" transform=\"translate(327.84000000000003,0)\" d=\"M0,100v270\" style=\"stroke: rgb(255, 255, 255); stroke-opacity: 1; stroke-width: 1px;\"/><path class=\"xgrid crisp\" transform=\"translate(363.33,0)\" d=\"M0,100v270\" style=\"stroke: rgb(255, 255, 255); stroke-opacity: 1; stroke-width: 1px;\"/><path class=\"xgrid crisp\" transform=\"translate(398.73,0)\" d=\"M0,100v270\" style=\"stroke: rgb(255, 255, 255); stroke-opacity: 1; stroke-width: 1px;\"/><path class=\"xgrid crisp\" transform=\"translate(434.12,0)\" d=\"M0,100v270\" style=\"stroke: rgb(255, 255, 255); stroke-opacity: 1; stroke-width: 1px;\"/><path class=\"xgrid crisp\" transform=\"translate(469.51,0)\" d=\"M0,100v270\" style=\"stroke: rgb(255, 255, 255); stroke-opacity: 1; stroke-width: 1px;\"/><path class=\"xgrid crisp\" transform=\"translate(505,0)\" d=\"M0,100v270\" style=\"stroke: rgb(255, 255, 255); stroke-opacity: 1; stroke-width: 1px;\"/><path class=\"xgrid crisp\" transform=\"translate(540.39,0)\" d=\"M0,100v270\" style=\"stroke: rgb(255, 255, 255); stroke-opacity: 1; stroke-width: 1px;\"/><path class=\"xgrid crisp\" transform=\"translate(575.78,0)\" d=\"M0,100v270\" style=\"stroke: rgb(255, 255, 255); stroke-opacity: 1; stroke-width: 1px;\"/><path class=\"xgrid crisp\" transform=\"translate(611.18,0)\" d=\"M0,100v270\" style=\"stroke: rgb(255, 255, 255); stroke-opacity: 1; stroke-width: 1px;\"/></g><g class=\"y\"><path class=\"ygrid crisp\" transform=\"translate(0,354.65)\" d=\"M80,0h540\" style=\"stroke: rgb(255, 255, 255); stroke-opacity: 1; stroke-width: 1px;\"/><path class=\"ygrid crisp\" transform=\"translate(0,299.28)\" d=\"M80,0h540\" style=\"stroke: rgb(255, 255, 255); stroke-opacity: 1; stroke-width: 1px;\"/><path class=\"ygrid crisp\" transform=\"translate(0,243.91)\" d=\"M80,0h540\" style=\"stroke: rgb(255, 255, 255); stroke-opacity: 1; stroke-width: 1px;\"/><path class=\"ygrid crisp\" transform=\"translate(0,188.55)\" d=\"M80,0h540\" style=\"stroke: rgb(255, 255, 255); stroke-opacity: 1; stroke-width: 1px;\"/><path class=\"ygrid crisp\" transform=\"translate(0,133.18)\" d=\"M80,0h540\" style=\"stroke: rgb(255, 255, 255); stroke-opacity: 1; stroke-width: 1px;\"/></g></g><g class=\"zerolinelayer\"/><path class=\"xlines-below\"/><path class=\"ylines-below\"/><g class=\"overlines-below\"/><g class=\"xaxislayer-below\"/><g class=\"yaxislayer-below\"/><g class=\"overaxes-below\"/><g class=\"plot\" transform=\"translate(80, 100)\" clip-path=\"url('#clipce923fxyplot')\"><g class=\"scatterlayer mlayer\"><g class=\"trace scatter traceebd5e9\" style=\"stroke-miterlimit: 2; opacity: 1;\"><g class=\"fills\"/><g class=\"errorbars\"/><g class=\"lines\"><path class=\"js-line\" d=\"M-65.16,245.75L-26.67,249.79L-23.76,249.62L-5.91,248.49L-3.01,247.86L11.64,247.84L14.64,247.85L23.56,247.68L26.47,247.18L32.39,244.55L35.39,242.55L41.11,238.01L44.12,235.06L50.03,228.96L52.94,226.23L58.95,222.37L61.86,221.35L70.78,219.45L73.79,219.22L76.51,219.86L79.51,219.7L88.34,220.91L91.34,220.62L97.26,219.88L100.26,218.83L103.17,218.04L106.18,216.01L120.92,205.71L123.82,204.22L129.84,201.74L132.75,198.9L138.66,194.94L141.67,192.42L147.39,182.16L150.39,178.72L156.31,173.57L159.22,171.94L171.14,173.71L174.05,175.89L177.06,177.72L180.06,177.83L185.79,177.08L188.69,174.54L194.61,168.84L197.62,166.61L206.54,162.15L209.45,160.3L215.46,157.36L218.17,157.16L221.18,157.71L224.09,157.1L230,154.95L233.01,151.55L241.93,141.14L244.84,138.13L259.58,128.53L262.58,129.4L265.49,131.42L268.5,132.4L271.5,132.89L274.41,132.18L277.42,131.48L280.33,131.62L289.05,132.33L292.06,134.16L297.97,136.93L300.88,139.95L318.73,153.32L321.73,153.11L324.45,152.63L327.45,152.94L330.36,153.18L333.37,154.56L339.28,155.09L342.29,155.1L345.2,154.77L348.2,155.27L351.11,155.21L354.12,154.32L365.75,147.39L368.76,145.84L380.59,138.29L383.59,138.63L386.5,139.74L389.51,139.27L401.24,132.97L404.25,130.83L416.08,122.57L419.08,121.75L425,123.81L428.01,123.94L430.72,125.14L433.73,125.61L445.56,129.99L448.56,129.91L460.39,126.95L463.4,126.84L469.12,125.71L472.03,124.08L477.94,122.83L480.95,122.88L483.95,123.09L486.86,122.47L492.78,121.85L495.78,120.76L507.42,115.3L510.43,111.79L513.33,107.79L516.34,102.22L522.26,91.17L525.26,87.32L528.17,84.01L531.18,79.13L536.99,64.79L540,57.02\" style=\"vector-effect: non-scaling-stroke; fill: none; stroke: rgb(0, 0, 205); stroke-opacity: 1; stroke-width: 1.5px; opacity: 1;\"/></g><g class=\"points\"/><g class=\"text\"/></g><g class=\"trace scatter trace6ec707\" style=\"stroke-miterlimit: 2;\"><g class=\"fills\"><g><path class=\"js-fill\" d=\"M-65.16,242.08L-53.33,240.91L-50.33,241.13L-44.41,241.75L-41.4,243.9L-38.5,246.41L-35.49,246.98L-20.75,246.32L-17.84,247.07L-3.01,244.81L0,244.98L20.56,245.45L23.56,244.17L29.48,238.39L32.39,234.25L38.4,224.31L41.11,220.53L47.03,209.04L50.03,208.23L52.94,207.22L55.95,207.51L61.86,211.11L64.87,211.68L70.78,212.82L73.79,212.25L76.51,214.89L79.51,214.77L85.43,215.78L88.34,215.37L91.34,215.5L94.35,214.63L97.26,213.91L100.26,210.38L103.17,207.24L106.18,199.52L111.99,188.57L115,187.54L126.83,192.8L129.84,192.47L132.75,183.12L135.75,178.09L141.67,163.5L144.67,148.37L147.39,141.48L150.39,141.49L153.3,142.61L156.31,146.51L159.22,149.83L162.22,149.43L168.14,149.3L171.14,150.05L177.06,168.24L180.06,168.63L182.78,168.45L185.79,167.38L191.7,150.35L194.61,148.36L200.62,147.06L203.53,145.9L209.45,144.71L212.45,146.97L215.46,150.91L218.17,150.41L221.18,153L224.09,151.71L230,147.67L233.01,131.51L236.01,119.18L238.92,114.58L241.93,108.42L244.84,107.34L250.85,108.15L253.66,110.18L256.67,112.85L259.58,116.68L262.58,117.51L265.49,121.1L268.5,121.55L271.5,124.45L274.41,121.49L277.42,120.35L286.34,120.51L289.05,120.09L292.06,116.84L294.97,114.91L297.97,113.69L300.88,116.22L306.9,127.06L309.8,130.55L312.81,134.49L315.72,139.61L318.73,144.7L321.73,144.2L324.45,142.97L327.45,143.1L330.36,143.06L333.37,145.77L336.28,147.27L339.28,147.24L351.11,147.11L354.12,141.65L357.12,135.06L359.84,132.46L362.84,129.98L365.75,128.78L368.76,127.8L371.67,128.28L374.67,128.97L377.68,131.73L389.51,130.56L392.52,124.57L395.33,121.42L398.33,120.34L401.24,115.7L404.25,112.44L407.16,107.53L410.16,104.45L413.17,103.58L416.08,108.1L419.08,110.09L421.99,107.92L428.01,107.28L430.72,108.31L433.73,109.27L436.63,112.78L442.55,120.29L445.56,121.14L448.56,120.97L451.47,121.56L454.48,120.57L457.39,120.52L463.4,119.77L466.11,118.57L469.12,116.04L472.03,115.55L486.86,115.56L489.87,115.57L492.78,114.5L495.78,110.25L501.5,101.82L504.51,99.95L507.42,97.37L510.43,91.71L513.33,84.47L516.34,68.38L519.35,58.5L522.26,52.38L528.17,47.12L531.18,42.59L534.18,37.15L536.99,26.69L540,13.5L540,100.53L536.99,102.89L534.18,108.13L531.18,115.67L522.26,129.96L519.35,134.11L516.34,136.06L513.33,131.11L507.42,133.23L504.51,134.55L501.5,134.88L498.79,133.86L495.78,131.27L492.78,129.2L486.86,129.37L483.95,130.4L477.94,129.75L475.03,130.52L472.03,132.62L469.12,135.37L463.4,133.9L460.39,133.75L451.47,136.47L448.56,138.86L445.56,138.85L442.55,138.74L436.63,140.69L433.73,141.95L430.72,141.98L428.01,140.59L425,140.24L421.99,138.24L419.08,133.41L416.08,137.04L413.17,145.73L410.16,149.9L407.16,150.12L404.25,149.22L401.24,150.24L398.33,150.03L395.33,150.94L392.52,150.95L389.51,147.98L386.5,148.26L383.59,145.93L380.59,145.25L377.68,148.24L374.67,156.18L371.67,159.93L368.76,163.88L359.84,169.04L357.12,169.59L354.12,167L351.11,163.31L348.2,163.18L345.2,162.17L336.28,163.1L333.37,163.35L321.73,162.02L318.73,161.95L315.72,164.05L312.81,164.39L309.8,163.41L306.9,161.87L300.88,163.68L297.97,160.17L292.06,151.47L289.05,144.57L286.34,143.03L283.33,142.69L274.41,142.87L271.5,141.32L268.5,143.26L265.49,141.74L262.58,141.28L259.58,140.39L250.85,159.04L247.84,164.85L244.84,168.92L241.93,173.86L238.92,175.64L236.01,176.29L233.01,171.6L230,162.23L224.09,162.5L221.18,162.42L218.17,163.91L215.46,163.81L212.45,170.45L209.45,175.88L206.54,179.06L203.53,182L200.62,183.33L197.62,185.2L194.61,189.32L191.7,191.89L188.69,190.47L185.79,186.79L180.06,187.04L177.06,187.2L174.05,192.48L171.14,197.37L168.14,197.02L165.23,195.4L162.22,195.35L159.22,194.05L156.31,200.62L153.3,209.59L150.39,215.95L147.39,222.84L144.67,225.97L141.67,221.35L135.75,216.41L132.75,214.68L129.84,211.01L126.83,213.19L123.82,217.78L120.92,221.26L115,230.55L111.99,233.94L106.18,232.5L103.17,228.84L100.26,227.28L97.26,225.84L91.34,225.74L88.34,226.45L85.43,225.5L82.42,224.57L79.51,224.64L76.51,224.82L73.79,226.18L70.78,226.08L64.87,229.26L61.86,231.59L50.03,249.68L47.03,253.99L38.4,256.5L35.39,256.32L26.47,252.66L23.56,251.2L8.73,250.43L5.72,250.28L-3.01,250.91L-5.91,252.36L-17.84,252.24L-20.75,252.62L-38.5,252.14L-41.4,253.5L-50.33,253.87L-53.33,253.57L-65.16,249.42Z\" style=\"fill: rgb(153, 50, 204); fill-opacity: 0.4; stroke-width: 0;\"/></g></g><g class=\"errorbars\"/><g class=\"lines\"><path class=\"js-line\" d=\"M-65.16,249.42L-53.33,253.57L-50.33,253.87L-41.4,253.5L-38.5,252.14L-20.75,252.62L-17.84,252.24L-5.91,252.36L-3.01,250.91L5.72,250.28L8.73,250.43L23.56,251.2L26.47,252.66L35.39,256.32L38.4,256.5L47.03,253.99L50.03,249.68L61.86,231.59L64.87,229.26L70.78,226.08L73.79,226.18L76.51,224.82L79.51,224.64L82.42,224.57L85.43,225.5L88.34,226.45L91.34,225.74L97.26,225.84L100.26,227.28L103.17,228.84L106.18,232.5L111.99,233.94L115,230.55L120.92,221.26L123.82,217.78L126.83,213.19L129.84,211.01L132.75,214.68L135.75,216.41L141.67,221.35L144.67,225.97L147.39,222.84L150.39,215.95L153.3,209.59L156.31,200.62L159.22,194.05L162.22,195.35L165.23,195.4L168.14,197.02L171.14,197.37L174.05,192.48L177.06,187.2L180.06,187.04L185.79,186.79L188.69,190.47L191.7,191.89L194.61,189.32L197.62,185.2L200.62,183.33L203.53,182L206.54,179.06L209.45,175.88L212.45,170.45L215.46,163.81L218.17,163.91L221.18,162.42L224.09,162.5L230,162.23L233.01,171.6L236.01,176.29L238.92,175.64L241.93,173.86L244.84,168.92L247.84,164.85L250.85,159.04L259.58,140.39L262.58,141.28L265.49,141.74L268.5,143.26L271.5,141.32L274.41,142.87L283.33,142.69L286.34,143.03L289.05,144.57L292.06,151.47L297.97,160.17L300.88,163.68L306.9,161.87L309.8,163.41L312.81,164.39L315.72,164.05L318.73,161.95L321.73,162.02L333.37,163.35L336.28,163.1L345.2,162.17L348.2,163.18L351.11,163.31L354.12,167L357.12,169.59L359.84,169.04L368.76,163.88L371.67,159.93L374.67,156.18L377.68,148.24L380.59,145.25L383.59,145.93L386.5,148.26L389.51,147.98L392.52,150.95L395.33,150.94L398.33,150.03L401.24,150.24L404.25,149.22L407.16,150.12L410.16,149.9L413.17,145.73L416.08,137.04L419.08,133.41L421.99,138.24L425,140.24L428.01,140.59L430.72,141.98L433.73,141.95L436.63,140.69L442.55,138.74L445.56,138.85L448.56,138.86L451.47,136.47L460.39,133.75L463.4,133.9L469.12,135.37L472.03,132.62L475.03,130.52L477.94,129.75L483.95,130.4L486.86,129.37L492.78,129.2L495.78,131.27L498.79,133.86L501.5,134.88L504.51,134.55L507.42,133.23L513.33,131.11L516.34,136.06L519.35,134.11L522.26,129.96L531.18,115.67L534.18,108.13L536.99,102.89L540,100.53\" style=\"vector-effect: non-scaling-stroke; fill: none; stroke: rgb(153, 50, 204); stroke-opacity: 1; stroke-width: 2px; opacity: 1;\"/></g><g class=\"points\"/><g class=\"text\"/></g><g class=\"trace scatter trace1068d8\" style=\"stroke-miterlimit: 2;\"><g class=\"fills\"/><g class=\"errorbars\"/><g class=\"lines\"><path class=\"js-line\" d=\"M-65.16,242.08L-53.33,240.91L-50.33,241.13L-44.41,241.75L-41.4,243.9L-38.5,246.41L-35.49,246.98L-20.75,246.32L-17.84,247.07L-3.01,244.81L0,244.98L20.56,245.45L23.56,244.17L29.48,238.39L32.39,234.25L38.4,224.31L41.11,220.53L47.03,209.04L50.03,208.23L52.94,207.22L55.95,207.51L61.86,211.11L64.87,211.68L70.78,212.82L73.79,212.25L76.51,214.89L79.51,214.77L85.43,215.78L88.34,215.37L91.34,215.5L94.35,214.63L97.26,213.91L100.26,210.38L103.17,207.24L106.18,199.52L111.99,188.57L115,187.54L126.83,192.8L129.84,192.47L132.75,183.12L135.75,178.09L141.67,163.5L144.67,148.37L147.39,141.48L150.39,141.49L153.3,142.61L156.31,146.51L159.22,149.83L162.22,149.43L168.14,149.3L171.14,150.05L177.06,168.24L180.06,168.63L182.78,168.45L185.79,167.38L191.7,150.35L194.61,148.36L200.62,147.06L203.53,145.9L209.45,144.71L212.45,146.97L215.46,150.91L218.17,150.41L221.18,153L224.09,151.71L230,147.67L233.01,131.51L236.01,119.18L238.92,114.58L241.93,108.42L244.84,107.34L250.85,108.15L253.66,110.18L256.67,112.85L259.58,116.68L262.58,117.51L265.49,121.1L268.5,121.55L271.5,124.45L274.41,121.49L277.42,120.35L286.34,120.51L289.05,120.09L292.06,116.84L294.97,114.91L297.97,113.69L300.88,116.22L306.9,127.06L309.8,130.55L312.81,134.49L315.72,139.61L318.73,144.7L321.73,144.2L324.45,142.97L327.45,143.1L330.36,143.06L333.37,145.77L336.28,147.27L339.28,147.24L351.11,147.11L354.12,141.65L357.12,135.06L359.84,132.46L362.84,129.98L365.75,128.78L368.76,127.8L371.67,128.28L374.67,128.97L377.68,131.73L389.51,130.56L392.52,124.57L395.33,121.42L398.33,120.34L401.24,115.7L404.25,112.44L407.16,107.53L410.16,104.45L413.17,103.58L416.08,108.1L419.08,110.09L421.99,107.92L428.01,107.28L430.72,108.31L433.73,109.27L436.63,112.78L442.55,120.29L445.56,121.14L448.56,120.97L451.47,121.56L454.48,120.57L457.39,120.52L463.4,119.77L466.11,118.57L469.12,116.04L472.03,115.55L486.86,115.56L489.87,115.57L492.78,114.5L495.78,110.25L501.5,101.82L504.51,99.95L507.42,97.37L510.43,91.71L513.33,84.47L516.34,68.38L519.35,58.5L522.26,52.38L528.17,47.12L531.18,42.59L534.18,37.15L536.99,26.69L540,13.5\" style=\"vector-effect: non-scaling-stroke; fill: none; stroke: rgb(153, 50, 204); stroke-opacity: 1; stroke-width: 2px; opacity: 1;\"/></g><g class=\"points\"/><g class=\"text\"/></g><g class=\"trace scatter trace136de8\" style=\"stroke-miterlimit: 2; opacity: 1;\"><g class=\"fills\"/><g class=\"errorbars\"/><g class=\"lines\"><path class=\"js-line\" d=\"M-62.15,250.38L-59.25,249.17L-56.24,250.67L-53.33,251.29L-50.33,248.89L-47.32,246.64L-44.41,249.62L-38.5,248.96L-35.49,250.55L-32.48,252.34L-29.67,249.94L-23.76,249.61L-20.75,247.43L-17.84,248.43L-14.84,247.72L-11.83,246.1L-8.92,246.55L-5.91,246.9L-3.01,246.06L0,248.65L3.01,250L5.72,248.85L8.73,248.53L11.64,248.99L14.64,247.83L17.55,247.54L20.56,246.35L26.47,240.97L29.48,238.22L35.39,228.84L38.4,227.12L41.11,225.05L44.12,218.29L47.03,212.15L50.03,220.77L52.94,216.76L55.95,218.24L58.95,222.33L61.86,223.95L64.87,220.01L67.78,221.27L70.78,220.72L73.79,215.97L76.51,218.56L79.51,219.2L82.42,220.54L85.43,223.84L88.34,225.07L91.34,221.02L94.35,216.78L97.26,217.07L100.26,210.27L103.17,208.05L106.18,198.27L109.18,198.16L111.99,194.01L115,201.74L117.91,206.33L120.92,206.45L123.82,201.87L126.83,204.8L129.84,197.71L132.75,179.66L135.75,181.78L138.66,175.06L141.67,168.82L144.67,149.21L147.39,156.27L150.39,172L156.31,179.48L159.22,181.45L162.22,184.1L165.23,181.96L168.14,182.59L171.14,174.33L174.05,171.06L177.06,174.53L180.06,173.12L182.78,174.89L185.79,172.8L188.69,156.03L191.7,149.89L194.61,159.15L197.62,160.36L200.62,160.09L206.54,156.56L209.45,154.58L212.45,159.02L215.46,159.28L218.17,154.02L221.18,155.41L230,148.37L233.01,124.72L236.01,118.36L238.92,128.29L241.93,119.36L244.84,129.16L247.84,133.83L250.85,130.26L253.66,133.91L256.67,133.54L259.58,133.88L262.58,133.38L265.49,138.59L268.5,138.13L271.5,124.19L274.41,122.12L280.33,131.66L283.33,133.79L286.34,135.2L289.05,139.47L292.06,151.62L294.97,151.91L297.97,152.52L300.88,154.42L303.89,144.91L306.9,149.13L309.8,156.85L312.81,158.39L315.72,159.08L318.73,154.37L321.73,149.5L324.45,147.17L327.45,155.57L330.36,156.81L333.37,158.75L336.28,155.37L339.28,155.88L342.29,158.51L345.2,155.78L348.2,159.31L354.12,138.29L357.12,135.59L359.84,141.07L362.84,138.73L365.75,141.78L368.76,140.35L371.67,141.19L374.67,140.52L377.68,133.42L380.59,131.95L383.59,141.73L386.5,146.69L392.52,123.65L395.33,125.93L398.33,130.45L401.24,119.06L404.25,119.1L407.16,113.32L410.16,115.48L413.17,116.55L416.08,125.8L419.08,128.15L421.99,137L425,133.24L428.01,131.66L430.72,131.14L433.73,123.78L436.63,124.54L439.64,125.42L442.55,134.44L448.56,127.35L451.47,128.05L454.48,123.72L457.39,126.92L466.11,120.94L469.12,117.72L472.03,118.2L475.03,120.68L480.95,128.49L483.95,125.83L486.86,120.69L489.87,123.45L492.78,117.75L495.78,110.03L498.79,105.28L501.5,106.6L504.51,109.64L507.42,105.24L510.43,93.37L513.33,85.85L516.34,65.01L519.35,64.28L522.26,66.41L525.26,71.56L528.17,72.21L531.18,57.77L534.18,44.74L536.99,26.69L540,15.64\" style=\"vector-effect: non-scaling-stroke; fill: none; stroke: rgb(34, 139, 34); stroke-opacity: 1; stroke-width: 2px; opacity: 1;\"/></g><g class=\"points\"/><g class=\"text\"/></g></g></g><g class=\"overplot\"/><path class=\"xlines-above crisp\" d=\"M0,0\" style=\"fill: none;\"/><path class=\"ylines-above crisp\" d=\"M0,0\" style=\"fill: none;\"/><g class=\"overlines-above\"/><g class=\"xaxislayer-above\"><g class=\"xtick\"><text text-anchor=\"start\" x=\"0\" y=\"383\" transform=\"translate(80,0) rotate(40,0,377)\" style=\"font-family: 'Open Sans', verdana, arial, sans-serif; font-size: 12px; fill: rgb(42, 63, 95); fill-opacity: 1; white-space: pre;\">2005</text></g><g class=\"xtick\"><text text-anchor=\"start\" x=\"0\" y=\"383\" transform=\"translate(115.39,0) rotate(40,0,377)\" style=\"font-family: 'Open Sans', verdana, arial, sans-serif; font-size: 12px; fill: rgb(42, 63, 95); fill-opacity: 1; white-space: pre;\">2006</text></g><g class=\"xtick\"><text text-anchor=\"start\" x=\"0\" y=\"383\" transform=\"translate(150.78,0) rotate(40,0,377)\" style=\"font-family: 'Open Sans', verdana, arial, sans-serif; font-size: 12px; fill: rgb(42, 63, 95); fill-opacity: 1; white-space: pre;\">2007</text></g><g class=\"xtick\"><text text-anchor=\"start\" x=\"0\" y=\"383\" transform=\"translate(186.18,0) rotate(40,0,377)\" style=\"font-family: 'Open Sans', verdana, arial, sans-serif; font-size: 12px; fill: rgb(42, 63, 95); fill-opacity: 1; white-space: pre;\">2008</text></g><g class=\"xtick\"><text text-anchor=\"start\" x=\"0\" y=\"383\" transform=\"translate(221.67,0) rotate(40,0,377)\" style=\"font-family: 'Open Sans', verdana, arial, sans-serif; font-size: 12px; fill: rgb(42, 63, 95); fill-opacity: 1; white-space: pre;\">2009</text></g><g class=\"xtick\"><text text-anchor=\"start\" x=\"0\" y=\"383\" transform=\"translate(257.06,0) rotate(40,0,377)\" style=\"font-family: 'Open Sans', verdana, arial, sans-serif; font-size: 12px; fill: rgb(42, 63, 95); fill-opacity: 1; white-space: pre;\">2010</text></g><g class=\"xtick\"><text text-anchor=\"start\" x=\"0\" y=\"383\" transform=\"translate(292.45,0) rotate(40,0,377)\" style=\"font-family: 'Open Sans', verdana, arial, sans-serif; font-size: 12px; fill: rgb(42, 63, 95); fill-opacity: 1; white-space: pre;\">2011</text></g><g class=\"xtick\"><text text-anchor=\"start\" x=\"0\" y=\"383\" transform=\"translate(327.84000000000003,0) rotate(40,0,377)\" style=\"font-family: 'Open Sans', verdana, arial, sans-serif; font-size: 12px; fill: rgb(42, 63, 95); fill-opacity: 1; white-space: pre;\">2012</text></g><g class=\"xtick\"><text text-anchor=\"start\" x=\"0\" y=\"383\" transform=\"translate(363.33,0) rotate(40,0,377)\" style=\"font-family: 'Open Sans', verdana, arial, sans-serif; font-size: 12px; fill: rgb(42, 63, 95); fill-opacity: 1; white-space: pre;\">2013</text></g><g class=\"xtick\"><text text-anchor=\"start\" x=\"0\" y=\"383\" transform=\"translate(398.73,0) rotate(40,0,377)\" style=\"font-family: 'Open Sans', verdana, arial, sans-serif; font-size: 12px; fill: rgb(42, 63, 95); fill-opacity: 1; white-space: pre;\">2014</text></g><g class=\"xtick\"><text text-anchor=\"start\" x=\"0\" y=\"383\" transform=\"translate(434.12,0) rotate(40,0,377)\" style=\"font-family: 'Open Sans', verdana, arial, sans-serif; font-size: 12px; fill: rgb(42, 63, 95); fill-opacity: 1; white-space: pre;\">2015</text></g><g class=\"xtick\"><text text-anchor=\"start\" x=\"0\" y=\"383\" transform=\"translate(469.51,0) rotate(40,0,377)\" style=\"font-family: 'Open Sans', verdana, arial, sans-serif; font-size: 12px; fill: rgb(42, 63, 95); fill-opacity: 1; white-space: pre;\">2016</text></g><g class=\"xtick\"><text text-anchor=\"start\" x=\"0\" y=\"383\" transform=\"translate(505,0) rotate(40,0,377)\" style=\"font-family: 'Open Sans', verdana, arial, sans-serif; font-size: 12px; fill: rgb(42, 63, 95); fill-opacity: 1; white-space: pre;\">2017</text></g><g class=\"xtick\"><text text-anchor=\"start\" x=\"0\" y=\"383\" transform=\"translate(540.39,0) rotate(40,0,377)\" style=\"font-family: 'Open Sans', verdana, arial, sans-serif; font-size: 12px; fill: rgb(42, 63, 95); fill-opacity: 1; white-space: pre;\">2018</text></g><g class=\"xtick\"><text text-anchor=\"start\" x=\"0\" y=\"383\" transform=\"translate(575.78,0) rotate(40,0,377)\" style=\"font-family: 'Open Sans', verdana, arial, sans-serif; font-size: 12px; fill: rgb(42, 63, 95); fill-opacity: 1; white-space: pre;\">2019</text></g><g class=\"xtick\"><text text-anchor=\"start\" x=\"0\" y=\"383\" transform=\"translate(611.18,0) rotate(40,0,377)\" style=\"font-family: 'Open Sans', verdana, arial, sans-serif; font-size: 12px; fill: rgb(42, 63, 95); fill-opacity: 1; white-space: pre;\">2020</text></g></g><g class=\"yaxislayer-above\"><g class=\"ytick\"><text text-anchor=\"end\" x=\"79\" y=\"4.199999999999999\" transform=\"translate(0,354.65)\" style=\"font-family: 'Open Sans', verdana, arial, sans-serif; font-size: 12px; fill: rgb(42, 63, 95); fill-opacity: 1; white-space: pre;\">500</text></g><g class=\"ytick\"><text text-anchor=\"end\" x=\"79\" y=\"4.199999999999999\" transform=\"translate(0,299.28)\" style=\"font-family: 'Open Sans', verdana, arial, sans-serif; font-size: 12px; fill: rgb(42, 63, 95); fill-opacity: 1; white-space: pre;\">1000</text></g><g class=\"ytick\"><text text-anchor=\"end\" x=\"79\" y=\"4.199999999999999\" transform=\"translate(0,243.91)\" style=\"font-family: 'Open Sans', verdana, arial, sans-serif; font-size: 12px; fill: rgb(42, 63, 95); fill-opacity: 1; white-space: pre;\">1500</text></g><g class=\"ytick\"><text text-anchor=\"end\" x=\"79\" y=\"4.199999999999999\" transform=\"translate(0,188.55)\" style=\"font-family: 'Open Sans', verdana, arial, sans-serif; font-size: 12px; fill: rgb(42, 63, 95); fill-opacity: 1; white-space: pre;\">2000</text></g><g class=\"ytick\"><text text-anchor=\"end\" x=\"79\" y=\"4.199999999999999\" transform=\"translate(0,133.18)\" style=\"font-family: 'Open Sans', verdana, arial, sans-serif; font-size: 12px; fill: rgb(42, 63, 95); fill-opacity: 1; white-space: pre;\">2500</text></g></g><g class=\"overaxes-above\"/></g></g><g class=\"polarlayer\"/><g class=\"ternarylayer\"/><g class=\"geolayer\"/><g class=\"funnelarealayer\"/><g class=\"pielayer\"/><g class=\"treemaplayer\"/><g class=\"sunburstlayer\"/><g class=\"glimages\"/><defs id=\"topdefs-ce923f\"><g class=\"clips\"/><clipPath id=\"legendce923f\"><rect width=\"219\" height=\"67\" x=\"0\" y=\"0\"/></clipPath></defs><g class=\"layer-above\"><g class=\"imagelayer\"/><g class=\"shapelayer\"/></g><g class=\"infolayer\"><g class=\"legend\" pointer-events=\"all\" transform=\"translate(404, 303)\"><rect class=\"bg\" shape-rendering=\"crispEdges\" width=\"219\" height=\"67\" x=\"0\" y=\"0\" style=\"stroke: rgb(68, 68, 68); stroke-opacity: 1; fill: rgb(255, 255, 255); fill-opacity: 1; stroke-width: 0px;\"/><g class=\"scrollbox\" transform=\"translate(0, 0)\" clip-path=\"url('#legendce923f')\"><g class=\"groups\"><g class=\"traces\" transform=\"translate(0, 14.5)\" style=\"opacity: 1;\"><text class=\"legendtext user-select-none\" text-anchor=\"start\" x=\"40\" y=\"4.680000000000001\" style=\"font-family: 'Open Sans', verdana, arial, sans-serif; font-size: 12px; fill: rgb(42, 63, 95); fill-opacity: 1; white-space: pre;\">Price</text><g class=\"layers\" style=\"opacity: 1;\"><g class=\"legendfill\"/><g class=\"legendlines\"><path class=\"js-line\" d=\"M5,0h30\" style=\"fill: none; stroke: rgb(34, 139, 34); stroke-opacity: 1; stroke-width: 2px;\"/></g><g class=\"legendsymbols\"><g class=\"legendpoints\"/></g></g><rect class=\"legendtoggle\" pointer-events=\"all\" x=\"0\" y=\"-9.5\" width=\"213.390625\" height=\"19\" style=\"cursor: pointer; fill: rgb(0, 0, 0); fill-opacity: 0;\"/></g><g class=\"traces\" transform=\"translate(0, 33.5)\" style=\"opacity: 1;\"><text class=\"legendtext user-select-none\" text-anchor=\"start\" x=\"40\" y=\"4.680000000000001\" style=\"font-family: 'Open Sans', verdana, arial, sans-serif; font-size: 12px; fill: rgb(42, 63, 95); fill-opacity: 1; white-space: pre;\">2-standard deviation bounds</text><g class=\"layers\"><g class=\"legendfill\"><path class=\"js-fill\" d=\"M5,-2h30v6h-30z\" style=\"stroke-width: 0; fill: rgb(153, 50, 204); fill-opacity: 0.4;\"/></g><g class=\"legendlines\"><path class=\"js-line\" d=\"M5,-2h30\" style=\"fill: none; stroke: rgb(153, 50, 204); stroke-opacity: 1; stroke-width: 2px;\"/></g><g class=\"legendsymbols\"><g class=\"legendpoints\"/></g></g><rect class=\"legendtoggle\" pointer-events=\"all\" x=\"0\" y=\"-9.5\" width=\"213.390625\" height=\"19\" style=\"cursor: pointer; fill: rgb(0, 0, 0); fill-opacity: 0;\"/></g><g class=\"traces\" transform=\"translate(0, 52.5)\" style=\"opacity: 1;\"><text class=\"legendtext user-select-none\" text-anchor=\"start\" x=\"40\" y=\"4.680000000000001\" style=\"font-family: 'Open Sans', verdana, arial, sans-serif; font-size: 12px; fill: rgb(42, 63, 95); fill-opacity: 1; white-space: pre;\">10 month moving average</text><g class=\"layers\" style=\"opacity: 1;\"><g class=\"legendfill\"/><g class=\"legendlines\"><path class=\"js-line\" d=\"M5,0h30\" style=\"fill: none; stroke: rgb(0, 0, 205); stroke-opacity: 1; stroke-width: 1.5px;\"/></g><g class=\"legendsymbols\"><g class=\"legendpoints\"/></g></g><rect class=\"legendtoggle\" pointer-events=\"all\" x=\"0\" y=\"-9.5\" width=\"213.390625\" height=\"19\" style=\"cursor: pointer; fill: rgb(0, 0, 0); fill-opacity: 0;\"/></g></g></g><rect class=\"scrollbar\" rx=\"20\" ry=\"3\" width=\"0\" height=\"0\" x=\"0\" y=\"0\" style=\"fill: rgb(128, 139, 164); fill-opacity: 1;\"/></g><g class=\"g-gtitle\"><text class=\"gtitle\" x=\"35\" y=\"50\" text-anchor=\"start\" dy=\"0em\" style=\"font-family: 'Open Sans', verdana, arial, sans-serif; font-size: 17px; fill: rgb(42, 63, 95); opacity: 1; font-weight: normal; white-space: pre;\">Bollinger bands for Gold price in AUD</text></g><g class=\"g-xtitle\"/><g class=\"g-ytitle\"><text class=\"ytitle\" transform=\"rotate(-90,23.684375000000003,235)\" x=\"23.684375000000003\" y=\"235\" text-anchor=\"middle\" style=\"font-family: 'Open Sans', verdana, arial, sans-serif; font-size: 14px; fill: rgb(42, 63, 95); opacity: 1; font-weight: normal; white-space: pre;\">$AUD per ounce</text></g></g></svg>"
     },
     "metadata": {}
    }
   ],
   "source": [
    "# Gold Bollinger\n",
    "dfs = df[120:]\n",
    "import indicators as idc\n",
    "bbp = idc.get_sma(dfs['Gold AUD'],lookback=10)\n",
    "bb_upper = idc.get_bb_upper(dfs['Gold AUD'],lookback=10)\n",
    "bb_lower = idc.get_bb_lower(dfs['Gold AUD'],lookback=10)\n",
    "price_trace = go.Scatter(x=dfs[10:].index, y=dfs['Gold AUD'][10:], \\\n",
    "                    mode='lines',\n",
    "                    name='Price', line = {'color':'forestgreen'})\n",
    "bbp_trace = go.Scatter(x=bbp.index, y=bbp, \\\n",
    "                    mode='lines',\n",
    "                    name='10 month moving average', line = {'color':'mediumblue','width':1.5})\n",
    "bb_upper_trace = go.Scatter(x=bbp.index, y=bb_upper, \\\n",
    "                    mode='lines',\n",
    "                    name='2-standard deviation bounds',fill='tonexty', fillcolor= 'rgba(153,50, 204, 0.4)',line = {'color':'darkorchid'})\n",
    "bb_lower_trace = go.Scatter(x=bbp.index, y=bb_lower, \\\n",
    "                    mode='lines',\n",
    "                    name='', line = {'color':'darkorchid'},showlegend=False)\n",
    "traces = [  bbp_trace,bb_lower_trace, bb_upper_trace,price_trace]\n",
    "fig_accum_r = go.Figure(data=traces,\n",
    "    layout={\n",
    "        'title':\"Bollinger bands for Gold price in AUD\", \"yaxis_title\": \"$AUD per ounce\",\n",
    "        'xaxis': {'range':['2005-01-01','2020-04-01'],  'nticks':20, 'tickangle':40},\n",
    "        'legend': {'x':0.6,'y':0}\n",
    "    }\n",
    ")\n",
    "fig_accum_r.show(\"svg\")"
   ]
  },
  {
   "cell_type": "markdown",
   "metadata": {},
   "source": [
    "## Gold price movement\n",
    "As can be expected, when stock price drops, gold picks up, and it already exceeds the upper Bollinger band as seen above."
   ]
  },
  {
   "cell_type": "code",
   "execution_count": 9,
   "metadata": {},
   "outputs": [
    {
     "output_type": "display_data",
     "data": {
      "image/svg+xml": "<svg class=\"main-svg\" xmlns=\"http://www.w3.org/2000/svg\" xmlns:xlink=\"http://www.w3.org/1999/xlink\" width=\"700\" height=\"450\" style=\"\" viewBox=\"0 0 700 450\"><rect x=\"0\" y=\"0\" width=\"700\" height=\"450\" style=\"fill: rgb(255, 255, 255); fill-opacity: 1;\"/><defs id=\"defs-2ea89f\"><g class=\"clips\"><clipPath id=\"clip2ea89fxyplot\" class=\"plotclip\"><rect width=\"540\" height=\"270\"/></clipPath><clipPath class=\"axesclip\" id=\"clip2ea89fx\"><rect x=\"80\" y=\"0\" width=\"540\" height=\"450\"/></clipPath><clipPath class=\"axesclip\" id=\"clip2ea89fy\"><rect x=\"0\" y=\"100\" width=\"700\" height=\"270\"/></clipPath><clipPath class=\"axesclip\" id=\"clip2ea89fxy\"><rect x=\"80\" y=\"100\" width=\"540\" height=\"270\"/></clipPath></g><g class=\"gradients\"/></defs><g class=\"bglayer\"><rect class=\"bg\" x=\"80\" y=\"100\" width=\"540\" height=\"270\" style=\"fill: rgb(229, 236, 246); fill-opacity: 1; stroke-width: 0;\"/></g><g class=\"layer-below\"><g class=\"imagelayer\"/><g class=\"shapelayer\"/></g><g class=\"cartesianlayer\"><g class=\"subplot xy\"><g class=\"layer-subplot\"><g class=\"shapelayer\"/><g class=\"imagelayer\"/></g><g class=\"gridlayer\"><g class=\"x\"><path class=\"xgrid crisp\" transform=\"translate(115.39,0)\" d=\"M0,100v270\" style=\"stroke: rgb(255, 255, 255); stroke-opacity: 1; stroke-width: 1px;\"/><path class=\"xgrid crisp\" transform=\"translate(150.78,0)\" d=\"M0,100v270\" style=\"stroke: rgb(255, 255, 255); stroke-opacity: 1; stroke-width: 1px;\"/><path class=\"xgrid crisp\" transform=\"translate(186.18,0)\" d=\"M0,100v270\" style=\"stroke: rgb(255, 255, 255); stroke-opacity: 1; stroke-width: 1px;\"/><path class=\"xgrid crisp\" transform=\"translate(221.67,0)\" d=\"M0,100v270\" style=\"stroke: rgb(255, 255, 255); stroke-opacity: 1; stroke-width: 1px;\"/><path class=\"xgrid crisp\" transform=\"translate(257.06,0)\" d=\"M0,100v270\" style=\"stroke: rgb(255, 255, 255); stroke-opacity: 1; stroke-width: 1px;\"/><path class=\"xgrid crisp\" transform=\"translate(292.45,0)\" d=\"M0,100v270\" style=\"stroke: rgb(255, 255, 255); stroke-opacity: 1; stroke-width: 1px;\"/><path class=\"xgrid crisp\" transform=\"translate(327.84000000000003,0)\" d=\"M0,100v270\" style=\"stroke: rgb(255, 255, 255); stroke-opacity: 1; stroke-width: 1px;\"/><path class=\"xgrid crisp\" transform=\"translate(363.33,0)\" d=\"M0,100v270\" style=\"stroke: rgb(255, 255, 255); stroke-opacity: 1; stroke-width: 1px;\"/><path class=\"xgrid crisp\" transform=\"translate(398.73,0)\" d=\"M0,100v270\" style=\"stroke: rgb(255, 255, 255); stroke-opacity: 1; stroke-width: 1px;\"/><path class=\"xgrid crisp\" transform=\"translate(434.12,0)\" d=\"M0,100v270\" style=\"stroke: rgb(255, 255, 255); stroke-opacity: 1; stroke-width: 1px;\"/><path class=\"xgrid crisp\" transform=\"translate(469.51,0)\" d=\"M0,100v270\" style=\"stroke: rgb(255, 255, 255); stroke-opacity: 1; stroke-width: 1px;\"/><path class=\"xgrid crisp\" transform=\"translate(505,0)\" d=\"M0,100v270\" style=\"stroke: rgb(255, 255, 255); stroke-opacity: 1; stroke-width: 1px;\"/><path class=\"xgrid crisp\" transform=\"translate(540.39,0)\" d=\"M0,100v270\" style=\"stroke: rgb(255, 255, 255); stroke-opacity: 1; stroke-width: 1px;\"/><path class=\"xgrid crisp\" transform=\"translate(575.78,0)\" d=\"M0,100v270\" style=\"stroke: rgb(255, 255, 255); stroke-opacity: 1; stroke-width: 1px;\"/><path class=\"xgrid crisp\" transform=\"translate(611.18,0)\" d=\"M0,100v270\" style=\"stroke: rgb(255, 255, 255); stroke-opacity: 1; stroke-width: 1px;\"/></g><g class=\"y\"><path class=\"ygrid crisp\" transform=\"translate(0,330.36)\" d=\"M80,0h540\" style=\"stroke: rgb(255, 255, 255); stroke-opacity: 1; stroke-width: 1px;\"/><path class=\"ygrid crisp\" transform=\"translate(0,262.19)\" d=\"M80,0h540\" style=\"stroke: rgb(255, 255, 255); stroke-opacity: 1; stroke-width: 1px;\"/><path class=\"ygrid crisp\" transform=\"translate(0,194.03)\" d=\"M80,0h540\" style=\"stroke: rgb(255, 255, 255); stroke-opacity: 1; stroke-width: 1px;\"/><path class=\"ygrid crisp\" transform=\"translate(0,125.86)\" d=\"M80,0h540\" style=\"stroke: rgb(255, 255, 255); stroke-opacity: 1; stroke-width: 1px;\"/></g></g><g class=\"zerolinelayer\"/><path class=\"xlines-below\"/><path class=\"ylines-below\"/><g class=\"overlines-below\"/><g class=\"xaxislayer-below\"/><g class=\"yaxislayer-below\"/><g class=\"overaxes-below\"/><g class=\"plot\" transform=\"translate(80, 100)\" clip-path=\"url('#clip2ea89fxyplot')\"><g class=\"scatterlayer mlayer\"><g class=\"trace scatter tracea15171\" style=\"stroke-miterlimit: 2; opacity: 1;\"><g class=\"fills\"/><g class=\"errorbars\"/><g class=\"lines\"><path class=\"js-line\" d=\"M-65.16,242.59L-47.32,246.69L-44.41,247.39L-38.5,248.22L-35.49,247.77L-29.67,245.57L-26.67,243.73L-14.84,240.32L-11.83,239.04L-5.91,236.59L-3.01,235.91L3.01,236.93L5.72,236.31L14.64,235.42L17.55,235.28L23.56,235.84L26.47,235.22L32.39,232.05L35.39,230.02L38.4,227.54L41.11,224.05L47.03,213.23L50.03,209.58L58.95,198.59L61.86,196.04L67.78,190.12L70.78,188.73L73.79,188.28L76.51,188.95L82.42,186.9L85.43,187.15L94.35,188.89L97.26,190.11L100.26,190.09L103.17,191.03L109.18,188.19L111.99,184.67L123.82,175.96L126.83,174.99L132.75,176.66L135.75,178.78L141.67,184.37L144.67,183.12L147.39,181.93L150.39,182.14L153.3,182.43L156.31,181.33L162.22,178.95L165.23,176.23L171.14,171.97L174.05,172.72L180.06,172.62L182.78,172.33L185.79,171.46L188.69,168.29L191.7,165.26L194.61,164.24L200.62,161.58L203.53,158.66L206.54,153.62L209.45,145.64L215.46,131.46L218.17,121.81L224.09,99.93L227.09,90.84L236.01,64.73L238.92,63.45L241.93,60.59L244.84,60.9L247.84,64.89L250.85,70.32L256.67,74.71L259.58,79.1L265.49,93.43L268.5,96.23L271.5,96.52L274.41,95.05L277.42,93.73L280.33,94.55L286.34,96.41L289.05,97.03L297.97,105.34L300.88,112.71L315.72,138.44L318.73,142.1L330.36,144.42L333.37,146.49L345.2,151.85L348.2,154.58L351.11,156.99L354.12,158.12L362.84,157.71L365.75,158.39L371.67,158.72L374.67,158.12L380.59,155.04L383.59,155.64L386.5,157.14L389.51,157.81L398.33,158.04L401.24,156.15L404.25,154.27L407.16,150.47L419.08,139.54L421.99,138.8L428.01,136.05L430.72,136.08L433.73,135.55L436.63,138.21L439.64,140.48L442.55,143.68L448.56,145.83L451.47,146.15L454.48,146.28L457.39,147.74L460.39,148.77L463.4,150.7L469.12,152.15L472.03,151.33L475.03,150.87L477.94,151.32L480.95,152.18L483.95,153.89L492.78,156.01L495.78,155.62L501.5,155.44L504.51,156.04L507.42,156.16L510.43,155.41L513.33,153.53L516.34,150.26L522.26,141.86L525.26,139.56L528.17,137.69L531.18,134.57L534.18,130.69L536.99,128.67L540,127.13\" style=\"vector-effect: non-scaling-stroke; fill: none; stroke: rgb(0, 0, 205); stroke-opacity: 1; stroke-width: 1.5px; opacity: 1;\"/></g><g class=\"points\"/><g class=\"text\"/></g><g class=\"trace scatter trace601a66\" style=\"stroke-miterlimit: 2;\"><g class=\"fills\"><g><path class=\"js-fill\" d=\"M-65.16,237.31L-56.24,238.83L-53.33,239.79L-44.41,241.9L-41.4,243.86L-38.5,244.32L-35.49,242.5L-32.48,240.8L-29.67,234.63L-26.67,231.59L-23.76,231.43L-11.83,230L-8.92,229.51L-5.91,228.67L-3.01,228.98L8.73,231.14L11.64,231.29L17.55,230.91L20.56,231.66L23.56,232.61L26.47,229.87L29.48,226.57L32.39,220.85L38.4,208.96L41.11,200.15L47.03,172.4L50.03,171.14L52.94,171.12L55.95,170.14L61.86,173.07L64.87,173.46L70.78,174.95L73.79,173.27L76.51,175.33L79.51,175.85L82.42,176.89L85.43,176.71L91.34,175.38L94.35,175.91L97.26,177.45L100.26,177.41L103.17,181.55L106.18,176.35L109.18,168.44L111.99,155.82L115,152.86L117.91,152.42L123.82,153.05L126.83,155L132.75,151.65L135.75,150.99L138.66,153.43L141.67,163.62L144.67,157.62L147.39,153.97L153.3,155.07L156.31,153.56L168.14,155.78L171.14,155.14L174.05,158.21L177.06,158.77L182.78,158.61L185.79,157.15L191.7,150.06L194.61,148.76L197.62,147.91L200.62,144.09L203.53,135.19L206.54,118.37L209.45,98.99L212.45,89.24L215.46,77.1L218.17,52.66L221.18,21.84L224.09,15.47L227.09,15.79L230,16.88L233.01,13.84L236.01,13.5L238.92,15.2L241.93,20.26L244.84,19.51L247.84,17.82L250.85,30.45L253.66,31.92L256.67,32.69L259.58,35.42L265.49,67.77L268.5,69.19L271.5,70.42L274.41,66.68L277.42,64.55L280.33,66.43L283.33,68.37L286.34,69.27L289.05,69.01L292.06,63.74L297.97,54.08L300.88,57.77L309.8,88.42L312.81,98.93L318.73,128.09L321.73,130.21L324.45,130.63L327.45,129.63L330.36,128.66L333.37,131.51L336.28,136.3L339.28,137.96L342.29,137.67L345.2,136.18L348.2,134.99L351.11,139.36L354.12,143.27L357.12,142.49L362.84,142.35L365.75,144.71L371.67,145.34L374.67,145.48L377.68,148.93L380.59,148.84L392.52,148.41L395.33,149.42L398.33,148.85L401.24,142.14L404.25,137.3L407.16,122.15L410.16,114.59L413.17,109.61L421.99,112.61L425,114.53L428.01,116.06L430.72,116.06L433.73,115.74L436.63,121.95L442.55,131.57L445.56,131.96L448.56,132.9L451.47,132.92L454.48,133.07L457.39,134.6L460.39,136.29L463.4,142.43L469.12,146.04L472.03,146.26L475.03,145.59L477.94,145.87L483.95,144.8L486.86,144.76L492.78,144.95L495.78,143.96L498.79,142.79L501.5,143.32L504.51,144.95L507.42,145.14L510.43,144.21L513.33,142.14L519.35,118.49L522.26,112.82L531.18,104.33L534.18,101.77L540,108.5L540,145.76L536.99,152.41L534.18,159.61L531.18,164.81L528.17,167.63L519.35,172.7L516.34,170.4L513.33,164.92L510.43,166.61L501.5,167.57L498.79,167.73L489.87,166.41L486.86,163.94L483.95,162.98L480.95,159.37L477.94,156.77L475.03,156.15L472.03,156.4L469.12,158.25L463.4,158.97L460.39,161.25L448.56,158.77L445.56,158.02L442.55,155.79L439.64,153.36L430.72,156.1L428.01,156.04L421.99,164.99L419.08,167.16L413.17,179.01L410.16,180.98L407.16,178.79L404.25,171.25L401.24,170.15L398.33,167.23L392.52,167.14L389.51,167.13L386.5,166.06L383.59,162.55L380.59,161.25L377.68,164.05L374.67,170.77L371.67,172.09L365.75,172.07L362.84,173.07L354.12,172.97L351.11,174.62L348.2,174.17L345.2,167.52L342.29,163.01L339.28,160.18L336.28,159.43L333.37,161.48L327.45,158.22L324.45,155.57L321.73,155.43L318.73,156.1L315.72,163.5L312.81,167.57L306.9,168.26L303.89,168.94L300.88,167.64L297.97,156.6L292.06,135.44L289.05,125.06L286.34,123.55L283.33,123.03L277.42,122.91L274.41,123.42L271.5,122.61L268.5,123.27L265.49,119.09L262.58,121.46L259.58,122.78L256.67,116.74L253.66,113.05L250.85,110.2L247.84,111.97L244.84,102.29L241.93,100.91L238.92,111.7L236.01,115.96L233.01,129.83L224.09,184.39L221.18,197.07L218.17,190.95L215.46,185.83L212.45,188.67L209.45,192.28L206.54,188.88L203.53,182.12L200.62,179.07L197.62,178.68L194.61,179.73L191.7,180.46L185.79,185.78L182.78,186.05L177.06,187L174.05,187.24L171.14,188.8L168.14,191.7L165.23,197.74L162.22,203.07L156.31,209.09L153.3,209.79L147.39,209.89L144.67,208.62L141.67,205.13L138.66,209.41L135.75,206.58L132.75,201.67L129.84,198.62L126.83,194.98L123.82,198.88L120.92,203.92L115,212.1L111.99,213.52L109.18,207.94L106.18,203.65L103.17,200.52L100.26,202.77L97.26,202.77L94.35,201.87L85.43,197.58L82.42,196.92L76.51,202.57L73.79,203.29L70.78,202.51L67.78,205.86L64.87,212.43L61.86,219.02L50.03,248.02L47.03,254.07L44.12,253.55L41.11,247.94L38.4,246.13L35.39,245.03L29.48,241.07L26.47,240.58L23.56,239.07L20.56,239.5L11.64,239.79L8.73,240.42L5.72,242L3.01,243.55L0,243.5L-3.01,242.83L-8.92,245.74L-11.83,248.07L-17.84,253.24L-20.75,253.86L-26.67,255.88L-29.67,256.5L-32.48,253.5L-35.49,253.04L-50.33,252.85L-53.33,252.82L-65.16,247.86Z\" style=\"fill: rgb(153, 50, 204); fill-opacity: 0.4; stroke-width: 0;\"/></g></g><g class=\"errorbars\"/><g class=\"lines\"><path class=\"js-line\" d=\"M-65.16,247.86L-53.33,252.82L-50.33,252.85L-35.49,253.04L-32.48,253.5L-29.67,256.5L-26.67,255.88L-20.75,253.86L-17.84,253.24L-11.83,248.07L-8.92,245.74L-3.01,242.83L0,243.5L3.01,243.55L5.72,242L8.73,240.42L11.64,239.79L20.56,239.5L23.56,239.07L26.47,240.58L29.48,241.07L35.39,245.03L38.4,246.13L41.11,247.94L44.12,253.55L47.03,254.07L50.03,248.02L61.86,219.02L64.87,212.43L67.78,205.86L70.78,202.51L73.79,203.29L76.51,202.57L82.42,196.92L85.43,197.58L94.35,201.87L97.26,202.77L100.26,202.77L103.17,200.52L106.18,203.65L109.18,207.94L111.99,213.52L115,212.1L120.92,203.92L123.82,198.88L126.83,194.98L129.84,198.62L132.75,201.67L135.75,206.58L138.66,209.41L141.67,205.13L144.67,208.62L147.39,209.89L153.3,209.79L156.31,209.09L162.22,203.07L165.23,197.74L168.14,191.7L171.14,188.8L174.05,187.24L177.06,187L182.78,186.05L185.79,185.78L191.7,180.46L194.61,179.73L197.62,178.68L200.62,179.07L203.53,182.12L206.54,188.88L209.45,192.28L212.45,188.67L215.46,185.83L218.17,190.95L221.18,197.07L224.09,184.39L233.01,129.83L236.01,115.96L238.92,111.7L241.93,100.91L244.84,102.29L247.84,111.97L250.85,110.2L253.66,113.05L256.67,116.74L259.58,122.78L262.58,121.46L265.49,119.09L268.5,123.27L271.5,122.61L274.41,123.42L277.42,122.91L283.33,123.03L286.34,123.55L289.05,125.06L292.06,135.44L297.97,156.6L300.88,167.64L303.89,168.94L306.9,168.26L312.81,167.57L315.72,163.5L318.73,156.1L321.73,155.43L324.45,155.57L327.45,158.22L333.37,161.48L336.28,159.43L339.28,160.18L342.29,163.01L345.2,167.52L348.2,174.17L351.11,174.62L354.12,172.97L362.84,173.07L365.75,172.07L371.67,172.09L374.67,170.77L377.68,164.05L380.59,161.25L383.59,162.55L386.5,166.06L389.51,167.13L392.52,167.14L398.33,167.23L401.24,170.15L404.25,171.25L407.16,178.79L410.16,180.98L413.17,179.01L419.08,167.16L421.99,164.99L428.01,156.04L430.72,156.1L439.64,153.36L442.55,155.79L445.56,158.02L448.56,158.77L460.39,161.25L463.4,158.97L469.12,158.25L472.03,156.4L475.03,156.15L477.94,156.77L480.95,159.37L483.95,162.98L486.86,163.94L489.87,166.41L498.79,167.73L501.5,167.57L510.43,166.61L513.33,164.92L516.34,170.4L519.35,172.7L528.17,167.63L531.18,164.81L534.18,159.61L536.99,152.41L540,145.76\" style=\"vector-effect: non-scaling-stroke; fill: none; stroke: rgb(153, 50, 204); stroke-opacity: 1; stroke-width: 2px; opacity: 1;\"/></g><g class=\"points\"/><g class=\"text\"/></g><g class=\"trace scatter tracec4adac\" style=\"stroke-miterlimit: 2;\"><g class=\"fills\"/><g class=\"errorbars\"/><g class=\"lines\"><path class=\"js-line\" d=\"M-65.16,237.31L-56.24,238.83L-53.33,239.79L-44.41,241.9L-41.4,243.86L-38.5,244.32L-35.49,242.5L-32.48,240.8L-29.67,234.63L-26.67,231.59L-23.76,231.43L-11.83,230L-8.92,229.51L-5.91,228.67L-3.01,228.98L8.73,231.14L11.64,231.29L17.55,230.91L20.56,231.66L23.56,232.61L26.47,229.87L29.48,226.57L32.39,220.85L38.4,208.96L41.11,200.15L47.03,172.4L50.03,171.14L52.94,171.12L55.95,170.14L61.86,173.07L64.87,173.46L70.78,174.95L73.79,173.27L76.51,175.33L79.51,175.85L82.42,176.89L85.43,176.71L91.34,175.38L94.35,175.91L97.26,177.45L100.26,177.41L103.17,181.55L106.18,176.35L109.18,168.44L111.99,155.82L115,152.86L117.91,152.42L123.82,153.05L126.83,155L132.75,151.65L135.75,150.99L138.66,153.43L141.67,163.62L144.67,157.62L147.39,153.97L153.3,155.07L156.31,153.56L168.14,155.78L171.14,155.14L174.05,158.21L177.06,158.77L182.78,158.61L185.79,157.15L191.7,150.06L194.61,148.76L197.62,147.91L200.62,144.09L203.53,135.19L206.54,118.37L209.45,98.99L212.45,89.24L215.46,77.1L218.17,52.66L221.18,21.84L224.09,15.47L227.09,15.79L230,16.88L233.01,13.84L236.01,13.5L238.92,15.2L241.93,20.26L244.84,19.51L247.84,17.82L250.85,30.45L253.66,31.92L256.67,32.69L259.58,35.42L265.49,67.77L268.5,69.19L271.5,70.42L274.41,66.68L277.42,64.55L280.33,66.43L283.33,68.37L286.34,69.27L289.05,69.01L292.06,63.74L297.97,54.08L300.88,57.77L309.8,88.42L312.81,98.93L318.73,128.09L321.73,130.21L324.45,130.63L327.45,129.63L330.36,128.66L333.37,131.51L336.28,136.3L339.28,137.96L342.29,137.67L345.2,136.18L348.2,134.99L351.11,139.36L354.12,143.27L357.12,142.49L362.84,142.35L365.75,144.71L371.67,145.34L374.67,145.48L377.68,148.93L380.59,148.84L392.52,148.41L395.33,149.42L398.33,148.85L401.24,142.14L404.25,137.3L407.16,122.15L410.16,114.59L413.17,109.61L421.99,112.61L425,114.53L428.01,116.06L430.72,116.06L433.73,115.74L436.63,121.95L442.55,131.57L445.56,131.96L448.56,132.9L451.47,132.92L454.48,133.07L457.39,134.6L460.39,136.29L463.4,142.43L469.12,146.04L472.03,146.26L475.03,145.59L477.94,145.87L483.95,144.8L486.86,144.76L492.78,144.95L495.78,143.96L498.79,142.79L501.5,143.32L504.51,144.95L507.42,145.14L510.43,144.21L513.33,142.14L519.35,118.49L522.26,112.82L531.18,104.33L534.18,101.77L540,108.5\" style=\"vector-effect: non-scaling-stroke; fill: none; stroke: rgb(153, 50, 204); stroke-opacity: 1; stroke-width: 2px; opacity: 1;\"/></g><g class=\"points\"/><g class=\"text\"/></g><g class=\"trace scatter trace806797\" style=\"stroke-miterlimit: 2; opacity: 1;\"><g class=\"fills\"/><g class=\"errorbars\"/><g class=\"lines\"><path class=\"js-line\" d=\"M-62.15,248.29L-59.25,248.63L-56.24,252.1L-50.33,246.31L-47.32,245.29L-44.41,249.44L-41.4,249.24L-35.49,242.63L-32.48,242.08L-29.67,232.81L-26.67,233.77L-23.76,241.81L-20.75,240.99L-14.84,234.79L-11.83,236.36L-8.92,232.54L-5.91,232.27L-3.01,235.27L0,239.63L5.72,235.61L8.73,235.74L11.64,236.02L14.64,233.56L17.55,234.99L20.56,235.54L23.56,234.86L26.47,229.13L29.48,225.59L32.39,219.45L38.4,210.93L41.11,201.05L44.12,181.89L47.03,178.55L50.03,199L52.94,196.82L55.95,189.73L58.95,193.14L61.86,193.96L64.87,184.41L67.78,182.64L70.78,187.14L73.79,177.39L76.51,185.23L79.51,185.44L82.42,189.94L85.43,192.19L88.34,197.03L91.34,196.75L94.35,195.18L97.26,194.84L100.26,186.94L103.17,186.8L106.18,174.87L109.18,167.37L111.99,154.69L115,170.3L117.91,176.1L120.92,176.92L123.82,170.78L126.83,185.1L129.84,195.46L132.75,194.98L135.75,196.14L138.66,193.75L141.67,184.21L144.67,157.76L147.39,164.17L150.39,179.1L153.3,173.64L156.31,174.05L159.22,185.37L162.22,181.35L165.23,168.87L168.14,168.87L171.14,166.49L174.05,165.33L177.06,165.81L180.06,176.44L182.78,170.71L185.79,165.4L188.69,153.67L191.7,151.01L194.61,158.72L197.62,159.4L200.62,149.31L203.53,136.09L206.54,115.5L209.45,96.55L212.45,103.91L215.46,90.48L218.17,57.08L221.18,27.5L224.09,63.49L227.09,68.53L230,58.58L233.01,36.7L236.01,44.47L238.92,83.74L241.93,75.28L244.84,93.62L247.84,97.03L250.85,81.76L253.66,85.1L256.67,90.82L259.58,102.48L262.58,107.52L265.49,116.93L268.5,111.75L271.5,78.15L274.41,78.96L277.42,83.8L283.33,96.55L286.34,97.98L289.05,108.68L292.06,133.09L297.97,146.04L300.88,151.83L303.89,133.77L306.9,132.88L309.8,141.47L312.81,146.65L315.72,149.86L318.73,145.29L321.73,140.31L324.45,142.9L327.45,154.29L330.36,156.74L333.37,154.56L336.28,146.58L342.29,159.33L345.2,164.99L348.2,172.55L351.11,164.44L354.12,154.15L357.12,151.22L359.84,155.38L362.84,154.9L365.75,153.4L368.76,156.19L371.67,159.94L374.67,159.06L377.68,156.19L380.59,149.99L383.59,160.08L386.5,166.28L389.51,162.06L392.52,154.56L395.33,158.31L398.33,153.95L401.24,140.99L404.25,140.31L407.16,118.16L410.16,123.13L413.17,125.38L416.08,139.77L419.08,140.86L421.99,147.13L425,145.22L428.01,139.56L430.72,141.27L433.73,135L436.63,144.81L439.64,145.77L442.55,157.42L445.56,152.85L448.56,149.31L451.47,150.33L454.48,146.52L457.39,154.15L460.39,151.56L463.4,154.29L466.11,153.81L469.12,151.22L472.03,149.24L475.03,148.29L483.95,163.62L486.86,158.72L489.87,163.35L492.78,159.13L495.78,149.92L498.79,147.61L504.51,154.29L507.42,154.97L510.43,151.42L513.33,144.81L516.34,126.07L519.35,116.66L525.26,126.95L528.17,128.86L531.18,119.86L534.18,115.5L536.99,134.79L540,136.02\" style=\"vector-effect: non-scaling-stroke; fill: none; stroke: rgb(34, 139, 34); stroke-opacity: 1; stroke-width: 2px; opacity: 1;\"/></g><g class=\"points\"/><g class=\"text\"/></g></g></g><g class=\"overplot\"/><path class=\"xlines-above crisp\" d=\"M0,0\" style=\"fill: none;\"/><path class=\"ylines-above crisp\" d=\"M0,0\" style=\"fill: none;\"/><g class=\"overlines-above\"/><g class=\"xaxislayer-above\"><g class=\"xtick\"><text text-anchor=\"start\" x=\"0\" y=\"383\" transform=\"translate(80,0) rotate(40,0,377)\" style=\"font-family: 'Open Sans', verdana, arial, sans-serif; font-size: 12px; fill: rgb(42, 63, 95); fill-opacity: 1; white-space: pre;\">2005</text></g><g class=\"xtick\"><text text-anchor=\"start\" x=\"0\" y=\"383\" transform=\"translate(115.39,0) rotate(40,0,377)\" style=\"font-family: 'Open Sans', verdana, arial, sans-serif; font-size: 12px; fill: rgb(42, 63, 95); fill-opacity: 1; white-space: pre;\">2006</text></g><g class=\"xtick\"><text text-anchor=\"start\" x=\"0\" y=\"383\" transform=\"translate(150.78,0) rotate(40,0,377)\" style=\"font-family: 'Open Sans', verdana, arial, sans-serif; font-size: 12px; fill: rgb(42, 63, 95); fill-opacity: 1; white-space: pre;\">2007</text></g><g class=\"xtick\"><text text-anchor=\"start\" x=\"0\" y=\"383\" transform=\"translate(186.18,0) rotate(40,0,377)\" style=\"font-family: 'Open Sans', verdana, arial, sans-serif; font-size: 12px; fill: rgb(42, 63, 95); fill-opacity: 1; white-space: pre;\">2008</text></g><g class=\"xtick\"><text text-anchor=\"start\" x=\"0\" y=\"383\" transform=\"translate(221.67,0) rotate(40,0,377)\" style=\"font-family: 'Open Sans', verdana, arial, sans-serif; font-size: 12px; fill: rgb(42, 63, 95); fill-opacity: 1; white-space: pre;\">2009</text></g><g class=\"xtick\"><text text-anchor=\"start\" x=\"0\" y=\"383\" transform=\"translate(257.06,0) rotate(40,0,377)\" style=\"font-family: 'Open Sans', verdana, arial, sans-serif; font-size: 12px; fill: rgb(42, 63, 95); fill-opacity: 1; white-space: pre;\">2010</text></g><g class=\"xtick\"><text text-anchor=\"start\" x=\"0\" y=\"383\" transform=\"translate(292.45,0) rotate(40,0,377)\" style=\"font-family: 'Open Sans', verdana, arial, sans-serif; font-size: 12px; fill: rgb(42, 63, 95); fill-opacity: 1; white-space: pre;\">2011</text></g><g class=\"xtick\"><text text-anchor=\"start\" x=\"0\" y=\"383\" transform=\"translate(327.84000000000003,0) rotate(40,0,377)\" style=\"font-family: 'Open Sans', verdana, arial, sans-serif; font-size: 12px; fill: rgb(42, 63, 95); fill-opacity: 1; white-space: pre;\">2012</text></g><g class=\"xtick\"><text text-anchor=\"start\" x=\"0\" y=\"383\" transform=\"translate(363.33,0) rotate(40,0,377)\" style=\"font-family: 'Open Sans', verdana, arial, sans-serif; font-size: 12px; fill: rgb(42, 63, 95); fill-opacity: 1; white-space: pre;\">2013</text></g><g class=\"xtick\"><text text-anchor=\"start\" x=\"0\" y=\"383\" transform=\"translate(398.73,0) rotate(40,0,377)\" style=\"font-family: 'Open Sans', verdana, arial, sans-serif; font-size: 12px; fill: rgb(42, 63, 95); fill-opacity: 1; white-space: pre;\">2014</text></g><g class=\"xtick\"><text text-anchor=\"start\" x=\"0\" y=\"383\" transform=\"translate(434.12,0) rotate(40,0,377)\" style=\"font-family: 'Open Sans', verdana, arial, sans-serif; font-size: 12px; fill: rgb(42, 63, 95); fill-opacity: 1; white-space: pre;\">2015</text></g><g class=\"xtick\"><text text-anchor=\"start\" x=\"0\" y=\"383\" transform=\"translate(469.51,0) rotate(40,0,377)\" style=\"font-family: 'Open Sans', verdana, arial, sans-serif; font-size: 12px; fill: rgb(42, 63, 95); fill-opacity: 1; white-space: pre;\">2016</text></g><g class=\"xtick\"><text text-anchor=\"start\" x=\"0\" y=\"383\" transform=\"translate(505,0) rotate(40,0,377)\" style=\"font-family: 'Open Sans', verdana, arial, sans-serif; font-size: 12px; fill: rgb(42, 63, 95); fill-opacity: 1; white-space: pre;\">2017</text></g><g class=\"xtick\"><text text-anchor=\"start\" x=\"0\" y=\"383\" transform=\"translate(540.39,0) rotate(40,0,377)\" style=\"font-family: 'Open Sans', verdana, arial, sans-serif; font-size: 12px; fill: rgb(42, 63, 95); fill-opacity: 1; white-space: pre;\">2018</text></g><g class=\"xtick\"><text text-anchor=\"start\" x=\"0\" y=\"383\" transform=\"translate(575.78,0) rotate(40,0,377)\" style=\"font-family: 'Open Sans', verdana, arial, sans-serif; font-size: 12px; fill: rgb(42, 63, 95); fill-opacity: 1; white-space: pre;\">2019</text></g><g class=\"xtick\"><text text-anchor=\"start\" x=\"0\" y=\"383\" transform=\"translate(611.18,0) rotate(40,0,377)\" style=\"font-family: 'Open Sans', verdana, arial, sans-serif; font-size: 12px; fill: rgb(42, 63, 95); fill-opacity: 1; white-space: pre;\">2020</text></g></g><g class=\"yaxislayer-above\"><g class=\"ytick\"><text text-anchor=\"end\" x=\"79\" y=\"4.199999999999999\" transform=\"translate(0,330.36)\" style=\"font-family: 'Open Sans', verdana, arial, sans-serif; font-size: 12px; fill: rgb(42, 63, 95); fill-opacity: 1; white-space: pre;\">10</text></g><g class=\"ytick\"><text text-anchor=\"end\" x=\"79\" y=\"4.199999999999999\" transform=\"translate(0,262.19)\" style=\"font-family: 'Open Sans', verdana, arial, sans-serif; font-size: 12px; fill: rgb(42, 63, 95); fill-opacity: 1; white-space: pre;\">20</text></g><g class=\"ytick\"><text text-anchor=\"end\" x=\"79\" y=\"4.199999999999999\" transform=\"translate(0,194.03)\" style=\"font-family: 'Open Sans', verdana, arial, sans-serif; font-size: 12px; fill: rgb(42, 63, 95); fill-opacity: 1; white-space: pre;\">30</text></g><g class=\"ytick\"><text text-anchor=\"end\" x=\"79\" y=\"4.199999999999999\" transform=\"translate(0,125.86)\" style=\"font-family: 'Open Sans', verdana, arial, sans-serif; font-size: 12px; fill: rgb(42, 63, 95); fill-opacity: 1; white-space: pre;\">40</text></g></g><g class=\"overaxes-above\"/></g></g><g class=\"polarlayer\"/><g class=\"ternarylayer\"/><g class=\"geolayer\"/><g class=\"funnelarealayer\"/><g class=\"pielayer\"/><g class=\"treemaplayer\"/><g class=\"sunburstlayer\"/><g class=\"glimages\"/><defs id=\"topdefs-2ea89f\"><g class=\"clips\"/><clipPath id=\"legend2ea89f\"><rect width=\"219\" height=\"67\" x=\"0\" y=\"0\"/></clipPath></defs><g class=\"layer-above\"><g class=\"imagelayer\"/><g class=\"shapelayer\"/></g><g class=\"infolayer\"><g class=\"legend\" pointer-events=\"all\" transform=\"translate(404, 100)\"><rect class=\"bg\" shape-rendering=\"crispEdges\" width=\"219\" height=\"67\" x=\"0\" y=\"0\" style=\"stroke: rgb(68, 68, 68); stroke-opacity: 1; fill: rgb(255, 255, 255); fill-opacity: 1; stroke-width: 0px;\"/><g class=\"scrollbox\" transform=\"translate(0, 0)\" clip-path=\"url('#legend2ea89f')\"><g class=\"groups\"><g class=\"traces\" transform=\"translate(0, 14.5)\" style=\"opacity: 1;\"><text class=\"legendtext user-select-none\" text-anchor=\"start\" x=\"40\" y=\"4.680000000000001\" style=\"font-family: 'Open Sans', verdana, arial, sans-serif; font-size: 12px; fill: rgb(42, 63, 95); fill-opacity: 1; white-space: pre;\">Price</text><g class=\"layers\" style=\"opacity: 1;\"><g class=\"legendfill\"/><g class=\"legendlines\"><path class=\"js-line\" d=\"M5,0h30\" style=\"fill: none; stroke: rgb(34, 139, 34); stroke-opacity: 1; stroke-width: 2px;\"/></g><g class=\"legendsymbols\"><g class=\"legendpoints\"/></g></g><rect class=\"legendtoggle\" pointer-events=\"all\" x=\"0\" y=\"-9.5\" width=\"213.390625\" height=\"19\" style=\"cursor: pointer; fill: rgb(0, 0, 0); fill-opacity: 0;\"/></g><g class=\"traces\" transform=\"translate(0, 33.5)\" style=\"opacity: 1;\"><text class=\"legendtext user-select-none\" text-anchor=\"start\" x=\"40\" y=\"4.680000000000001\" style=\"font-family: 'Open Sans', verdana, arial, sans-serif; font-size: 12px; fill: rgb(42, 63, 95); fill-opacity: 1; white-space: pre;\">2-standard deviation bounds</text><g class=\"layers\"><g class=\"legendfill\"><path class=\"js-fill\" d=\"M5,-2h30v6h-30z\" style=\"stroke-width: 0; fill: rgb(153, 50, 204); fill-opacity: 0.4;\"/></g><g class=\"legendlines\"><path class=\"js-line\" d=\"M5,-2h30\" style=\"fill: none; stroke: rgb(153, 50, 204); stroke-opacity: 1; stroke-width: 2px;\"/></g><g class=\"legendsymbols\"><g class=\"legendpoints\"/></g></g><rect class=\"legendtoggle\" pointer-events=\"all\" x=\"0\" y=\"-9.5\" width=\"213.390625\" height=\"19\" style=\"cursor: pointer; fill: rgb(0, 0, 0); fill-opacity: 0;\"/></g><g class=\"traces\" transform=\"translate(0, 52.5)\" style=\"opacity: 1;\"><text class=\"legendtext user-select-none\" text-anchor=\"start\" x=\"40\" y=\"4.680000000000001\" style=\"font-family: 'Open Sans', verdana, arial, sans-serif; font-size: 12px; fill: rgb(42, 63, 95); fill-opacity: 1; white-space: pre;\">10 month moving average</text><g class=\"layers\" style=\"opacity: 1;\"><g class=\"legendfill\"/><g class=\"legendlines\"><path class=\"js-line\" d=\"M5,0h30\" style=\"fill: none; stroke: rgb(0, 0, 205); stroke-opacity: 1; stroke-width: 1.5px;\"/></g><g class=\"legendsymbols\"><g class=\"legendpoints\"/></g></g><rect class=\"legendtoggle\" pointer-events=\"all\" x=\"0\" y=\"-9.5\" width=\"213.390625\" height=\"19\" style=\"cursor: pointer; fill: rgb(0, 0, 0); fill-opacity: 0;\"/></g></g></g><rect class=\"scrollbar\" rx=\"20\" ry=\"3\" width=\"0\" height=\"0\" x=\"0\" y=\"0\" style=\"fill: rgb(128, 139, 164); fill-opacity: 1;\"/></g><g class=\"g-gtitle\"><text class=\"gtitle\" x=\"35\" y=\"50\" text-anchor=\"start\" dy=\"0em\" style=\"font-family: 'Open Sans', verdana, arial, sans-serif; font-size: 17px; fill: rgb(42, 63, 95); opacity: 1; font-weight: normal; white-space: pre;\">Bollinger bands for Silver price in AUD</text></g><g class=\"g-xtitle\"/><g class=\"g-ytitle\"><text class=\"ytitle\" transform=\"rotate(-90,38.934375,235)\" x=\"38.934375\" y=\"235\" text-anchor=\"middle\" style=\"font-family: 'Open Sans', verdana, arial, sans-serif; font-size: 14px; fill: rgb(42, 63, 95); opacity: 1; font-weight: normal; white-space: pre;\">$AUD per ounce</text></g></g></svg>"
     },
     "metadata": {}
    }
   ],
   "source": [
    "# Silver Bollinger\n",
    "dfs = df[120:]\n",
    "import indicators as idc\n",
    "bbp = idc.get_sma(dfs['Silver AUD'],lookback=10)\n",
    "bb_upper = idc.get_bb_upper(dfs['Silver AUD'],lookback=10)\n",
    "bb_lower = idc.get_bb_lower(dfs['Silver AUD'],lookback=10)\n",
    "price_trace = go.Scatter(x=dfs[10:].index, y=dfs['Silver AUD'][10:], \\\n",
    "                    mode='lines',\n",
    "                    name='Price', line = {'color':'forestgreen'})\n",
    "bbp_trace = go.Scatter(x=bbp.index, y=bbp, \\\n",
    "                    mode='lines',\n",
    "                    name='10 month moving average', line = {'color':'mediumblue','width':1.5})\n",
    "bb_upper_trace = go.Scatter(x=bbp.index, y=bb_upper, \\\n",
    "                    mode='lines',\n",
    "                    name='2-standard deviation bounds',fill='tonexty', fillcolor= 'rgba(153,50, 204, 0.4)',line = {'color':'darkorchid'})\n",
    "bb_lower_trace = go.Scatter(x=bbp.index, y=bb_lower, \\\n",
    "                    mode='lines',\n",
    "                    name='', line = {'color':'darkorchid'},showlegend=False)\n",
    "traces = [  bbp_trace,bb_lower_trace, bb_upper_trace,price_trace]\n",
    "fig_accum_r = go.Figure(data=traces,\n",
    "    layout={\n",
    "        \"title\":\"Bollinger bands for Silver price in AUD\", \"yaxis_title\": \"$AUD per ounce\",\n",
    "        \"xaxis\": {'range':['2005-01-01','2020-04-01'],  \"nticks\":20, \"tickangle\":40},\n",
    "        'legend': {'x':0.6,'y':1}\n",
    "    }\n",
    ")\n",
    "fig_accum_r.show(\"svg\")"
   ]
  },
  {
   "cell_type": "markdown",
   "metadata": {},
   "source": [
    "## Silver price movement\n",
    "Silver price on the other hand, is still very close to the moving average.  \n",
    "If the past is a good idicator, we saw that the peak of Silver's relative value during the GFC lagged Gold's peak by 6 months.  \n",
    "Therefore, it appears that Silver has not caught up to the growth in precious metal's price due to the recent Corona downturn, and is likely to do so in the near future.  "
   ]
  },
  {
   "cell_type": "markdown",
   "metadata": {},
   "source": [
    "## End notes\n",
    "We have only looked at the asset classes from a technical analysis's perspective and is therefore not a complete picture. But the trend indicates that the best time to buy into Gold for a quick return might have already past, and the next option is silver.  \n",
    "\n",
    "It would be intersting to conduct the same analysis for properties as well.\n"
   ]
  }
 ]
}